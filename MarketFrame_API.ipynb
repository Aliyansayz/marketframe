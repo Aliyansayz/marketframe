{
  "cells": [
    {
      "cell_type": "code",
      "execution_count": 1,
      "id": "80a68b8d",
      "metadata": {
        "colab": {
          "base_uri": "https://localhost:8080/"
        },
        "id": "80a68b8d",
        "outputId": "cc591e87-791b-4015-fad6-6c20bc3e3140",
        "collapsed": true
      },
      "outputs": [
        {
          "output_type": "stream",
          "name": "stdout",
          "text": [
            "Requirement already satisfied: yfinance in /usr/local/lib/python3.10/dist-packages (0.2.33)\n",
            "Requirement already satisfied: pandas>=1.3.0 in /usr/local/lib/python3.10/dist-packages (from yfinance) (1.5.3)\n",
            "Requirement already satisfied: numpy>=1.16.5 in /usr/local/lib/python3.10/dist-packages (from yfinance) (1.23.5)\n",
            "Requirement already satisfied: requests>=2.31 in /usr/local/lib/python3.10/dist-packages (from yfinance) (2.31.0)\n",
            "Requirement already satisfied: multitasking>=0.0.7 in /usr/local/lib/python3.10/dist-packages (from yfinance) (0.0.11)\n",
            "Requirement already satisfied: lxml>=4.9.1 in /usr/local/lib/python3.10/dist-packages (from yfinance) (4.9.3)\n",
            "Requirement already satisfied: appdirs>=1.4.4 in /usr/local/lib/python3.10/dist-packages (from yfinance) (1.4.4)\n",
            "Requirement already satisfied: pytz>=2022.5 in /usr/local/lib/python3.10/dist-packages (from yfinance) (2023.3.post1)\n",
            "Requirement already satisfied: frozendict>=2.3.4 in /usr/local/lib/python3.10/dist-packages (from yfinance) (2.3.10)\n",
            "Requirement already satisfied: peewee>=3.16.2 in /usr/local/lib/python3.10/dist-packages (from yfinance) (3.17.0)\n",
            "Requirement already satisfied: beautifulsoup4>=4.11.1 in /usr/local/lib/python3.10/dist-packages (from yfinance) (4.11.2)\n",
            "Requirement already satisfied: html5lib>=1.1 in /usr/local/lib/python3.10/dist-packages (from yfinance) (1.1)\n",
            "Requirement already satisfied: soupsieve>1.2 in /usr/local/lib/python3.10/dist-packages (from beautifulsoup4>=4.11.1->yfinance) (2.5)\n",
            "Requirement already satisfied: six>=1.9 in /usr/local/lib/python3.10/dist-packages (from html5lib>=1.1->yfinance) (1.16.0)\n",
            "Requirement already satisfied: webencodings in /usr/local/lib/python3.10/dist-packages (from html5lib>=1.1->yfinance) (0.5.1)\n",
            "Requirement already satisfied: python-dateutil>=2.8.1 in /usr/local/lib/python3.10/dist-packages (from pandas>=1.3.0->yfinance) (2.8.2)\n",
            "Requirement already satisfied: charset-normalizer<4,>=2 in /usr/local/lib/python3.10/dist-packages (from requests>=2.31->yfinance) (3.3.2)\n",
            "Requirement already satisfied: idna<4,>=2.5 in /usr/local/lib/python3.10/dist-packages (from requests>=2.31->yfinance) (3.6)\n",
            "Requirement already satisfied: urllib3<3,>=1.21.1 in /usr/local/lib/python3.10/dist-packages (from requests>=2.31->yfinance) (2.0.7)\n",
            "Requirement already satisfied: certifi>=2017.4.17 in /usr/local/lib/python3.10/dist-packages (from requests>=2.31->yfinance) (2023.11.17)\n"
          ]
        }
      ],
      "source": [
        "!pip install --upgrade yfinance"
      ]
    },
    {
      "cell_type": "code",
      "execution_count": null,
      "id": "6e308a63",
      "metadata": {
        "collapsed": true,
        "id": "6e308a63",
        "colab": {
          "base_uri": "https://localhost:8080/"
        },
        "outputId": "73e6acf9-441b-473d-acfe-b13109590a30"
      },
      "outputs": [
        {
          "output_type": "stream",
          "name": "stdout",
          "text": [
            "Requirement already satisfied: numpy in /usr/local/lib/python3.10/dist-packages (1.23.5)\n",
            "Requirement already satisfied: pandas in /usr/local/lib/python3.10/dist-packages (1.5.3)\n",
            "Requirement already satisfied: python-dateutil>=2.8.1 in /usr/local/lib/python3.10/dist-packages (from pandas) (2.8.2)\n",
            "Requirement already satisfied: pytz>=2020.1 in /usr/local/lib/python3.10/dist-packages (from pandas) (2023.3.post1)\n",
            "Requirement already satisfied: six>=1.5 in /usr/local/lib/python3.10/dist-packages (from python-dateutil>=2.8.1->pandas) (1.16.0)\n"
          ]
        }
      ],
      "source": [
        "!pip install numpy pandas"
      ]
    },
    {
      "cell_type": "code",
      "execution_count": null,
      "id": "dc824b5b",
      "metadata": {
        "id": "dc824b5b",
        "outputId": "598c96ab-30a4-4494-dca6-c1414c305cfa",
        "colab": {
          "base_uri": "https://localhost:8080/"
        },
        "collapsed": true
      },
      "outputs": [
        {
          "output_type": "stream",
          "name": "stdout",
          "text": [
            "Requirement already satisfied: plotly in /usr/local/lib/python3.10/dist-packages (5.15.0)\n",
            "Requirement already satisfied: tenacity>=6.2.0 in /usr/local/lib/python3.10/dist-packages (from plotly) (8.2.3)\n",
            "Requirement already satisfied: packaging in /usr/local/lib/python3.10/dist-packages (from plotly) (23.2)\n"
          ]
        }
      ],
      "source": [
        "!pip install plotly"
      ]
    },
    {
      "cell_type": "markdown",
      "source": [
        "# Clean Data"
      ],
      "metadata": {
        "id": "cL5bHG5WZTSp"
      },
      "id": "cL5bHG5WZTSp"
    },
    {
      "cell_type": "code",
      "source": [
        "class get_clean_data:\n",
        "\n",
        "  @classmethod\n",
        "  def get_data_np_df(cls, symbols , interval = None , period = None, step = '3H', format='pkt' ):\n",
        "      # symbols = ['BTC-USD' , 'ETH-USD' ]\n",
        "      if interval == None and period == None :\n",
        "        interval = '5m'\n",
        "        period = '1d'\n",
        "\n",
        "      data = [[0]]  * len(symbols)\n",
        "\n",
        "      for i , symbol in  enumerate(symbols):\n",
        "        bar = yf.download(tickers=f'{symbol}' , interval=f'{interval}' , period=f'{period}' )\n",
        "        data[i] =  bar\n",
        "\n",
        "      bar_list  = [ symbols , data ]\n",
        "\n",
        "      bar_list = cls.refined_df ( bar_list, step )\n",
        "\n",
        "\n",
        "      return bar_list\n",
        "\n",
        "\n",
        "  @classmethod\n",
        "  def refined_df(cls, bar_list, step  ):\n",
        "\n",
        "      symbols   = 0  # index 0 for symbols\n",
        "      values    = 1  # index 1 for ohlc\n",
        "\n",
        "      for index, df in enumerate(bar_list[values]):\n",
        "          df = df.drop('Adj Close', axis=1)\n",
        "          df = df.drop('Volume', axis =1 )\n",
        "\n",
        "          # resampled_df = df.resample(step).ohlc()\n",
        "          # resampled_df = pd.DataFrame(resampled_data)\n",
        "          np_df = df.to_records(index=True)\n",
        "\n",
        "          column = []\n",
        "\n",
        "          for name in np_df.dtype.names:\n",
        "            if name == 'Datetime':\n",
        "                column.append('index')\n",
        "            else:\n",
        "                column.append(name)\n",
        "\n",
        "          np_df.dtype.names   = tuple(column)\n",
        "          np_df['index'] = np_df['index'].astype('datetime64[h]')\n",
        "\n",
        "          # np_df['index']  =  cls.change_time( date_time_index= np_df['index'] , format= format)\n",
        "          bar_list[values][index]  =   np_df\n",
        "\n",
        "      return  bar_list\n",
        "\n",
        "\n"
      ],
      "metadata": {
        "id": "ThExt6fUO1l-"
      },
      "id": "ThExt6fUO1l-",
      "execution_count": 1,
      "outputs": []
    },
    {
      "cell_type": "markdown",
      "source": [
        "# Resample Data"
      ],
      "metadata": {
        "id": "AejqV7NKXIT_"
      },
      "id": "AejqV7NKXIT_"
    },
    {
      "cell_type": "code",
      "source": [
        "from datetime import datetime\n",
        "import pytz\n",
        "\n",
        "\"\"\"\"\n",
        "symbols = [ 'CHFJPY=X'  ]\n",
        "# symbols = [ 'BTC-USD', 'ETH-USD', 'BNB-USD', 'XRP-USD', 'SOL-USD', 'STETH-USD', 'ADA-USD', 'DOGE-USD', 'TRX-USD', 'LTC-USD' ]\n",
        "\n",
        "bar_list = get_clean_data.get_data_np_df(symbols , interval = '1H' , period = '7d' )\n",
        "\n",
        "resample = resample_data( data_list=bar_list , step=4 , rotate = True , format = 'pkt'  )\n",
        "\n",
        "resample_list = resample.run_resample_data()\n",
        "# = resample.chart_version( bar_list=bar_list, step=3, rotate = True, format = None )\n",
        "\n",
        "resample_list\n",
        "\n",
        "\"\"\"\n",
        "class resample_data:\n",
        "\n",
        "  def __init__(self, data_list , step = None, rotate = True , format = None  ):\n",
        "\n",
        "    self.data_list = data_list\n",
        "    self.step = step\n",
        "    self.rotate = rotate\n",
        "    self.format = str(format)\n",
        "\n",
        "    # self.symbols = 0\n",
        "    # self.values  = 1\n",
        "\n",
        "  def run_resample_data(self ):\n",
        "      bar_list = self.chart_version( bar_list = self.data_list , step= self.step, rotate = self.rotate , format = self.format )\n",
        "\n",
        "      return bar_list\n",
        "\n",
        "  def chart_version(self, bar_list, step=3, rotate = True, format = None ):\n",
        "\n",
        "    symbols = 0  # index 0 for symbols\n",
        "    values  = 1  # index 1 for ohlc\n",
        "\n",
        "    if rotate == True:\n",
        "\n",
        "        if format == 'pkt':\n",
        "            # Set the time zone to Pakistan Standard Time (Asia/Karachi)\n",
        "            pakistan_time_zone = pytz.timezone('Asia/Karachi')\n",
        "            # Get the current time in Pakistan\n",
        "            current_time = datetime.now(pakistan_time_zone)\n",
        "\n",
        "        else:\n",
        "             current_time = datetime.now()\n",
        "\n",
        "        version    = int(current_time.strftime('%H')) % step\n",
        "\n",
        "        for index , _ in enumerate (bar_list[values]):\n",
        "\n",
        "              bar_list[values][index] = bar_list[values][index][version:]\n",
        "    #   bar_list[values][index] as it is\n",
        "\n",
        "    bar_list = self.aggregate_interval(bar_list= bar_list , step=step, format= self.format)\n",
        "    return  bar_list\n",
        "\n",
        "\n",
        "  def aggregate_interval(self , bar_list, step=3, timezone= None, format = None ):\n",
        "\n",
        "      # step = 3\n",
        "      symbols = 0  # index 0 for symbols\n",
        "      values  = 1  # index 1 for ohlc\n",
        "\n",
        "      bar_list_resampled = [ [] ] * 2\n",
        "      bar_list_resampled[symbols] = [[]]  * len(bar_list[symbols])\n",
        "      bar_list_resampled[values]  = [[]]  * len(bar_list[symbols])\n",
        "\n",
        "      dt = np.dtype([ ('index', 'datetime64[h]' ), ('symbol', 'object'), ('Open', float), ('High', float), ('Low', float), ('Close', float) ])\n",
        "\n",
        "      for symbol, ohlc in enumerate(bar_list[values]):\n",
        "\n",
        "        if format :\n",
        "          date_index = self.change_time( np.datetime_as_string(ohlc['index'], unit='s'), format= format)\n",
        "\n",
        "        else :\n",
        "          date_index = np.array(ohlc['index'] , dtype='datetime64[h]' )\n",
        "\n",
        "\n",
        "        if step > 1 :\n",
        "            resampled = date_index[::step]\n",
        "\n",
        "        elif step == 1 :\n",
        "            resampled = date_index\n",
        "\n",
        "        # date_objects = [np.datetime64(date_str) for date_str in resampled ]\n",
        "        # resampled_dates =  np.array(date_objects, dtype='datetime64[h]')\n",
        "        select_open  = []\n",
        "        select_high  = []\n",
        "        select_low   = []\n",
        "        select_close = []\n",
        "\n",
        "        # step = 4 # i = 4 # 4 -4 # 5-4 # 8-4\n",
        "\n",
        "        for i in range(0, len(bar_list[values][symbol]), step): # logic re solved for 'step' to 'step-1'\n",
        "\n",
        "\n",
        "            select_open.append(ohlc['Open'][i:i+step][0])\n",
        "            select_high.append(max(ohlc['High'][i:i+step]))\n",
        "            select_low.append(min(ohlc['Low'][i:i+step]))\n",
        "            select_close.append(ohlc['Close'][i:i+step][-1])\n",
        "\n",
        "        data = np.empty(len(resampled), dtype=dt)\n",
        "\n",
        "        # return select_close\n",
        "        # return resampled\n",
        "        for  i in range(len(resampled)):\n",
        "\n",
        "            data[i] = ( resampled[i] ,  bar_list[symbols][symbol],   select_open[i],   select_high[i],  select_low[i], select_close[i] )\n",
        "\n",
        "        bar_list_resampled[values][symbol]  =    data\n",
        "        bar_list_resampled[symbols][symbol] =  bar_list[symbols][symbol]\n",
        "\n",
        "      return bar_list_resampled\n",
        "\n",
        "\n",
        "  def change_time(self, date_time_index, format= None):\n",
        "\n",
        "      def convert_to_local_time(datetime_str, timezone  ):\n",
        "          utc_zone = pytz.timezone('UTC')\n",
        "          timezone_zone = pytz.timezone(f'{timezone}')\n",
        "          utc_datetime = datetime.strptime(datetime_str, '%Y-%m-%dT%H:%M:%S')\n",
        "          utc_datetime = utc_zone.localize(utc_datetime)\n",
        "          local_datetime = utc_datetime.astimezone(timezone_zone)\n",
        "\n",
        "          return local_datetime.strftime('%Y-%m-%dT%H:%M:%S')\n",
        "\n",
        "      if format == 'pkt': timezone = 'Asia/Karachi'\n",
        "      else :     timezone = 'Asia/Karachi'\n",
        "      vectorized_conversion = np.vectorize(convert_to_local_time , excluded=['timezone'] )\n",
        "\n",
        "      converted = vectorized_conversion(date_time_index , timezone=timezone )\n",
        "      formatted_datetime = np.array( converted , dtype='datetime64[h]' )\n",
        "\n",
        "      return formatted_datetime\n"
      ],
      "metadata": {
        "id": "H-a1_izqXOpx"
      },
      "id": "H-a1_izqXOpx",
      "execution_count": 2,
      "outputs": []
    },
    {
      "cell_type": "markdown",
      "source": [
        "# Indicators"
      ],
      "metadata": {
        "id": "qt7kA8ByW-G-"
      },
      "id": "qt7kA8ByW-G-"
    },
    {
      "cell_type": "code",
      "source": [
        "class indicator_store:\n",
        "\n",
        "  def  shift(self, array , place):\n",
        "\n",
        "        array   =  np.array(array, dtype= np.float32)\n",
        "        shifted = np.roll(array, place)\n",
        "        shifted[0:place]  = np.nan\n",
        "        shifted[np.isnan(shifted)] = np.nanmean(shifted)\n",
        "\n",
        "        return shifted\n",
        "\n",
        "  def  smoothed(self, array, period , alpha = None):\n",
        "\n",
        "        ema = np.empty_like(array)\n",
        "        ema = np.full( ema.shape , np.nan)\n",
        "        ema[0] = np.mean(array[0] , dtype=np.float64)\n",
        "        if alpha == None:\n",
        "          alpha = 1 / ( period )\n",
        "\n",
        "        for i in range(1 , len(array) ):\n",
        "              ema[i] =  array[i] * alpha +  ( ema[i-1]  * (1-alpha) )\n",
        "        try: ema =  np.nan_to_num(ema , nan=0)\n",
        "        except: pass\n",
        "\n",
        "        return ema\n",
        "\n",
        "  # def ema (self, array, period ):\n",
        "\n",
        "  #       ema = np.empty_like(array)\n",
        "  #       ema = np.full( ema.shape  , np.nan)\n",
        "  #       ema[0] = np.mean(array[0] , dtype=np.float64)\n",
        "  #       alpha  = 2 / (period + 1)\n",
        "  #       # Calculate the EMA for each window of 14 values\n",
        "  #       for i in range(1 , len(array) ):\n",
        "  #             ema[i] = np.array( (array[i] * alpha +  ema[i-1]  * (1-alpha) ) , dtype=np.float16 )\n",
        "  #       try: ema =  np.nan_to_num(ema , nan=0)\n",
        "  #       except: pass\n",
        "\n",
        "  #       return ema\n",
        "\n",
        "\n",
        "  def ema(self, price, period):\n",
        "\n",
        "        price = np.array(price)\n",
        "        alpha = 2 / (period + 1.0)\n",
        "        alpha_reverse = 1 - alpha\n",
        "        data_length = len(price)\n",
        "\n",
        "        power_factors = alpha_reverse**(np.arange(data_length+1))\n",
        "\n",
        "        scale_factors  = 1 / power_factors[:-1]\n",
        "        initial_offset = price[0] * power_factors[1:]\n",
        "        weight_factor  = alpha * alpha_reverse**(data_length-1)\n",
        "\n",
        "        weighted_price_data = price * weight_factor * scale_factors\n",
        "        cumulative_sums = weighted_price_data.cumsum()\n",
        "        ema_values = initial_offset + cumulative_sums * scale_factors[::-1]\n",
        "\n",
        "        return ema_values\n",
        "\n",
        "  # def shift(self, array , place):\n",
        "\n",
        "  #     array =  np.array(array, dtype= np.float64)\n",
        "\n",
        "  #     shifted = np.roll(array, place)\n",
        "  #     shifted[0:place]  = 0.0\n",
        "  #     shifted[np.isnan(shifted)] = np.nanmean(shifted)\n",
        "  #     return shifted\n",
        "\n",
        "  def sma(self, array, period):\n",
        "\n",
        "      weights = np.ones(period) / period\n",
        "      arr     =  np.convolve(array, weights, mode='valid')\n",
        "\n",
        "      window = period - 1\n",
        "      sma = np.empty(window + len(arr), dtype=arr.dtype)\n",
        "      sma[:window] = np.nan * window\n",
        "      sma[window:] = arr\n",
        "      sma[np.isnan(sma)] = np.nanmean(arr[:period])\n",
        "\n",
        "      return sma\n",
        "\n",
        "    # def sma(self, array, period):\n",
        "\n",
        "    #   weights = np.ones(period) / period\n",
        "    #   arr     =  np.convolve(array, weights, mode='valid')\n",
        "\n",
        "    #   window = period - 1\n",
        "    #   sma = np.empty(window + len(arr), dtype=arr.dtype)\n",
        "    #   sma[:window] = np.nan * window\n",
        "    #   sma[window:] = arr\n",
        "    #   sma[np.isnan(sma)] = np.nanmean(arr[:period])\n",
        "\n",
        "    #   return sma\n",
        "\n",
        "  def moving_min (self, array, period ):\n",
        "      moving_min = np.empty_like(array)\n",
        "      moving_min = np.full( moving_min.shape , np.nan)\n",
        "      for i in range(period, len(array)+1 ):\n",
        "            moving_min[i-period] = np.min(array[i-period:i]  )\n",
        "      try: moving_min =  np.nan_to_num(moving_min , nan=0)\n",
        "      except: pass\n",
        "      # moving_min[np.isnan(moving_min)] = np.nanmean(moving_min)\n",
        "      return moving_min\n",
        "\n",
        "  def moving_max (self, array, period ):\n",
        "        moving_max = np.empty_like(array)\n",
        "        moving_max = np.full( moving_max.shape , np.nan )\n",
        "        # moving_max[:period] = np.max(array[:period])\n",
        "        for i in range(period, len(array)+1 ):\n",
        "              moving_max[i-period] = np.max(array[i-period:i]  )\n",
        "        try: moving_min =  np.nan_to_num(moving_min , nan=0)\n",
        "        except: pass\n",
        "        # moving_max[np.isnan(moving_max)] = np.nanmean(moving_max)\n",
        "        return moving_max\n",
        "\n",
        "  # def ema (self, array, period ):\n",
        "\n",
        "  #       ema = np.empty_like(array)\n",
        "  #       ema = np.full( ema.shape , 0.0)\n",
        "  #       ema[0] = np.mean(array[0] , dtype=np.float64)\n",
        "  #       alpha  = 2 / (period + 1)\n",
        "  #       for i in range(1 , len(array) ):\n",
        "  #             ema[i] = (array[i] * alpha +  ema[i-1]  * (1-alpha) )\n",
        "\n",
        "  #       return ema\n",
        "\n",
        "  # def moving_min (self, array, period ):\n",
        "  #     moving_min = np.empty_like(array)\n",
        "  #     moving_min = np.full( moving_min.shape , np.nan)\n",
        "  #     for i in range(period, len(array)+1 ):\n",
        "  #           moving_min[i-1] = np.min(array[i-period:i]  )\n",
        "  #     moving_min[np.isnan(moving_min)] = np.nanmean(moving_min)\n",
        "  #     return moving_min\n",
        "\n",
        "  # def moving_max (self, array, period ):\n",
        "  #       moving_max = np.empty_like(array)\n",
        "  #       moving_max = np.full( moving_max.shape , np.nan)\n",
        "  #       for i in range(period, len(array)+1 ):\n",
        "  #             moving_max[i-1] = np.max(array[i-period:i]  )\n",
        "  #       moving_max[np.isnan(moving_max)] = np.nanmean(moving_max)\n",
        "  #       return moving_max\n",
        "\n",
        "  # def moving_end (self, array, period ):\n",
        "  #       moving_end = np.empty_like(array)\n",
        "  #       moving_end = np.full( moving_end.shape , np.nan)\n",
        "\n",
        "  #       for i in range(period, len(array)+1 ):\n",
        "  #             moving_end[i-1] = array[i-1:i]\n",
        "  #       moving_end[np.isnan(moving_end)] = np.nanmean(moving_end)\n",
        "  #       return moving_end\n",
        "  # def sma(self, array, period):\n",
        "\n",
        "  #     weights = np.ones(period) / period\n",
        "  #     arr     =  np.convolve(array, weights, mode='valid')\n",
        "\n",
        "  #     window = period - 1\n",
        "  #     sma = np.empty(window + len(arr), dtype=arr.dtype)\n",
        "  #     sma[:window] = np.nan * window\n",
        "  #     sma[window:] = arr\n",
        "  #     sma[np.isnan(sma)] = np.nanmean(arr[:period])\n",
        "\n",
        "  #     return sma\n",
        "\n",
        "# _____________________________________________________________________________\n",
        "\n",
        "class ema_indicator(indicator_store):\n",
        "\n",
        "    def __init__(self, data_list = None  ):\n",
        "\n",
        "        self.data_list = data_list\n",
        "\n",
        "\n",
        "    def run(self ):\n",
        "\n",
        "      if self.data_list :\n",
        "        # constants\n",
        "        symbols = 0  # index 0 for symbols\n",
        "        values  = 1  # index 1 for ohlc\n",
        "\n",
        "        crossover_direction = [[0]]  * len(self.data_list[symbols])\n",
        "\n",
        "        # crossover_direction_list  = [  bar_list[symbols][name] , crossover_direction ]\n",
        "\n",
        "        for  symbol, ohlc in enumerate(self.data_list[values]) :\n",
        "\n",
        "              crossover,  direction     = self.crossover_and_direction( np.array(ohlc['Close'], ohlc['Open']  ) )\n",
        "              crossover_direction[symbol] =   [crossover,  direction]\n",
        "\n",
        "        crossover_direction_list  = [  self.data_list[symbols] , crossover_direction ]\n",
        "        return  crossover_direction_list\n",
        "\n",
        "\n",
        "    def crossover_and_direction_archived (self, array):\n",
        "\n",
        "      short_ema  = self.ema(array , 5 )[-1]\n",
        "      long_ema   = self.ema(array , 20 )[-1]\n",
        "\n",
        "      # excluding last element from array\n",
        "      # Caution using third last value for comparision instead second last\n",
        "\n",
        "      # Experiment for forex pairs : if crossover difficult to detect and show 0 direction we can go with candle index open vs close price\n",
        "      # if index or candle bullish then upward crossover\n",
        "      # else if index or candle bearish then downward crossover\n",
        "\n",
        "      prev_short_ema =   self.ema(array[:-1] , 5 )[-1]\n",
        "      prev_long_ema  =   self.ema(array[:-1] , 20 )[-1]\n",
        "\n",
        "      crossover  = direction  = 0\n",
        "\n",
        "      if prev_short_ema < prev_long_ema and short_ema > long_ema :\n",
        "\n",
        "            crossover = direction = 1\n",
        "\n",
        "      elif prev_short_ema > prev_long_ema and short_ema < long_ema :\n",
        "\n",
        "            crossover = direction = -1\n",
        "\n",
        "      else:\n",
        "           if   short_ema > long_ema :\n",
        "                    direction = 1\n",
        "\n",
        "           elif short_ema < long_ema  :\n",
        "                    direction = -1\n",
        "\n",
        "          #  elif short_ema ==  long_ema  :\n",
        "          #         direction =\n",
        "\n",
        "      return  crossover , direction\n",
        "\n",
        "    # def crossover_direction_lookback(self, bar_list, lookback):\n",
        "\n",
        "    #     return type(bar_list)  period\n",
        "    def crossover_and_direction(self, array_close, array_open, ema_period = [5,20] ):\n",
        "        # ema_period     =  [ 5 , 20 ]\n",
        "        short_ema  = self.ema(array_close , 5 )[-1]\n",
        "        long_ema   = self.ema(array_close , 20 )[-1]\n",
        "\n",
        "        prev_short_ema =   self.ema(array_close[:-1] , ema_period[0] )[-1]\n",
        "        prev_long_ema  =   self.ema(array_close[:-1] , ema_period[1] )[-1]\n",
        "        crossover , direction  = 0 , 0\n",
        "\n",
        "        if prev_short_ema < prev_long_ema and short_ema > long_ema :\n",
        "              crossover , direction  = 1 , 1\n",
        "\n",
        "        elif prev_short_ema > prev_long_ema and short_ema < long_ema :\n",
        "              crossover , direction  = -1 , -1\n",
        "\n",
        "        else:\n",
        "            if   short_ema > long_ema :\n",
        "                      direction = 1\n",
        "\n",
        "            elif short_ema < long_ema  :\n",
        "                    direction = -1\n",
        "            #this means :    long_ema = short_ema True\n",
        "            elif array_close[-1]  > array_open[-1]  :\n",
        "                  crossover , direction = 1 , 1\n",
        "            elif array_open[-1] > array_close[-1]   :\n",
        "                  crossover, direction = -1 , -1\n",
        "\n",
        "        return  crossover , direction\n",
        "\n",
        "\n",
        "    def  ema_lookback(self, bar_list , lookback, ema_period = [5,20] ):\n",
        "\n",
        "        symbols  = 0\n",
        "        values   = 1\n",
        "\n",
        "        emaz_list = [[0]] * len(bar_list[symbols])\n",
        "\n",
        "        for  symbol , ohlc in enumerate(bar_list[values]):\n",
        "\n",
        "            emaz = [[0]]  * lookback\n",
        "\n",
        "            start_index = len(ohlc['Close'])-lookback\n",
        "            for i in range( (len(ohlc['Close'])-lookback), (len(ohlc['Close'])), 1):\n",
        "\n",
        "                 short_ema  = self.ema(ohlc['Close'][:i] , ema_period[0] )[-1]\n",
        "                 long_ema   = self.ema(ohlc['Close'][:i] , ema_period[1] )[-1]\n",
        "                 emaz[ i-start_index ] = [ short_ema, long_ema ]\n",
        "\n",
        "            emaz_list[symbol] =  emaz\n",
        "\n",
        "        return emaz_list\n",
        "\n",
        "\n",
        "    def crossover_direction_lookback(self, bar_list, ema_period =[5,20], lookback = 10):\n",
        "        symbols  = 0\n",
        "        values   = 1\n",
        "\n",
        "        crossover_direction_list = [[0]] * len(bar_list[symbols])\n",
        "\n",
        "        for  symbol , ohlc in enumerate(bar_list[values]):\n",
        "\n",
        "            crossover_direction = [[0]]  * lookback\n",
        "\n",
        "            start_index = len(ohlc['Close'])-lookback\n",
        "\n",
        "            for i in range( (len(ohlc['Close'])-lookback), (len(ohlc['Close'])), 1):\n",
        "\n",
        "                 crossover, direction =  self.crossover_and_direction( ohlc['Close'][:i] , ohlc['Open'][:i], ema_period )\n",
        "                 crossover_direction[ i-start_index ] = [ crossover, direction ]\n",
        "\n",
        "            crossover_direction_list[symbol] =  crossover_direction\n",
        "\n",
        "        return crossover_direction_list\n",
        "\n",
        "\n",
        "\n",
        "# ema_indicator.transform_data_list(bar_list, lookback, crossover_direction_list  )\n",
        "\n",
        "\n",
        "#___________________________________________________________________________________________________\n",
        "\n",
        "class atr_bands_indicator ( ema_indicator):\n",
        "\n",
        "  def  __init__(self,  data_list= None ):\n",
        "\n",
        "      self.data_list = data_list\n",
        "      # , period=8, multiplier= 2.0 , lookback = None\n",
        "\n",
        "  def  get_atr_bands(self, bar_list, period=5 , multiplier= 1.7  ):\n",
        "\n",
        "        # constants\n",
        "        symbols = 0  # index 0 for symbols\n",
        "        values  = 1  # index 1 for ohlc\n",
        "        atr_bands = [[0]]  * len(bar_list[symbols])\n",
        "\n",
        "        for  index, ohlc in enumerate(bar_list[values]) :\n",
        "\n",
        "              close = ohlc['Close']\n",
        "              high  = ohlc['High']\n",
        "              low   = ohlc['Low']\n",
        "\n",
        "              lower_band,  upper_band   = self.atr_bands( close, high, low, multiplier, period  )\n",
        "\n",
        "              atr_bands[index]   = [ [lower_band[i],  upper_band[i]] for i in range(len(lower_band)) ]\n",
        "\n",
        "        atr_bands_list  = [  bar_list[symbols] , atr_bands ]\n",
        "\n",
        "        return   atr_bands_list\n",
        "\n",
        "\n",
        "  def  atr_bands(self, close,  high,  low,  multiplier,  period ):\n",
        "\n",
        "        # multiplier = 2.0 / 1.7\n",
        "        close_shift = self.shift(close , 1)\n",
        "        high_low, high_close, low_close  = np.array( high - low ,dtype=np.float32) ,\\\n",
        "        np.array(abs(high - close_shift  ),dtype=np.float32 ) , \\\n",
        "        np.array(abs(low -  close_shift  ),dtype=np.float32 )\n",
        "\n",
        "        true_range = np.max(np.hstack( (high_low, high_close, low_close) ).reshape(-1,3),axis=1 )\n",
        "        # true_range[true_range == 0] = 0.0001\n",
        "\n",
        "        # nan_indices = np.where(np.isnan(true_range))\n",
        "        mean = np.nanmean(true_range)\n",
        "        true_range[np.isnan(true_range)] = mean\n",
        "\n",
        "        # true_range = self.missing_nan(true_range)\n",
        "        avg_true_range = self.smoothed(true_range, period)\n",
        "\n",
        "        price =        close\n",
        "        upper_band =   price + (multiplier * avg_true_range)\n",
        "        lower_band =   price - (multiplier * avg_true_range)\n",
        "\n",
        "        return   lower_band , upper_band\n",
        "\n",
        "\n",
        "  def  atr_bands_lookback(self,  bar_list,  multiplier = 1.7,  period = 5,  lookback = 10 ):\n",
        "\n",
        "        values   = 1\n",
        "        symbols  = 0\n",
        "        atr_bands_list = [[0]] * len(bar_list[symbols])\n",
        "\n",
        "        for  symbol , ohlc in enumerate(bar_list[values]):\n",
        "\n",
        "          close = ohlc['Close']\n",
        "          high  = ohlc['High']\n",
        "          low   = ohlc['Low']\n",
        "\n",
        "          lower_band,  upper_band   = self.atr_bands( close, high, low, multiplier, period )\n",
        "\n",
        "          lower_band = lower_band[-lookback:]\n",
        "          upper_band = upper_band[-lookback:]\n",
        "\n",
        "          atr_bands = [ [ lower_band[i], upper_band[i]] for i in range( lookback )]\n",
        "          atr_bands_list[symbol] =  atr_bands\n",
        "\n",
        "        return atr_bands_list\n",
        "\n",
        "\n",
        "\n",
        "#___________________________________________________________________________________________________\n",
        "\n",
        "\n",
        "import numpy as np\n",
        "\n",
        "# atr_bands_indicator\n",
        "# get_atr_bands\n",
        "\n",
        "\n",
        "\n",
        "# adx = adx_indicator (data_list = bar_list  )\n",
        "# adx = adx_indicator(bar_list)\n",
        "# adx_value_list = adx.run_adx()\n",
        "#\n",
        "\n",
        "# ___________________________________________________________________________________________________\n",
        "class adx_indicator( atr_bands_indicator):\n",
        "\n",
        "  def  __init__(self, data_list = None, period= 14  ):\n",
        "\n",
        "        self.data_list = data_list\n",
        "        self.period = period\n",
        "\n",
        "  def  run_adx(self):\n",
        "\n",
        "        adx_value_list = self.get_adx(self.data_list, self.period )\n",
        "\n",
        "        return adx_value_list\n",
        "\n",
        "  def  get_adx(self, bar_list, period ):\n",
        "\n",
        "        symbols = 0\n",
        "        values  = 1\n",
        "        adx_value = [[0]]  * len(bar_list[symbols])\n",
        "\n",
        "        for  index, ohlc in enumerate(bar_list[values]) :\n",
        "\n",
        "              close = ohlc['Close']\n",
        "              high  = ohlc['High']\n",
        "              low   = ohlc['Low']\n",
        "              adx   = self.adx( close, high, low, period )\n",
        "\n",
        "              adx_value[index]   =  adx\n",
        "\n",
        "        adx_value_list  = [  bar_list[symbols] , adx_value ]\n",
        "\n",
        "        return  adx_value_list\n",
        "\n",
        "  def  adx(self, close, high, low, period = 8 ):\n",
        "\n",
        "      true_range   = self.true_range( high, low, close  )\n",
        "      highs , lows =   high - self.shift(high , 1 ) ,  self.shift(low , 1) - low\n",
        "\n",
        "      pdm = np.where(highs > lows  , highs , 0.0 )\n",
        "      ndm = np.where(lows  > highs , lows , 0.0  )\n",
        "\n",
        "      smoothed_atr  = self.smoothed(true_range , period)\n",
        "\n",
        "      pdi_value =   self.smoothed( pdm , period) / smoothed_atr\n",
        "      pdi = pdi_value * 100\n",
        "\n",
        "      ndi_value = self.smoothed( ndm , period) / smoothed_atr\n",
        "      ndi =  ndi_value * 100\n",
        "\n",
        "      dx = ( abs(pdi - ndi) ) / ( abs(pdi + ndi) ) * 100\n",
        "      adx =   self.smoothed(dx, period)\n",
        "\n",
        "      return adx\n",
        "\n",
        "  def true_range(self, high, low, close ):\n",
        "\n",
        "        close_shift = self.shift(close , 1)\n",
        "        high_low, high_close, low_close  = np.array( high - low ,dtype=np.float32) ,\\\n",
        "        np.array(abs(high - close_shift  ),dtype=np.float32 ) , \\\n",
        "        np.array(abs(low -  close_shift  ) ,dtype=np.float32 )\n",
        "\n",
        "        true_range = np.max(np.hstack( (high_low, high_close, low_close) ).reshape(-1,3),axis=1 )\n",
        "\n",
        "        return true_range\n",
        "\n",
        "\n",
        "\n",
        "  def  adx_lookback(self,   bar_list, period = 8 , lookback = 10):\n",
        "\n",
        "      symbols  = 0\n",
        "      values   = 1\n",
        "      adx_values_list = [[0]] * len(bar_list[symbols])\n",
        "\n",
        "      for  symbol , ohlc in enumerate(bar_list[values]):\n",
        "\n",
        "        close = ohlc['Close']\n",
        "        high  = ohlc['High']\n",
        "        low   = ohlc['Low']\n",
        "\n",
        "        adx   = self.adx( close, high, low, period )\n",
        "\n",
        "        adx_values = adx[-lookback:]\n",
        "\n",
        "        adx_values_list[symbol] =  adx_values\n",
        "\n",
        "      return adx_values_list\n",
        "\n",
        "\n",
        "#___________________________________________________________________________________________________\n",
        "\n",
        "class heikin_ashi (adx_indicator):\n",
        "\n",
        "  def __init__(self, refine_list = None):\n",
        "\n",
        "      self.refine_list = refine_list\n",
        "\n",
        "  def run_heikin_ashi(self, refine_list ):\n",
        "\n",
        "      ha_status_list = self.get_heikin_ashi(self, bar_list )\n",
        "\n",
        "      return  ha_status_list\n",
        "\n",
        "  def heikin_ashi_status(self, ha_open , ha_close ):\n",
        "\n",
        "      candles =  np.full_like( ha_close, '', dtype='U10')\n",
        "\n",
        "      for i in range(1 , len(ha_close) ):\n",
        "\n",
        "            # green_condition =  ha_close[i] > ha_open[i]\n",
        "            # red_condition   =  ha_close[i] < ha_open[i]\n",
        "            if ha_close[i] > ha_open[i] :\n",
        "              candles[i]  = 'Green'\n",
        "\n",
        "            elif ha_close[i] < ha_open[i] :\n",
        "              candles[i]  = 'Red'\n",
        "\n",
        "            else:\n",
        "              candles[i] = 'Neutral'\n",
        "\n",
        "      return  candles\n",
        "\n",
        "\n",
        "  def heikin_ashi_candles (self, open, high, low, close ):\n",
        "\n",
        "      ha_low, ha_close =  np.empty(len(close), dtype=np.float32 ), np.empty(len(close), dtype=np.float32 )\n",
        "      ha_open, ha_high = np.empty(len(close), dtype=np.float32 ),  np.empty(len(close), dtype=np.float32 )\n",
        "\n",
        "\n",
        "      ha_open[0]  = (open[0] + close[0] ) /2\n",
        "      ha_close[0] = (close[0] + open[0] + high[0] + low[0]) /4\n",
        "\n",
        "      for i in range(1 , len(close) ):\n",
        "            ha_open[i]  = (ha_open[i-1] + ha_close[i-1] ) / 2\n",
        "            ha_close[i] = (open[i] +  high[i] + low[i] + close[i]) / 4\n",
        "            ha_high[i]  = max( high[i], ha_open[i], ha_close[i]  )\n",
        "            ha_low[i]   = min( low[i], ha_open[i], ha_close[i]  )\n",
        "\n",
        "      return   ha_open, ha_close, ha_high, ha_low\n",
        "\n",
        "\n",
        "  def get_heikin_ashi (self, bar_list, lookback = None, ohlc_data=None):\n",
        "\n",
        "      symbols  = 0\n",
        "      values   = 1\n",
        "      ha_status_list = [[]] * len(bar_list[symbols])\n",
        "      ha_ohlc_list   = [[]] * len(bar_list[values])\n",
        "      # np.empty(len(bar_list[symbols]), dtype='U10')\n",
        "\n",
        "      for  symbol , ohlc in enumerate(bar_list[values]):\n",
        "\n",
        "          open, high,  low, close  = ohlc['Open'],  ohlc['High'],  ohlc['Low'], ohlc['Close']\n",
        "\n",
        "          ha_open, ha_close, ha_high, ha_low   =  self.heikin_ashi_candles( open, high, low, close )\n",
        "          candles  =  self.heikin_ashi_status(ha_open , ha_close)\n",
        "\n",
        "          if lookback :\n",
        "            candles  =  candles[-lookback:]\n",
        "            ha_open, ha_close, ha_high, ha_low = ha_open[-lookback:], ha_close[-lookback:], ha_high[-lookback:], ha_low[-lookback:]\n",
        "            # ha_open_close  = [ ha_open[-lookback:] , ha_close[-lookback:] ]\n",
        "\n",
        "          ha_ohlc_list[symbol]   =  [ha_open, ha_high, ha_low, ha_close]\n",
        "          ha_status_list[symbol] = candles\n",
        "\n",
        "      if  ohlc_data == True :\n",
        "\n",
        "          return ha_ohlc_list\n",
        "\n",
        "      return ha_status_list\n",
        "\n",
        "  def normal_to_ha(self, data_list , ha_ohlc_list):\n",
        "\n",
        "        symbols = 0  # index 0 for symbols\n",
        "        values  = 1  # index 1 for ohlc\n",
        "\n",
        "        for  sym, ohlc in enumerate(data_list[values]) :\n",
        "              ha_open , ha_close = [ element for  element in ha_ohlc_list[sym][0] ], [ element for  element in ha_ohlc_list[sym][3] ]\n",
        "              ha_high , ha_low   = [ element for  element in ha_ohlc_list[sym][1] ], [ element for  element in ha_ohlc_list[sym][2] ]\n",
        "\n",
        "              ohlc['Close'], ohlc['Open'] = ha_close  ,  ha_open\n",
        "              ohlc['High'] , ohlc['Low']  = ha_high   ,  ha_low\n",
        "              # lower_band,  upper_band   = atr_bands( close, high, low, multiplier, period  )\n",
        "        return   data_list\n",
        "\n",
        "#___________________________________________________________________________________________________\n",
        "\n",
        "class bollinger_bands(heikin_ashi):\n",
        "\n",
        "  def __init__(self, refine_list = None):\n",
        "\n",
        "      self.refine_list = refine_list\n",
        "\n",
        "\n",
        "  def sma(self, array, period):\n",
        "\n",
        "      weights = np.ones(period) / period\n",
        "      arr     =  np.convolve(array, weights, mode='valid')\n",
        "\n",
        "      window = period - 1\n",
        "      sma = np.empty(window + len(arr), dtype=arr.dtype)\n",
        "      sma[:window] = np.nan * window\n",
        "      sma[window:] = arr\n",
        "      sma[np.isnan(sma)] = np.nanmean(arr[:period])\n",
        "\n",
        "      return sma\n",
        "\n",
        "\n",
        "  def std_dev(self, array, period):\n",
        "\n",
        "      # Calculate the squared deviations from the mean\n",
        "      squared_deviations = (array - self.sma(array, period ) )**2\n",
        "\n",
        "      # Calculate the average squared deviations\n",
        "      average_squared_deviations = self.sma(squared_deviations, period)\n",
        "\n",
        "      # Calculate the rolling standard deviation\n",
        "      std_dev = np.sqrt(average_squared_deviations)\n",
        "\n",
        "      return std_dev\n",
        "\n",
        "  def run_bollinger_bands(self, refine_list ):\n",
        "\n",
        "      bollinger_bands_list = self.get_bollinger_bands(bar_list = refine_list )\n",
        "      return  bollinger_bands_list\n",
        "\n",
        "  def bollinger_bands(self , high, low, close, period = 20, mult = 2.0   ):\n",
        "\n",
        "      # bollinger_bands\n",
        "      typical_price =  (high + low + close) / 3\n",
        "      typical_price_ma  = self.sma(typical_price, period )\n",
        "      std_dev =  self.std_dev( typical_price,  period )\n",
        "\n",
        "      upper_band = typical_price_ma + (mult * std_dev )\n",
        "      lower_band = typical_price_ma - (mult * std_dev )\n",
        "\n",
        "      return lower_band , upper_band\n",
        "\n",
        "\n",
        "  def get_bollinger_bands (self, bar_list, lookback = None ):\n",
        "\n",
        "      symbols  = 0\n",
        "      values   = 1\n",
        "      bollinger_bands_list  =  [[]] * len(bar_list[values])\n",
        "      # np.empty(len(bar_list[symbols]), dtype='U10')\n",
        "\n",
        "      for  symbol , ohlc in enumerate(bar_list[values]):\n",
        "\n",
        "          high,  low,   close      =   ohlc['High'],  ohlc['Low'],  ohlc['Close']\n",
        "          lower_band , upper_band  =  self.bollinger_bands( high, low, close )\n",
        "\n",
        "          if lookback :\n",
        "            lower_band , upper_band    =  lower_band[-lookback:],  upper_band[-lookback:]\n",
        "\n",
        "          bb_bands = [ [ lower_band[i], upper_band[i]] for i in range( len(lower_band) )]\n",
        "          bollinger_bands_list[symbol] = bb_bands\n",
        "\n",
        "      return bollinger_bands_list\n",
        "\n",
        "class stochastic_oscillator(bollinger_bands):\n",
        "\n",
        "  def  stochastic_oscillator(self, high, low, close, period):\n",
        "\n",
        "      # calculate %K line\n",
        "      # low , high , close  = low.reshape(-1,1) , high.reshape(-1,1) , close.reshape(-1,1)\n",
        "\n",
        "      lowest_low   = self.moving_min(low  , period )\n",
        "      highest_high = self.moving_max(high , period )\n",
        "\n",
        "      k_percent = 100 * ( (   close  - lowest_low) / (highest_high - lowest_low) )\n",
        "      # calculate %D line\n",
        "      d_percent = self.sma( k_percent  , 3)\n",
        "\n",
        "      return  k_percent, d_percent\n",
        "\n",
        "\n",
        "  def  stochastic_oscillator_lookback(self, bar_list, period = 10, lookback = 10):\n",
        "\n",
        "      symbols, values = 0, 1\n",
        "      stochastic_oscillator_list  =  [[]] * len(bar_list[values])\n",
        "      for index, ohlc in enumerate(bar_list[values]):\n",
        "\n",
        "          high,  low,   close  =   ohlc['High'],  ohlc['Low'],  ohlc['Close']\n",
        "          k_percent, d_percent = self.stochastic_oscillator( high, low, close, period)\n",
        "\n",
        "          if lookback :\n",
        "            k_percent , d_percent   =  k_percent[-lookback:],  d_percent[-lookback:]\n",
        "\n",
        "          stochastic_oscillator = [ [ k_percent[i], d_percent[i]] for i in range( len(k_percent) )]\n",
        "          stochastic_oscillator_list[index] = stochastic_oscillator\n",
        "\n",
        "      return   stochastic_oscillator_list\n",
        "\n",
        "\n",
        "class stochastic_momentum_index(stochastic_oscillator):\n",
        "\n",
        "\n",
        "  def  stochastic_momentum_index(self, high, low, close, period= 20, ema_period = 5):\n",
        "\n",
        "      lengthD = ema_period\n",
        "      lowest_low   = self.moving_min(low  , period )\n",
        "      highest_high = self.moving_max(high , period )\n",
        "      relative_range   = close - (( highest_high + lowest_low ) / 2 )\n",
        "      highest_lowest_range = highest_high -   lowest_low\n",
        "\n",
        "      relative_range_smoothed       = self.smoothed(self.smoothed(relative_range,ema_period),ema_period)\n",
        "      highest_lowest_range_smoothed = self.smoothed(self.smoothed(highest_lowest_range,ema_period),ema_period)\n",
        "\n",
        "\n",
        "      smi = [ (relative_range_smoothed[i] / (highest_lowest_range_smoothed[i] / 2)) * 100 if highest_lowest_range_smoothed[i] != 0 else 0.0\n",
        "              for i in range(len(relative_range_smoothed)) ]\n",
        "\n",
        "      # relative_range = (lowest_low - highest_high) / highest_lowest_range\n",
        "      # calculate smi with  %D length\n",
        "\n",
        "      smi_ema = self.ema(smi,  ema_period)\n",
        "\n",
        "      return  smi, smi_ema\n",
        "\n",
        "\n",
        "  def  stochastic_momentum_lookback(self, bar_list, period = 20, lookback = 10, ema_period = 5, crossover_direction= False ):\n",
        "\n",
        "      symbols, values = 0, 1\n",
        "\n",
        "      stochastic_momentum_list  =  [[]] * len(bar_list[values])\n",
        "      stochastic_momentum_crossover_list  = [[]] * len(bar_list[values])\n",
        "      for index, ohlc in enumerate(bar_list[values]):\n",
        "\n",
        "          high,  low,   close  =   ohlc['High'],  ohlc['Low'],  ohlc['Close']\n",
        "          smi, smi_ema = self.stochastic_momentum_index( high, low, close, period, ema_period)\n",
        "          direction , crossover_values = self.stochastic_momentum_crossover(smi, smi_ema, lookback = lookback)\n",
        "\n",
        "          if lookback :\n",
        "            smi, smi_ema   =  smi[-lookback:], smi_ema[-lookback:]\n",
        "\n",
        "          stochastic_momentum = [ [ smi[i], smi_ema[i]] for i in range( len(smi) )]\n",
        "          stochastic_momentum_list[index] = stochastic_momentum\n",
        "          stochastic_momentum_crossover = [ [ direction[i], crossover_values[i]] for i in range( len(direction) )]\n",
        "          stochastic_momentum_crossover_list[index] = stochastic_momentum_crossover\n",
        "\n",
        "      if  crossover_direction : return stochastic_momentum_crossover_list\n",
        "\n",
        "      else : return   stochastic_momentum_list\n",
        "\n",
        "  def stochastic_momentum_crossover(cls, smi, smi_ema, lookback = 10 ):\n",
        "\n",
        "        columns, values  = 0, 1\n",
        "\n",
        "        stochastic_momentum_crossover = [] * len(smi)\n",
        "        for index, frame in enumerate(bar_df[values]):\n",
        "          direction = np.where(smi > smi_ema, 1, np.where(smi < smi_ema, -1, 0))\n",
        "\n",
        "          # Add a new column 'crossover'\n",
        "          crossover_values = np.where((direction == 1) & (np.roll(direction, 1) == -1), 1, \\\n",
        "                                      np.where((direction == -1) & (np.roll(direction, 1) == 1), -1, 0))\n",
        "          if lookback :  direction, crossover_values =  direction[-lookback:], crossover_values[-lookback:]\n",
        "\n",
        "        return  direction , crossover_values\n",
        "\n",
        "class access_indicators( stochastic_momentum_index ):\n",
        "\n",
        "        def __init__(self):\n",
        "            pass\n",
        "\n",
        "\n"
      ],
      "metadata": {
        "id": "Gc7O_YXqD9Wf"
      },
      "id": "Gc7O_YXqD9Wf",
      "execution_count": 111,
      "outputs": []
    },
    {
      "cell_type": "markdown",
      "source": [
        "## Stochastic Momentum Index"
      ],
      "metadata": {
        "id": "ymbzwyRF0OBJ"
      },
      "id": "ymbzwyRF0OBJ"
    },
    {
      "cell_type": "code",
      "source": [
        "def get_pivot_status(self, high, low):\n",
        "\n",
        "      pivot   =  np.empty(len(low), dtype=object)\n",
        "      # fractal =  np.empty(len(low))\n",
        "      # fractal = [[]] *  len(low)\n",
        "\n",
        "      for i in range (2 , len(low)):\n",
        "\n",
        "            N = i - 1\n",
        "\n",
        "            pivot_high  =  high[N] > high[N-1] and high[N] >  high[N+1]\n",
        "            pivot_low   =  low[N]  < low[N-1]  and low[N]  <  low[N+1]\n",
        "\n",
        "            if pivot_high  :\n",
        "                pivot[N] = high[N]\n",
        "\n",
        "            if pivot_low :\n",
        "                pivot[N] = low[N]\n",
        "\n",
        "            else:\n",
        "                pivot[N] = 0\n",
        "\n",
        "      return pivot"
      ],
      "metadata": {
        "id": "B3dlpwRv0Q1A"
      },
      "id": "B3dlpwRv0Q1A",
      "execution_count": null,
      "outputs": []
    },
    {
      "cell_type": "code",
      "source": [
        "import pandas as pd\n",
        "\n",
        "# Sample data\n",
        "data = {\n",
        "    'Day': [1, 2, 3, 4, 5, 6, 7, 8, 9, 10],\n",
        "    'High': [100, 105, 110, 115, 120, 125, 130, 135, 140, 145],\n",
        "    'Low': [90, 95, 100, 105, 110, 115, 120, 125, 130, 135],\n",
        "    'PivotHigh': [None] * 10,\n",
        "    'PivotLow': [None] * 10\n",
        "}\n",
        "\n",
        "df = pd.DataFrame(data)\n",
        "\n",
        "window_size = 3  # Set your desired window size\n",
        "\n"
      ],
      "metadata": {
        "colab": {
          "base_uri": "https://localhost:8080/"
        },
        "id": "C7_ZmVSqaFmB",
        "outputId": "b0a8ccbf-a410-44de-b07c-68207f97302e"
      },
      "id": "C7_ZmVSqaFmB",
      "execution_count": null,
      "outputs": [
        {
          "output_type": "stream",
          "name": "stdout",
          "text": [
            "   Day  High  Low PivotHigh PivotLow\n",
            "0    1   100   90      None       90\n",
            "1    2   105   95      None       95\n",
            "2    3   110  100       110      100\n",
            "3    4   115  105       115      105\n",
            "4    5   120  110       120      110\n",
            "5    6   125  115       125      115\n",
            "6    7   130  120       130      120\n",
            "7    8   135  125       135      125\n",
            "8    9   140  130       140     None\n",
            "9   10   145  135       145     None\n"
          ]
        }
      ]
    },
    {
      "cell_type": "markdown",
      "source": [
        "ichimoku_cloud"
      ],
      "metadata": {
        "id": "5KxcHCJW6qEj"
      },
      "id": "5KxcHCJW6qEj"
    },
    {
      "cell_type": "code",
      "source": [
        "# class ichimoku_cloud:\n",
        "\n",
        "#     def ichimoku_cloud(cls, high, low, close, period = 9, base_period = 26, leading_period = 52 ):\n",
        "\n",
        "\n",
        "#         high_9, low_9   =  self.moving_min(high, period ), self.moving_min(low  , period )\n",
        "#         high_26, low_26 =  self.moving_min(high, leading_period ), self.moving_min(low, leading_period )\n",
        "#         high_52, low_52 =  self.moving_min(high, leading_period ), self.moving_min(low, leading_period )\n",
        "\n",
        "#         conversion_line =  (high_9 + low_9) / 2\n",
        "#         base_line       =  (high_26 + low_26) / 2\n",
        "#         a_              =  (conversion_line + base_line) / 2\n",
        "#         leading_span_a  =  np.roll(a_, 26)\n",
        "\n",
        "#         b_              =   (high_52 + low_52) / 2\n",
        "#         leading_span _b =   np.roll(b_, 26)\n",
        "\n",
        "#         lagging_span = np.roll(close,-26)"
      ],
      "metadata": {
        "colab": {
          "base_uri": "https://localhost:8080/"
        },
        "id": "teJhyE_3l1MZ",
        "outputId": "d22910c6-0454-4266-fa9c-5deababe55c4"
      },
      "id": "teJhyE_3l1MZ",
      "execution_count": null,
      "outputs": [
        {
          "output_type": "execute_result",
          "data": {
            "text/plain": [
              "0"
            ]
          },
          "metadata": {},
          "execution_count": 42
        }
      ]
    },
    {
      "cell_type": "code",
      "source": [
        "my_list = [1, 2, 3, 4, 5, 6, 7, 8, 9]\n",
        "\n",
        "# Iterate over the list in a loop style\n",
        "for i in range(len(my_list) - 3, -1, -2):\n",
        "    print(\"Last two values:\", my_list[i+1], my_list[i])\n",
        "\n",
        "# Note: This assumes that the list has at least four elements.\n"
      ],
      "metadata": {
        "colab": {
          "base_uri": "https://localhost:8080/"
        },
        "id": "_KTjuqGMqp1y",
        "outputId": "e8602ec2-a95b-4a8d-b7d1-b056bc4c9abc"
      },
      "id": "_KTjuqGMqp1y",
      "execution_count": null,
      "outputs": [
        {
          "output_type": "stream",
          "name": "stdout",
          "text": [
            "Last two values: 8 7\n",
            "Last two values: 6 5\n",
            "Last two values: 4 3\n",
            "Last two values: 2 1\n"
          ]
        }
      ]
    },
    {
      "cell_type": "code",
      "source": [
        "# Example list\n",
        "low = [1, 2, 3, 4, 5, 6, 7, 8, 9, 10]\n",
        "\n",
        "pivot_low =  [0] * len(low)\n",
        "# Create a new list with every third element\n",
        "# new_list = my_list[::-2]\n",
        "period = 2\n",
        "pivot_low[0] = low[0]\n",
        "\n",
        "for i in range(len(low), len(low)%period,  -period ):\n",
        "      # print(\"index\",i-period,\"->\",i,\": values\",low[i-period:i])\n",
        "      # chose  = low[i-period:i]\n",
        "      idx =  min(low[i-period:i])\n",
        "      print(idx)\n"
      ],
      "metadata": {
        "colab": {
          "base_uri": "https://localhost:8080/"
        },
        "id": "-b70bmXSkcxy",
        "outputId": "a2fb7053-6882-4a7a-f168-5a779b28ab40"
      },
      "id": "-b70bmXSkcxy",
      "execution_count": null,
      "outputs": [
        {
          "output_type": "stream",
          "name": "stdout",
          "text": [
            "9\n"
          ]
        }
      ]
    },
    {
      "cell_type": "code",
      "source": [],
      "metadata": {
        "colab": {
          "base_uri": "https://localhost:8080/"
        },
        "id": "NI8DDEQVf8u6",
        "outputId": "419061c9-2bde-46c9-b364-f01667f2b920"
      },
      "id": "NI8DDEQVf8u6",
      "execution_count": null,
      "outputs": [
        {
          "output_type": "stream",
          "name": "stdout",
          "text": [
            "index 9 -> 5 : values [9]\n",
            "index 5 -> 1 : values [5]\n",
            "index 1 -> -3 : values [1]\n"
          ]
        }
      ]
    },
    {
      "cell_type": "code",
      "source": [
        "high = [100, 105, 110, 115, 120, 125, 130, 135, 140, 145]\n",
        "low  = [90, 95, 100, 105, 110, 115, 120, 125, 130, 135]\n",
        "\n"
      ],
      "metadata": {
        "id": "HMWLCxVRb7ih"
      },
      "id": "HMWLCxVRb7ih",
      "execution_count": null,
      "outputs": []
    },
    {
      "cell_type": "markdown",
      "source": [
        "# LOOKBACK CLASS\n"
      ],
      "metadata": {
        "id": "kG4QK62NE0Y9"
      },
      "id": "kG4QK62NE0Y9"
    },
    {
      "cell_type": "markdown",
      "source": [],
      "metadata": {
        "id": "y52d701Wn3oS"
      },
      "id": "y52d701Wn3oS"
    },
    {
      "cell_type": "code",
      "source": [
        "\"\"\"\n",
        "bar_df = indicators_lookback_mode.transform_data_list( refine_list = refined_list, multiplier= 1.7 , atr_period = 5,  adx_period = 8 ,   lookback = 1  , ha_ohlc = True)\n",
        "print(bar_df)\n",
        "\n",
        "\"\"\"\n",
        "from numpy.lib.recfunctions import append_fields\n",
        "\n",
        "class  indicators_lookback_mode( access_indicators ):\n",
        "\n",
        "  @classmethod\n",
        "  def transform_data_list(cls, refine_list ,  multiplier= 1.7 , atr_period = 5,  adx_period = 8,   lookback = 10, ema_period = [5, 20], ha_ohlc = True ):\n",
        "\n",
        "    symbols   = 0\n",
        "    values    = 1\n",
        "    indicator = cls() # universal class of project => adx_indicator\n",
        "\n",
        "    heikin_ashi = indicator.get_heikin_ashi (bar_list = refine_list,  ohlc_data=True)\n",
        "\n",
        "    # crossover_direction_list  =  adx_atr_bands_indicator.crossover_direction_lookback(bar_list = refine_list, lookback = lookback )\n",
        "    ha_status_list = indicator.get_heikin_ashi ( refine_list, lookback = lookback)\n",
        "    if ha_ohlc :\n",
        "      refine_list = indicator.normal_to_ha(data_list = refine_list, ha_ohlc_list = heikin_ashi )\n",
        "\n",
        "    ha_ohlc_list = indicator.get_heikin_ashi (bar_list = refine_list, lookback = lookback, ohlc_data=True)\n",
        "\n",
        "    crossover_direction_list   =  indicator.crossover_direction_lookback(bar_list = refine_list, ema_period = ema_period ,lookback = lookback )\n",
        "\n",
        "    stochastic_momentum_list =  indicator.stochastic_momentum_lookback( bar_list = refine_list, period = ema_period[1], lookback = lookback, ema_period = ema_period[0])\n",
        "\n",
        "    stochastic_momentum_crossover_list = indicator.stochastic_momentum_lookback( bar_list = refine_list, period = ema_period[1], lookback = lookback, ema_period = ema_period[0], crossover_direction=True)\n",
        "    emaz_list  =  indicator.ema_lookback( bar_list = refine_list, lookback = lookback , ema_period = ema_period )\n",
        "\n",
        "    atr_bands_list = indicator.atr_bands_lookback( refine_list , multiplier,  period = atr_period ,  lookback = lookback  )\n",
        "    adx_value_list = indicator.adx_lookback( bar_list = refine_list,   period = adx_period , lookback = lookback)\n",
        "\n",
        "\n",
        "    bollinger_bands_list = indicator.get_bollinger_bands( bar_list, lookback = lookback )\n",
        "\n",
        "    # lookback = 10\n",
        "    dt   = np.dtype([ ('index', 'datetime64[h]'),  ('symbol', 'U20'), ('Open', float ), ('High', float ), ('Low', float),  ('Close', float ),  ('Heikin-Ashi-Status', 'U10'),  ('Direction', float), ('Average-Directional-Index', float), ('Crossover', float),   \\\n",
        "        ('Stop_Loss', float), ('Take_Profit', float), ('direction_smi', float), ('crossover_smi', float), ('ema_low', float), ('ema_high', float), ('smi', float), ('smi_ema', float), ('bb_lower', float ), ('bb_upper', float), ('atr_lower', float), ('atr_upper', float ), ('ha_open', float), ('ha_high', float),('ha_low', float),('ha_close', float)  ])\n",
        "\n",
        "\n",
        "    column_names = dt.names\n",
        "    data = [[0]]  * len(refine_list[symbols])\n",
        "\n",
        "    for sym , ohlc in enumerate(refine_list[values]):\n",
        "\n",
        "            index  = ohlc['index'][-lookback:]\n",
        "            symbol = ohlc['symbol'][-lookback:]\n",
        "            open   = ohlc['Open'][-lookback:]\n",
        "            high   = ohlc['High'][-lookback:]\n",
        "            low    = ohlc['Low'][-lookback:]\n",
        "            close  = ohlc['Close'][-lookback:]\n",
        "\n",
        "            heikin_ashi_status = [  element for element in ha_status_list[sym]  ]\n",
        "\n",
        "            # fractal_status  = [ element  for  element in ha_ohlc_list[sym]  ]\n",
        "            ha_open , ha_close = [ element for  element in ha_ohlc_list[sym][0] ], [ element for  element in ha_ohlc_list[sym][3] ]\n",
        "            ha_high , ha_low   = [ element for  element in ha_ohlc_list[sym][1] ], [ element for  element in ha_ohlc_list[sym][2] ]\n",
        "\n",
        "            smi =     [ element[0] for element in stochastic_momentum_list[sym] ]\n",
        "            smi_ema = [ element[1] for element in stochastic_momentum_list[sym] ]\n",
        "\n",
        "            direction_smi        = [ element[0] for element in stochastic_momentum_crossover_list[sym] ]\n",
        "            crossover_smi = [ element[1] for element in stochastic_momentum_crossover_list[sym] ]\n",
        "\n",
        "\n",
        "            adx_value  = [  element    for element in adx_value_list[sym]  ]\n",
        "            lower_band = [  element[0] for element in atr_bands_list[sym]  ]\n",
        "            upper_band = [  element[1] for element in atr_bands_list[sym]  ]\n",
        "\n",
        "            bb_lower = [  element[0] for element in bollinger_bands_list[sym]  ]\n",
        "            bb_upper = [  element[1] for element in bollinger_bands_list[sym]  ]\n",
        "            bb_bands = [ bb_lower,  bb_upper ]\n",
        "            # crossover =   crossover_direction_list[index][dynamic--for next values of crossover of date time index][0-->static for crossover]\n",
        "            crossover = [ element[0] for element in crossover_direction_list[sym] ]\n",
        "            direction = [ element[1] for element in crossover_direction_list[sym] ]\n",
        "\n",
        "            short_ema = [ element[0] for element in emaz_list[sym] ]\n",
        "            long_ema  = [ element[1] for element in emaz_list[sym] ]\n",
        "            # ha_ohlc_list[symbol]   =  [ha_open, ha_high, ha_low, ha_close]\n",
        "            ha_ohlc = [ element for  element in  ha_ohlc_list[sym] ]\n",
        "\n",
        "            ohlc_df = np.empty(len(close), dtype=dt)\n",
        "\n",
        "            for i in range(0 , len(ohlc_df)):\n",
        "\n",
        "                stop_loss   = 0\n",
        "                take_profit = 0\n",
        "                if crossover[i] == 1  or  direction[i] == 1 :\n",
        "                      stop_loss   = lower_band[i]\n",
        "                      take_profit = upper_band[i]\n",
        "\n",
        "                elif crossover[i] == -1  or  direction[i] == -1 :\n",
        "                      stop_loss   = upper_band[i]\n",
        "                      take_profit = lower_band[i]\n",
        "\n",
        "                ohlc_df[i] = ( index[i], symbol[i], open[i], high[i], low[i], close[i], heikin_ashi_status[i], direction[i], adx_value[i], \\\n",
        "                               crossover[i], stop_loss, take_profit, direction_smi[i] , crossover_smi[i],  short_ema[i], long_ema[i], smi[i], smi_ema[i],  bb_lower[i], bb_upper[i], lower_band[i], upper_band[i], ha_open[i], ha_high[i] , ha_low[i], ha_close[i]  )\n",
        "#\n",
        "\n",
        "            data[sym] = ohlc_df\n",
        "\n",
        "    return [column_names, data]\n",
        "\n",
        "\n",
        "\n",
        "class stochastic_momentum_crossover:\n",
        "    @classmethod\n",
        "    def stochastic_momentum_crossover(cls, bar_df ):\n",
        "        columns, values  =  0 , 1\n",
        "        sort_index, signal_list = [] , []\n",
        "        for index, frame in enumerate(bar_df[values]):\n",
        "          direction = np.where(frame['smi'] > frame['smi_ema'], 1, np.where(frame['smi'] < frame['smi_ema'], -1, 0))\n",
        "          frame = np.lib.recfunctions.append_fields(frame, 'direction_smi', direction, usemask=False)\n",
        "          # Add a new column 'crossover'\n",
        "          crossover_values = np.where((frame['direction_smi'] == 1) & (np.roll(frame['direction_smi'], 1) == -1), 1, \\\n",
        "                                      np.where((frame['direction_smi'] == -1) & (np.roll(frame['direction_smi'], 1) == 1), -1, 0))\n",
        "          frame    = np.lib.recfunctions.append_fields(frame, 'crossover_smi', crossover_values, usemask=False)\n",
        "          # bar_df[values][index]  = ohlc\n",
        "        smi_direction_crossover  = [ 'direction_smi', 'crossover_smi' ]\n",
        "        column_names = list(bar_df[columns])\n",
        "        column_names.extend(smi_direction_crossover )\n",
        "\n",
        "        return [column_names, bar_df[values]]\n"
      ],
      "metadata": {
        "id": "_thKseF3ElpI"
      },
      "id": "_thKseF3ElpI",
      "execution_count": 118,
      "outputs": []
    },
    {
      "cell_type": "code",
      "source": [
        "my_list = [\"first\"]\n",
        "strings_to_append = [\"second\", \"third\", \"fourth\"]\n",
        "\n",
        "my_list.extend(strings_to_append)\n",
        "\n",
        "print(my_list)\n"
      ],
      "metadata": {
        "colab": {
          "base_uri": "https://localhost:8080/"
        },
        "id": "fZwR8lnhfEkF",
        "outputId": "4243eaa7-f2ba-46cd-9d16-60aeb18e2968"
      },
      "id": "fZwR8lnhfEkF",
      "execution_count": 32,
      "outputs": [
        {
          "output_type": "stream",
          "name": "stdout",
          "text": [
            "['first', 'second', 'third', 'fourth']\n"
          ]
        }
      ]
    },
    {
      "cell_type": "markdown",
      "source": [
        "# Run"
      ],
      "metadata": {
        "id": "oj9X8Y9AXrqX"
      },
      "id": "oj9X8Y9AXrqX"
    },
    {
      "cell_type": "code",
      "source": [
        "\"\"\"\n",
        "# symbols = [ 'CHFJPY=X'  ]\n",
        "# # symbols = [ 'BTC-USD', 'ETH-USD', 'BNB-USD', 'XRP-USD', 'SOL-USD', 'STETH-USD', 'ADA-USD', 'DOGE-USD', 'TRX-USD', 'LTC-USD' ]\n",
        "# bar_list = get_clean_data.get_data_np_df(symbols , interval = '1H' , period = '7d' )\n",
        "# resample = resample_data( data_list=bar_list , step=4 , rotate = True , format = 'pkt'  )\n",
        "#refine.chart_version( bar_list=bar_list, step=3, rotate = True, format = None )\n",
        "\n",
        "# resample_list = resample.run_resample_data()\n",
        "# # OR\n",
        "# refine_list = resample.run_resample_data()\n",
        "# resample_list\n",
        "# bar_df = indicators_lookback_mode.transform_data_list( refine_list = resample_list, multiplier= 1.7 , atr_period = 5,  adx_period = 8 ,   lookback = 10  )\n",
        "# print(bar_df)\n",
        "                \"\"\"\n",
        "\"\"\"\n",
        "adx_perriod = 8  --> 4 Hour Timeframe\n",
        "adx_perriod = 10 --> 1 Hour Timeframe\n",
        "\"\"\"\n",
        "# ema_period     =  [ 5 , 20 ]\n",
        "import yfinance as yf\n",
        "\n",
        "symbols_forex = [\n",
        "    'AUDCAD=X', 'AUDCHF=X', 'AUDJPY=X', 'AUDNZD=X', 'AUDUSD=X',\n",
        "    'CADCHF=X','CADJPY=X' ,\n",
        "    'CHFJPY=X',\n",
        "    'EURAUD=X', 'EURCAD=X', 'EURCHF=X', 'EURGBP=X', 'EURJPY=X', 'EURNZD=X', 'EURUSD=X',\n",
        "    'GBPAUD=X', 'GBPCAD=X', 'GBPCHF=X', 'GBPJPY=X', 'GBPUSD=X',  'GBPNZD=X',\n",
        "    'NZDCAD=X', 'NZDCHF=X', 'NZDJPY=X', 'NZDUSD=X',\n",
        "    'USDCHF=X', 'USDCAD=X', 'USDJPY=X'\n",
        "]\n",
        "\n",
        "# symbols = [ 'BTC-USD', 'ETH-USD', 'BNB-USD', 'XRP-USD', 'SOL-USD', 'STETH-USD', 'ADA-USD', 'DOGE-USD', 'TRX-USD', 'LTC-USD' ]\n",
        "# symbols = [ 'BTC-USD', 'ETH-USD' ]\n",
        "\n",
        "chart = '1H'\n",
        "step  =  1\n",
        "chart_type = str(int( int(chart[0]) * step)) + str(f\"{chart[-1]}\")\n",
        "\n",
        "# symbols = [ 'CHFJPY=X'  ]\n",
        "bar_list = get_clean_data.get_data_np_df(symbols= symbols_forex , interval = '1H' , period = '7d' )\n",
        "\n",
        "# resample = resample_data( data_list=bar_list , step=4 , rotate = True , format = 'pkt'  )\n",
        "resample = resample_data( data_list=bar_list , step=1 , rotate = False , format = 'pkt'  )\n",
        "\n",
        "resample_list = resample.run_resample_data()\n",
        "\n",
        "bar_df = indicators_lookback_mode.transform_data_list( refine_list = resample_list, multiplier= 1.7 ,\\\n",
        "                  atr_period = 5, adx_period = 8 , lookback = 14, ema_period = [5, 20] , ha_ohlc = True )\n",
        "# , ha_ohlc = True\n"
      ],
      "metadata": {
        "colab": {
          "base_uri": "https://localhost:8080/"
        },
        "id": "oHNkr-CtYCke",
        "outputId": "bfd7768a-b278-48d2-e5cc-3d278d2614ca"
      },
      "id": "oHNkr-CtYCke",
      "execution_count": 128,
      "outputs": [
        {
          "output_type": "stream",
          "name": "stdout",
          "text": [
            "[*********************100%%**********************]  1 of 1 completed\n",
            "[*********************100%%**********************]  1 of 1 completed\n",
            "[*********************100%%**********************]  1 of 1 completed\n",
            "[*********************100%%**********************]  1 of 1 completed\n",
            "[*********************100%%**********************]  1 of 1 completed\n",
            "[*********************100%%**********************]  1 of 1 completed\n",
            "[*********************100%%**********************]  1 of 1 completed\n",
            "[*********************100%%**********************]  1 of 1 completed\n",
            "[*********************100%%**********************]  1 of 1 completed\n",
            "[*********************100%%**********************]  1 of 1 completed\n",
            "[*********************100%%**********************]  1 of 1 completed\n",
            "[*********************100%%**********************]  1 of 1 completed\n",
            "[*********************100%%**********************]  1 of 1 completed\n",
            "[*********************100%%**********************]  1 of 1 completed\n",
            "[*********************100%%**********************]  1 of 1 completed\n",
            "[*********************100%%**********************]  1 of 1 completed\n",
            "[*********************100%%**********************]  1 of 1 completed\n",
            "[*********************100%%**********************]  1 of 1 completed\n",
            "[*********************100%%**********************]  1 of 1 completed\n",
            "[*********************100%%**********************]  1 of 1 completed\n",
            "[*********************100%%**********************]  1 of 1 completed\n",
            "[*********************100%%**********************]  1 of 1 completed\n",
            "[*********************100%%**********************]  1 of 1 completed\n",
            "[*********************100%%**********************]  1 of 1 completed\n",
            "[*********************100%%**********************]  1 of 1 completed\n",
            "[*********************100%%**********************]  1 of 1 completed\n",
            "[*********************100%%**********************]  1 of 1 completed\n",
            "[*********************100%%**********************]  1 of 1 completed\n"
          ]
        }
      ]
    },
    {
      "cell_type": "code",
      "source": [
        "bar_df = indicators_lookback_mode.transform_data_list( refine_list = resample_list, multiplier= 1.7 ,\\\n",
        "                  atr_period = 5, adx_period = 8 , lookback = 30, ema_period = [5, 20] , ha_ohlc = False )\n",
        "\n"
      ],
      "metadata": {
        "id": "x81rpiooLsXF"
      },
      "id": "x81rpiooLsXF",
      "execution_count": 129,
      "outputs": []
    },
    {
      "cell_type": "markdown",
      "source": [
        "## RUN FOR SORTING"
      ],
      "metadata": {
        "id": "eTcXoI9m_40o"
      },
      "id": "eTcXoI9m_40o"
    },
    {
      "cell_type": "code",
      "source": [
        "chart = '1H'\n",
        "step  =  1\n",
        "chart_type = str(int( int(chart[0]) * step)) + str(f\"{chart[-1]}\")\n",
        "\n",
        "\n",
        "sell_sorted_data, sell_signal_list = sorting.stochastic_momentum_downtrend( bar_df, last_candles = 25, cross_only= False , chart_type =chart_type)\n",
        "buy_sorted_data, buy_signal_list   = sorting.stochastic_momentum_uptrend( bar_df, last_candles = 25, cross_only= True , chart_type =chart_type)\n",
        "\n",
        "\n",
        "# signal_list\n",
        "buy_signal_list\n"
      ],
      "metadata": {
        "colab": {
          "base_uri": "https://localhost:8080/"
        },
        "id": "nRkoNTbb_3-D",
        "outputId": "c5a62bb4-7e9a-44e0-8332-a47ac322ec3e"
      },
      "id": "nRkoNTbb_3-D",
      "execution_count": 146,
      "outputs": [
        {
          "output_type": "execute_result",
          "data": {
            "text/plain": [
              "[['AUDJPY=X',\n",
              "  'sell',\n",
              "  95.59845856255022,\n",
              "  95.0745455878404,\n",
              "  numpy.datetime64('2023-12-15T05','h'),\n",
              "  '1H'],\n",
              " ['USDJPY=X',\n",
              "  'sell',\n",
              "  149.41433442103127,\n",
              "  135.16467558873435,\n",
              "  numpy.datetime64('2023-12-15T05','h'),\n",
              "  '1H']]"
            ]
          },
          "metadata": {},
          "execution_count": 146
        }
      ]
    },
    {
      "cell_type": "code",
      "source": [
        "sell_sorted_data"
      ],
      "metadata": {
        "colab": {
          "base_uri": "https://localhost:8080/"
        },
        "id": "WmOfc4_IDnEC",
        "outputId": "7e6ce971-5993-4bfb-cc3c-8ee04b6ca563"
      },
      "id": "WmOfc4_IDnEC",
      "execution_count": 142,
      "outputs": [
        {
          "output_type": "execute_result",
          "data": {
            "text/plain": [
              "[]"
            ]
          },
          "metadata": {},
          "execution_count": 142
        }
      ]
    },
    {
      "cell_type": "code",
      "source": [
        "buy_sorted_data_breakout, buy_signal_list_breakout  = sorting.sort_uptrend_breakout(bar_df, last_candles = 25 , chart_type =chart_type)\n",
        "\n",
        "\n",
        "buy_sorted_data_breakout"
      ],
      "metadata": {
        "colab": {
          "base_uri": "https://localhost:8080/"
        },
        "id": "Y4bX9b3lDLzD",
        "outputId": "e81c04fa-3ebc-412f-9725-457789ccb0dc"
      },
      "id": "Y4bX9b3lDLzD",
      "execution_count": 162,
      "outputs": [
        {
          "output_type": "execute_result",
          "data": {
            "text/plain": [
              "[25, 0]"
            ]
          },
          "metadata": {},
          "execution_count": 162
        }
      ]
    },
    {
      "cell_type": "code",
      "source": [
        "buy_signal_list_breakout"
      ],
      "metadata": {
        "colab": {
          "base_uri": "https://localhost:8080/"
        },
        "id": "Wav4-1IuH3a9",
        "outputId": "0ff200ae-9062-4029-91ba-f51cfa2f6902"
      },
      "id": "Wav4-1IuH3a9",
      "execution_count": 163,
      "outputs": [
        {
          "output_type": "execute_result",
          "data": {
            "text/plain": [
              "25"
            ]
          },
          "metadata": {},
          "execution_count": 163
        }
      ]
    },
    {
      "cell_type": "code",
      "source": [
        "buy_signal_list_breakout"
      ],
      "metadata": {
        "colab": {
          "base_uri": "https://localhost:8080/"
        },
        "id": "g3ype6FPGBUW",
        "outputId": "3f7f97e1-9a61-4667-a0dc-b27aa37c53f5"
      },
      "id": "g3ype6FPGBUW",
      "execution_count": 152,
      "outputs": [
        {
          "output_type": "execute_result",
          "data": {
            "text/plain": [
              "[['AUDJPY=X',\n",
              "  'buy',\n",
              "  94.64672111617826,\n",
              "  95.34128547561862,\n",
              "  numpy.datetime64('2023-12-15T03','h'),\n",
              "  '1H'],\n",
              " ['USDJPY=X',\n",
              "  'buy',\n",
              "  139.0172792710488,\n",
              "  144.89772927387307,\n",
              "  numpy.datetime64('2023-12-15T11','h'),\n",
              "  '1H']]"
            ]
          },
          "metadata": {},
          "execution_count": 152
        }
      ]
    },
    {
      "cell_type": "code",
      "source": [
        "buy_signal_list"
      ],
      "metadata": {
        "colab": {
          "base_uri": "https://localhost:8080/"
        },
        "id": "iLV-9RcGB4B7",
        "outputId": "72f9bb7b-6a8d-447d-d250-cbf2f127e2aa"
      },
      "id": "iLV-9RcGB4B7",
      "execution_count": 132,
      "outputs": [
        {
          "output_type": "execute_result",
          "data": {
            "text/plain": [
              "[['AUDJPY=X',\n",
              "  'sell',\n",
              "  95.59845856255022,\n",
              "  95.0745455878404,\n",
              "  numpy.datetime64('2023-12-15T05','h'),\n",
              "  '1H'],\n",
              " ['USDJPY=X',\n",
              "  'sell',\n",
              "  149.41433442103127,\n",
              "  135.16467558873435,\n",
              "  numpy.datetime64('2023-12-15T05','h'),\n",
              "  '1H']]"
            ]
          },
          "metadata": {},
          "execution_count": 132
        }
      ]
    },
    {
      "cell_type": "code",
      "source": [
        "import pickle\n",
        "\n",
        "\n",
        "# Specify the file path\n",
        "file_path = 'bar_df.bin'\n",
        "\n",
        "# Writing the list to a binary file using pickle\n",
        "with open(file_path, 'wb') as file:\n",
        "    pickle.dump(bar_df, file)\n",
        "\n",
        "print(f'The list has been stored in {file_path}')\n"
      ],
      "metadata": {
        "colab": {
          "base_uri": "https://localhost:8080/"
        },
        "id": "rEG7S3mATkfW",
        "outputId": "a0718c24-40e7-4ed4-cac8-2fc6b9f3fa67"
      },
      "id": "rEG7S3mATkfW",
      "execution_count": 126,
      "outputs": [
        {
          "output_type": "stream",
          "name": "stdout",
          "text": [
            "The list has been stored in bar_df.bin\n"
          ]
        }
      ]
    },
    {
      "cell_type": "code",
      "source": [
        "# heikin ashi\n",
        "z = bar_df[1][0]['smi_ema'][-5]\n",
        "print(z)"
      ],
      "metadata": {
        "colab": {
          "base_uri": "https://localhost:8080/"
        },
        "id": "PhIXV0eyWN9H",
        "outputId": "3c5154e2-8bda-4bff-cfb1-434c93023f41"
      },
      "id": "PhIXV0eyWN9H",
      "execution_count": null,
      "outputs": [
        {
          "output_type": "stream",
          "name": "stdout",
          "text": [
            "99.999999997764\n"
          ]
        }
      ]
    },
    {
      "cell_type": "code",
      "source": [
        "\n",
        "print(bar_df[1][0]['smi'][-1], bar_df[1][0]['smi_ema'][-1])\n",
        "\n"
      ],
      "metadata": {
        "colab": {
          "base_uri": "https://localhost:8080/"
        },
        "id": "SigrIXHsE0lu",
        "outputId": "ccf0a1c2-d485-4950-9b46-c424ac30d761"
      },
      "id": "SigrIXHsE0lu",
      "execution_count": 94,
      "outputs": [
        {
          "output_type": "stream",
          "name": "stdout",
          "text": [
            "53.512207419508876 53.46875\n"
          ]
        }
      ]
    },
    {
      "cell_type": "code",
      "source": [
        "\n",
        "print(bar_df[1][0]['smi'][-1], bar_df[1][0]['smi_ema'][-1])\n",
        "\n"
      ],
      "metadata": {
        "colab": {
          "base_uri": "https://localhost:8080/"
        },
        "id": "S3fKzOzK9Tv_",
        "outputId": "969e260c-ff97-48f2-bfe5-ac7e1427faaa"
      },
      "id": "S3fKzOzK9Tv_",
      "execution_count": 120,
      "outputs": [
        {
          "output_type": "stream",
          "name": "stdout",
          "text": [
            "47.9969115573679 47.99735169152052\n"
          ]
        }
      ]
    },
    {
      "cell_type": "markdown",
      "source": [
        "# Sorting"
      ],
      "metadata": {
        "id": "gXaixVj9WVKU"
      },
      "id": "gXaixVj9WVKU"
    },
    {
      "cell_type": "code",
      "source": [
        "import numpy as np\n",
        "from numpy.lib.recfunctions import append_fields\n",
        "\n",
        "class sorting :\n",
        "    # define numpy structured array structure\n",
        "    columns, values = 0 , 1\n",
        "\n",
        "    @classmethod\n",
        "    def get_signal_data(cls, matches, order_type):\n",
        "\n",
        "      symbol = matches['symbol'][0]\n",
        "\n",
        "      if order_type == 1 :\n",
        "         order       = 'buy'\n",
        "         stop_loss   =  matches['atr_lower'][0]\n",
        "         take_profit =  matches['atr_upper'][0]\n",
        "\n",
        "      elif order_type == -1 :\n",
        "         order       = 'sell'\n",
        "         stop_loss   =  matches['atr_upper'][0]\n",
        "         take_profit =  matches['atr_lower'][0]\n",
        "\n",
        "      time  = matches['index'][0]\n",
        "      return  symbol, order, stop_loss, take_profit, time\n",
        "\n",
        "\n",
        "    @classmethod\n",
        "    def sort_uptrend_breakout(cls, bar_df, last_candles = 10,  chart_type = None ):\n",
        "\n",
        "      sort_index, signal_list  =  [], []\n",
        "      for index, ohlc in enumerate(bar_df[sorting.values]):\n",
        "\n",
        "          observe = ohlc[-last_candles:]\n",
        "\n",
        "          volatile_adx = (observe['Average-Directional-Index'] > 18) & (observe['Average-Directional-Index'] < 25)\n",
        "\n",
        "          uptrend_bb_band     = observe[(observe['High'] > observe['bb_upper']) | (observe['Close'] > observe['bb_upper']) ]\n",
        "          uptrend_heikin_ashi = observe['Heikin-Ashi-Status'] == 'Green'\n",
        "\n",
        "          return  [ len(volatile_adx) , len(uptrend_bb_band) ,  ] , len(uptrend_heikin_ashi)\n",
        "\n",
        "          find    = volatile_adx and uptrend_bb_band and uptrend_heikin_ashi\n",
        "\n",
        "          matches = observe[find]\n",
        "          if  len(matches) > 0 :\n",
        "              sort_index.append(index)\n",
        "              symbol, order, stop_loss, take_profit, time  =  cls.get_signal_data( matches, order_type = 1 )\n",
        "              signal  =  [symbol, order, stop_loss, take_profit, time, chart_type ]\n",
        "              signal_list.append(signal)\n",
        "\n",
        "      sorted_data = [ bar_df[sorting.values][i] for i in range(len(bar_df[sorting.values])) if i in sort_index ]\n",
        "\n",
        "      return sorted_data, signal_list\n",
        "\n",
        "\n",
        "    @classmethod\n",
        "    def sort_downtrend_breakout(cls, bar_df, last_candles = 10,  chart_type = None ):\n",
        "\n",
        "      sort_index, signal_list  =  [], []\n",
        "\n",
        "      for index, ohlc in enumerate(bar_df[sorting.values]):\n",
        "\n",
        "          observe = ohlc[-last_candles:]\n",
        "\n",
        "          volatile_adx = (observe['Average-Directional-Index'] > 18) &  (observe['Average-Directional-Index'] < 25)\n",
        "          downtrend_bb_band      = (observe['Low'] < observe['bb_lower']) | (observe['Close'] < observe['bb_lower'])\n",
        "          downtrend_heikin_ashi  = observe['Heikin-Ashi-Status'] == 'Red'\n",
        "\n",
        "          find    = volatile_adx and downtrend_bb_band and downtrend_heikin_ashi\n",
        "          matches = observe[find]\n",
        "          if  len(matches) > 0 :\n",
        "              sort_index.append(index)\n",
        "              symbol, order, stop_loss, take_profit, time  =  cls.get_signal_data( matches, order_type = -1 )\n",
        "              signal  =  [symbol, order, stop_loss, take_profit, time, chart_type ]\n",
        "              signal_list.append(signal)\n",
        "\n",
        "      sorted_data = [ bar_df[sorting.values][i] for i in range(len(bar_df[sorting.values])) if i in sort_index ]\n",
        "\n",
        "      return sorted_data, signal_list\n",
        "\n",
        "\n",
        "    @classmethod\n",
        "    def sort_uptrend_crossover(cls, bar_df, last_candles = 10,  chart_type = None ):\n",
        "\n",
        "\n",
        "      sort_index, signal_list  =  [], []\n",
        "      for index, ohlc in enumerate(bar_df[sorting.values]):\n",
        "\n",
        "          observe = ohlc[-last_candles:]\n",
        "\n",
        "          volatile_adx = (observe['Average-Directional-Index'] > 18) &  (observe['Average-Directional-Index'] < 25)\n",
        "          mask_uptrend_crossover  = observe['Crossover'] == 1\n",
        "          uptrend_heikin_ashi = observe['Heikin-Ashi-Status'] == 'Green'\n",
        "\n",
        "          find    =  volatile_adx & mask_uptrend_crossover & uptrend_heikin_ashi\n",
        "          matches =  observe[find]\n",
        "          if  len(matches) > 0 :\n",
        "              sort_index.append(index)\n",
        "              symbol, order, stop_loss, take_profit, time  =  cls.get_signal_data( matches, order_type = 1 )\n",
        "              signal  =  [symbol, order, stop_loss, take_profit, time, chart_type ]\n",
        "              signal_list.append(signal)\n",
        "\n",
        "      sorted_data = [ bar_df[sorting.values][i] for i in range(len(bar_df[sorting.values])) if i in sort_index ]\n",
        "\n",
        "      return sorted_data, signal_list\n",
        "\n",
        "    @classmethod\n",
        "    def sort_downtrend_crossover(cls, bar_df,  last_candles=10,  chart_type = None ):\n",
        "\n",
        "      sort_index, signal_list  =  [], []\n",
        "      for index, ohlc in enumerate(bar_df[sorting.values]):\n",
        "\n",
        "          observe = ohlc[-last_candles:]\n",
        "\n",
        "          volatile_adx = (observe['Average-Directional-Index'] > 18) &  (observe['Average-Directional-Index'] < 25)\n",
        "          mask_downtrend_crossover  = observe['Crossover'] == -1\n",
        "          downtrend_heikin_ashi  = observe['Heikin-Ashi-Status'] == 'Red'\n",
        "\n",
        "          find    = volatile_adx & mask_downtrend_crossover & downtrend_heikin_ashi\n",
        "          matches = observe[find]\n",
        "          if  len(matches) > 0 :\n",
        "              sort_index.append(index)\n",
        "              symbol, order, stop_loss, take_profit, time  =  cls.get_signal_data( matches, order_type = -1 )\n",
        "              signal  =  [symbol, order, stop_loss, take_profit, time, chart_type ]\n",
        "              signal_list.append(signal)\n",
        "      sorted_data = [ bar_df[sorting.values][i] for i in range(len(bar_df[sorting.values])) if i in sort_index ]\n",
        "\n",
        "      return sorted_data, signal_list\n",
        "\n",
        "\n",
        "    @classmethod\n",
        "    def  stochastic_momentum_uptrend(cls, bar_df, last_candles = 10, cross_only= True , chart_type = None ):\n",
        "\n",
        "      sort_index, signal_list = [] , []\n",
        "      for index, ohlc in enumerate(bar_df[sorting.values]):\n",
        "\n",
        "        observe = ohlc[-last_candles:]\n",
        "\n",
        "        volatile_adx = (observe['Average-Directional-Index'] > 18) & (observe['Average-Directional-Index'] < 25)\n",
        "        mask_downtrend_crossover  = observe['crossover_smi']   == 1\n",
        "        downtrend_heikin_ashi  = observe['Heikin-Ashi-Status'] == 'Green'\n",
        "\n",
        "        if cross_only:  find   =                mask_downtrend_crossover\n",
        "        else :          find   = volatile_adx & mask_downtrend_crossover & downtrend_heikin_ashi\n",
        "        matches = observe[find]\n",
        "        if  len(matches) > 0 :\n",
        "              sort_index.append(index)\n",
        "              symbol, order, stop_loss, take_profit, time  =  cls.get_signal_data( matches, order_type = -1 )\n",
        "              signal  =  [symbol, order, stop_loss, take_profit, time, chart_type]\n",
        "              signal_list.append(signal)\n",
        "\n",
        "      sorted_data = [ bar_df[sorting.values][i] for i in range(len(bar_df[sorting.values])) if i in sort_index ]\n",
        "\n",
        "      return sorted_data, signal_list\n",
        "\n",
        "    @classmethod\n",
        "    def  stochastic_momentum_downtrend(cls, bar_df, last_candles = 10, cross_only= True, chart_type = None ):\n",
        "\n",
        "      sort_index, signal_list = [] , []\n",
        "      for index, ohlc in enumerate(bar_df[sorting.values]):\n",
        "\n",
        "        observe = ohlc[-last_candles:]\n",
        "\n",
        "        volatile_adx = (observe['Average-Directional-Index'] > 18) & (observe['Average-Directional-Index'] < 25)\n",
        "        mask_downtrend_crossover  = observe['crossover_smi'] == -1\n",
        "        downtrend_heikin_ashi  = observe['Heikin-Ashi-Status'] == 'Red'\n",
        "\n",
        "        if cross_only:  find   =                mask_downtrend_crossover\n",
        "        else :          find   = volatile_adx & mask_downtrend_crossover & downtrend_heikin_ashi\n",
        "        matches = observe[find]\n",
        "        if  len(matches) > 0 :\n",
        "              sort_index.append(index)\n",
        "              symbol, order, stop_loss, take_profit, time  =  cls.get_signal_data( matches, order_type = -1 )\n",
        "              signal  =  [symbol, order, stop_loss, take_profit, time, chart_type]\n",
        "              signal_list.append(signal)\n",
        "\n",
        "      sorted_data = [ bar_df[sorting.values][i] for i in range(len(bar_df[sorting.values])) if i in sort_index ]\n",
        "\n",
        "      return sorted_data, signal_list\n",
        "\n",
        "    @classmethod\n",
        "    def sort_trend_change_early_exit(cls, bar_df,   last_candles = 10  ):\n",
        "\n",
        "      sort_index, signal_list, comments = [] , [] , []\n",
        "      for index, ohlc in enumerate(bar_df[sorting.values]):\n",
        "\n",
        "          observe = ohlc[-last_candles:]\n",
        "\n",
        "          # Filter based on Average Directional Index (ADX)\n",
        "          volatile_adx = observe['Average-Directional-Index'] > 20\n",
        "\n",
        "          mask_downtrend_crossover  = observe['Crossover'] == -1\n",
        "          mask_uptrend_crossover    = observe['Crossover'] ==  1\n",
        "          down =  np.where(mask_downtrend_crossover)\n",
        "          up   =  np.where(mask_uptrend_crossover)\n",
        "          # np.where\n",
        "\n",
        "          # Combine filters using logical AND\n",
        "          matches = observe[volatile_adx & mask_downtrend_crossover]\n",
        "          symbol = observe['symbol'][0]\n",
        "\n",
        "          if  len(up) > 1 or len(down) > 1 :\n",
        "                  sort_index.append(index)\n",
        "\n",
        "                  if up[0] < down[0]:   comments.append(f\" Uptrend came at {observe['index'][up[0]]} but downward-crossover changed situation\")\n",
        "                  else: comments.append(f\" Downtrend came at {observe['index'][down[0]]} but upward-crossover changed situation\")\n",
        "\n",
        "\n",
        "                  if up[0] != up[-1] or down[0] != down[-1]:\n",
        "\n",
        "                    comments.append(f\" Use Higher TimeFrame With 200 EMA/50 and ADX 20 period\")\n",
        "\n",
        "                    if up[-1] < down[-1]:  comments.append(f\" Downtrend came at {observe['index'][down[-1]]} situation changed may close buy\\\n",
        "                                                          trades after seeing chart, adx status and heikin ashi candles\")\n",
        "\n",
        "                    if up[-1] > down[-1]:  comments.append(f\" Uptrend came at {observe['index'][up[-1]]} situation changed may close sell\\\n",
        "                                                          trades after seeing chart, adx status and heikin ashi candles\")\n",
        "                    signal = [ symbol, comments ]\n",
        "                    signal_list.append(signal)\n",
        "\n",
        "\n",
        "          elif  len(up) == 1 and len(down) != 0 :\n",
        "                  sort_index.append(index)\n",
        "                  comments.append(f\" One up-crossover  Use Higher TimeFrame With 200 EMA/50 and ADX 20 period\")\n",
        "\n",
        "                  if up[0] < down[0]:   comments.append(f\" Uptrend came at {observe['index'][up[0]]} but downward-crossover changed situation\")\n",
        "                  else: comments.append(f\" Downtrend came at {observe['index'][down[0]]} but upward-crossover changed situation\")\n",
        "\n",
        "                  if up[0] != up[-1] or down[0] != down[-1]:\n",
        "                      comments.append(f\" Use Higher TimeFrame With 200 EMA/50 and ADX 20 period\")\n",
        "\n",
        "                      if up[-1] < down[-1]:  comments.append(f\" Downtrend came at {observe['index'][down[-1]]} situation changed may close buy\\\n",
        "                                                            trades after seeing chart, adx status and heikin ashi candles\")\n",
        "                      if up[-1] > down[-1]:  comments.append(f\" Uptrend came at {observe['index'][up[-1]]} situation changed may close sell\\\n",
        "                                                            trades after seeing chart, adx status and heikin ashi candles\")\n",
        "                  signal = [ symbol, comments ]\n",
        "                  signal_list.append(signal)\n",
        "\n",
        "\n",
        "          elif  len(down) == 1 and len(up) != 0 :\n",
        "                  sort_index.append(index)\n",
        "                  comments.append(f\" One down-crossover and tried   Use Higher TimeFrame With 200 EMA/50 and ADX 20 period\")\n",
        "\n",
        "                  if up[0] < down[0]:   comments.append(f\" Uptrend came at {observe['index'][up[0]]} but downward-crossover changed situation\")\n",
        "                  else: comments.append(f\" Downtrend came at {observe['index'][down[0]]} but upward-crossover changed situation\")\n",
        "\n",
        "                  if up[0] != up[-1] or down[0] != down[-1]: comments.append(f\" Use Higher TimeFrame With 200 EMA/50 and ADX 20 period\")\n",
        "\n",
        "                  if up[-1] < down[-1]:  comments.append(f\" Downtrend came at {observe['index'][down[-1]]} situation changed may close buy\\\n",
        "                                                         trades after seeing chart, adx status and heikin ashi candles\")\n",
        "                  if up[-1] > down[-1]:  comments.append(f\" Uptrend came at {observe['index'][up[-1]]} situation changed may close sell\\\n",
        "                                                         trades after seeing chart, adx status and heikin ashi candles\")\n",
        "                  signal = [ symbol, comments ]\n",
        "                  signal_list.append(signal)\n",
        "\n",
        "          else:\n",
        "                  continue\n",
        "      sorted_data = [ bar_df[sorting.values][i] for i in range(len(bar_df[sorting.values])) if i in sort_index ]\n",
        "\n",
        "      return sorted_data, signal_list"
      ],
      "metadata": {
        "id": "DDNoFMBjWVau"
      },
      "id": "DDNoFMBjWVau",
      "execution_count": 161,
      "outputs": []
    },
    {
      "cell_type": "code",
      "source": [
        "chart_type"
      ],
      "metadata": {
        "colab": {
          "base_uri": "https://localhost:8080/"
        },
        "id": "SYS9TW1u0mLM",
        "outputId": "c8a1b6a8-c6ab-4432-84ce-82b1609b148c"
      },
      "id": "SYS9TW1u0mLM",
      "execution_count": 67,
      "outputs": [
        {
          "output_type": "execute_result",
          "data": {
            "text/plain": [
              "1"
            ]
          },
          "metadata": {},
          "execution_count": 67
        }
      ]
    },
    {
      "cell_type": "code",
      "source": [],
      "metadata": {
        "colab": {
          "base_uri": "https://localhost:8080/"
        },
        "id": "NOoPeUSGZzRo",
        "outputId": "f5328cee-51f0-43d3-fafb-4b018b6064b8"
      },
      "id": "NOoPeUSGZzRo",
      "execution_count": 123,
      "outputs": [
        {
          "output_type": "execute_result",
          "data": {
            "text/plain": [
              "[['BTC-USD',\n",
              "  'sell',\n",
              "  42356.18656685639,\n",
              "  41405.50093314361,\n",
              "  numpy.datetime64('2023-12-17T08','h'),\n",
              "  '1H']]"
            ]
          },
          "metadata": {},
          "execution_count": 123
        }
      ]
    },
    {
      "cell_type": "code",
      "source": [
        "print(sorted_data[0]['smi'], sorted_data[0]['smi_ema'])\n",
        "# sorted_data[0]"
      ],
      "metadata": {
        "id": "qSuZHLMc2TUe"
      },
      "id": "qSuZHLMc2TUe",
      "execution_count": null,
      "outputs": []
    },
    {
      "cell_type": "code",
      "source": [
        "chart = '1H'\n",
        "step  =  1\n",
        "chart_type = str(int( int(chart[0]) * step)) + str(f\"{chart[-1]}\")\n",
        "\n",
        "\n",
        "sorted_data, signal_list = sorting.stochastic_momentum_downtrend( bar_df, last_candles = 10, cross_only= True , chart_type =chart_type)\n",
        "signal_list\n"
      ],
      "metadata": {
        "colab": {
          "base_uri": "https://localhost:8080/"
        },
        "id": "vDCdUgyt3XKt",
        "outputId": "2080be8f-6e14-4e6f-d0b0-c9c2fc23def9"
      },
      "id": "vDCdUgyt3XKt",
      "execution_count": 80,
      "outputs": [
        {
          "output_type": "execute_result",
          "data": {
            "text/plain": [
              "[['BTC-USD',\n",
              "  'sell',\n",
              "  42323.80396430641,\n",
              "  41595.64916069359,\n",
              "  numpy.datetime64('2023-12-17T23','h'),\n",
              "  '1H']]"
            ]
          },
          "metadata": {},
          "execution_count": 80
        }
      ]
    },
    {
      "cell_type": "markdown",
      "source": [
        "For Acitive Orders Early Exit / For Trend Change Early Alert"
      ],
      "metadata": {
        "id": "0tklr0QYRywT"
      },
      "id": "0tklr0QYRywT"
    },
    {
      "cell_type": "code",
      "source": [
        "def sort_trend_change_early_exit(cls, bar_df,   last_candles = 10  ):\n",
        "\n",
        "      sort_index = []\n",
        "      for index, ohlc in enumerate(bar_df[sorting.values]):\n",
        "\n",
        "          last_candles = 3\n",
        "          observe = ohlc[-3:]\n",
        "\n",
        "          # Filter based on Average Directional Index (ADX)\n",
        "          mask_adx = observe['Average-Directional-Index'] > 19\n",
        "\n",
        "          # Filter based on Stochastic Oscillator\n",
        "          # mask_stochastic = observe['Stochastic-Oscillator'] < 20\n",
        "          mask_downtrend_crossover  = observe[ (observe['Crossover'] == -1) & (observe['Crossover'] == 1) ]\n",
        "\n",
        "          # Combine filters using logical AND\n",
        "\n",
        "          matches = observe[mask_adx & mask_downtrend_crossover]\n",
        "          if  len(matches) > 0 :  sort_index.append(index)\n",
        "\n",
        "          # print(index, filtered_data)\n",
        "      # Using list comprehension\n",
        "      sorted_data = [ bar_df[values][i] for i in range(len(bar_df[sorting.values])) if i in sort_index ]\n",
        "\n",
        "      return sorted_data\n",
        "\n"
      ],
      "metadata": {
        "colab": {
          "base_uri": "https://localhost:8080/"
        },
        "id": "lalOz0ul_IFK",
        "outputId": "f122b7d0-94bf-4211-fcb8-d0d40892af33"
      },
      "id": "lalOz0ul_IFK",
      "execution_count": null,
      "outputs": [
        {
          "output_type": "execute_result",
          "data": {
            "text/plain": [
              "2"
            ]
          },
          "metadata": {},
          "execution_count": 30
        }
      ]
    },
    {
      "cell_type": "markdown",
      "source": [
        "# Get Signal"
      ],
      "metadata": {
        "id": "Wx0So3G3atCd"
      },
      "id": "Wx0So3G3atCd"
    },
    {
      "cell_type": "code",
      "source": [
        "bar_df"
      ],
      "metadata": {
        "colab": {
          "base_uri": "https://localhost:8080/"
        },
        "id": "Yh55c8XUurTO",
        "outputId": "c2eea6fb-2a2c-4e60-a34b-19a4321f9f58"
      },
      "id": "Yh55c8XUurTO",
      "execution_count": null,
      "outputs": [
        {
          "output_type": "execute_result",
          "data": {
            "text/plain": [
              "[('index',\n",
              "  'symbol',\n",
              "  'Open',\n",
              "  'High',\n",
              "  'Low',\n",
              "  'Close',\n",
              "  'Heikin-Ashi-Status',\n",
              "  'Direction',\n",
              "  'Average-Directional-Index',\n",
              "  'Crossover',\n",
              "  'Stop_Loss',\n",
              "  'Take_Profit',\n",
              "  'ema20',\n",
              "  'ema5',\n",
              "  'bb_lower',\n",
              "  'bb_upper',\n",
              "  'atr_lower',\n",
              "  'atr_upper',\n",
              "  'ha_open',\n",
              "  'ha_high',\n",
              "  'ha_low',\n",
              "  'ha_close'),\n",
              " [array([('2023-12-04T14', 'BTC-USD', 40713.6171875 , 42108.5859375 , 40713.6171875 , 41754.0859375 , 'Red', 1., 99.11337646, 0., -2.14319786e+37, 2.14319786e+37, 39328., 40384., 41968.66681164, 43087.33318836, -2.14319786e+37, 2.14319786e+37, 2.34824547e+29, 2.34824547e+29, 40713.6171875 , 41322.4765625 ),\n",
              "         ('2023-12-04T18', 'BTC-USD', 41233.8515625 , 41898.25      , 41194.734375  , 41625.95703125, 'Red', 1., 99.2242044 , 0., -1.71455841e+37, 1.71455841e+37, 39552., 40832., 42078.64537712, 43105.35462288, -1.71455841e+37, 1.71455841e+37, 1.17412273e+29, 1.17412273e+29, 41194.734375  , 41488.19921875),\n",
              "         ('2023-12-04T22', 'BTC-USD', 41429.90625   , 41987.6171875 , 41429.90625   , 41718.52734375, 'Red', 1., 99.32117885, 0., -1.37164675e+37, 1.37164675e+37, 39744., 41088., 42196.8158708 , 43115.1841292 , -1.37164675e+37, 1.37164675e+37, 5.87061367e+28, 5.87061367e+28, 41429.90625   , 41641.48828125),\n",
              "         ('2023-12-05T02', 'BTC-USD', 41574.21875   , 42371.75      , 41574.21875   , 41938.0625    , 'Red', 1., 99.4060315 , 0., -1.09731740e+37, 1.09731740e+37, 39936., 41312., 42312.73981494, 43127.26018506, -1.09731740e+37, 1.09731740e+37, 2.93530684e+28, 2.93530684e+28, 41574.21875   , 41864.5625    ),\n",
              "         ('2023-12-05T06', 'BTC-USD', 41756.140625  , 41917.05859375, 41631.609375  , 41805.26953125, 'Red', 1., 99.48027756, 0., -8.77853872e+36, 8.77853872e+36, 40128., 41536., 42359.62830089, 43144.37169911, -8.77853872e+36, 8.77853872e+36, 1.46765342e+28, 1.46765342e+28, 41631.609375  , 41777.51953125),\n",
              "         ('2023-12-05T10', 'BTC-USD', 41780.703125  , 41908.14453125, 41421.1484375 , 41674.296875  , 'Green', 1., 99.54524286, 0., -7.02283123e+36, 7.02283123e+36, 40288., 41632., 42380.097764  , 43251.902236  , -7.02283123e+36, 7.02283123e+36, 7.33826709e+27, 7.33826709e+27, 41421.1484375 , 41696.07421875),\n",
              "         ('2023-12-05T14', 'BTC-USD', 41727.5       , 41873.3984375 , 41576.92578125, 41726.4609375 , 'Green', 1., 99.60208751, 0., -5.61826486e+36, 5.61826486e+36, 40416., 41632., 42449.01769586, 43310.98230414, -5.61826486e+36, 5.61826486e+36, 3.66913354e+27, 3.66913354e+27, 41576.92578125, 41726.0703125 ),\n",
              "         ('2023-12-05T18', 'BTC-USD', 41726.98046875, 42747.953125  , 41726.98046875, 42290.8515625 , 'Green', 1., 99.65182657, 0., -4.49461207e+36, 4.49461207e+36, 40544., 41664., 42445.02084851, 43442.97915149, -4.49461207e+36, 4.49461207e+36, 1.83456677e+27, 1.83456677e+27, 41726.98046875, 42123.19140625),\n",
              "         ('2023-12-05T22', 'BTC-USD', 42008.9140625 , 44062.89453125, 42008.9140625 , 43307.75      , 'Red', 1., 99.69534825, 0., -3.59568966e+36, 3.59568966e+36, 40704., 41888., 42602.24123756, 43349.75876244, -3.59568966e+36, 3.59568966e+36, 9.17283386e+26, 9.17283386e+26, 42008.9140625 , 42847.1171875 ),\n",
              "         ('2023-12-06T02', 'BTC-USD', 42658.33203125, 44408.6640625 , 42658.33203125, 44007.59765625, 'Green', 1., 99.73342972, 0., -2.87655179e+36, 2.87655179e+36, 40960., 42368., 42603.72042752, 43476.27957248, -2.87655179e+36, 2.87655179e+36, 4.58641693e+26, 4.58641693e+26, 42658.33203125, 43433.23046875),\n",
              "         ('2023-12-06T06', 'BTC-USD', 43332.96484375, 44140.87890625, 43332.96484375, 43909.140625  , 'Green', 1., 99.766751  , 0., -2.30124124e+36, 2.30124124e+36, 41248., 42912., 42663.65124965, 43544.34875035, -2.30124124e+36, 2.30124124e+36, 2.29320847e+26, 2.29320847e+26, 43332.96484375, 43678.98828125),\n",
              "         ('2023-12-06T10', 'BTC-USD', 43621.0546875 , 43861.5       , 43480.46484375, 43731.51171875, 'Green', 1., 99.79590713, 0., -1.84099296e+36, 1.84099296e+36, 41504., 43232., 42751.20158747, 43584.79841253, -1.84099296e+36, 1.84099296e+36, 1.14660423e+26, 1.14660423e+26, 43480.46484375, 43673.6328125 ),\n",
              "         ('2023-12-06T14', 'BTC-USD', 43676.28125   , 44258.25390625, 43478.08203125, 43908.48828125, 'Red', 1., 99.82141874, 0., -1.47279450e+36, 1.47279450e+36, 41728., 43392., 42893.41528177, 43506.58471823, -1.47279450e+36, 1.47279450e+36, 5.73302116e+25, 5.73302116e+25, 43478.08203125, 43830.27734375),\n",
              "         ('2023-12-06T18', 'BTC-USD', 43792.3828125 , 44265.76953125, 43748.9375    , 43969.5625    , 'Red', 1., 99.84374139, 0., -1.17823560e+36, 1.17823560e+36, 41920., 43552., 42949.05645984, 43514.94354016, -1.17823560e+36, 1.17823560e+36, 2.86651058e+25, 2.86651058e+25, 43748.9375    , 43944.1640625 )],\n",
              "        dtype=[('index', '<M8[h]'), ('symbol', '<U20'), ('Open', '<f8'), ('High', '<f8'), ('Low', '<f8'), ('Close', '<f8'), ('Heikin-Ashi-Status', '<U10'), ('Direction', '<f8'), ('Average-Directional-Index', '<f8'), ('Crossover', '<f8'), ('Stop_Loss', '<f8'), ('Take_Profit', '<f8'), ('ema20', '<f8'), ('ema5', '<f8'), ('bb_lower', '<f8'), ('bb_upper', '<f8'), ('atr_lower', '<f8'), ('atr_upper', '<f8'), ('ha_open', '<f8'), ('ha_high', '<f8'), ('ha_low', '<f8'), ('ha_close', '<f8')]),\n",
              "  array([('2023-12-04T14', 'ETH-USD', 2218.93310547, 2273.06982422, 2218.93310547, 2250.96362305, 'Red', 1., 98.72432959, 0., -1.05589342e+38, 1.05589342e+38, 2142., 2204., 2226.19902095, 2261.80097905, -1.05589342e+38, 1.05589342e+38, nan, 2273.06982422, 2218.93310547, 2240.47485352),\n",
              "         ('2023-12-04T18', 'ETH-USD', 2234.94824219, 2254.51733398, 2205.07958984, 2234.55102539, 'Red', 1., 95.51132813, 0., -8.44714696e+37, 8.44714696e+37, 2152., 2220., 2230.84874695, 2261.15125305, -8.44714696e+37, 8.44714696e+37, nan, 2254.51733398, 2205.07958984, 2232.27392578),\n",
              "         ('2023-12-04T22', 'ETH-USD', 2234.74951172, 2234.74951172, 2216.06884766, 2225.79980469, 'Red', 1., 95.61859381, 0., -6.75771757e+37, 6.75771757e+37, 2160., 2224., 2237.69927481, 2258.30072519, -6.75771757e+37, 6.75771757e+37, nan, 2234.74951172, 2216.06884766, 2227.84179688),\n",
              "         ('2023-12-05T02', 'ETH-USD', 2230.2746582 , 2253.00585938, 2223.04663086, 2238.96679688, 'Red', 1., 95.80501225, 0., -5.40617385e+37, 5.40617385e+37, 2166., 2224., 2241.10431453, 2258.89568547, -5.40617385e+37, 5.40617385e+37, nan, 2253.00585938, 2223.04663086, 2236.32348633),\n",
              "         ('2023-12-05T06', 'ETH-USD', 2234.62060547, 2251.85400391, 2224.43310547, 2238.51098633, 'Red', 1., 95.96273609, 0., -4.32493939e+37, 4.32493939e+37, 2172., 2228., 2241.74667455, 2258.25332545, -4.32493939e+37, 4.32493939e+37, nan, 2251.85400391, 2224.43310547, 2237.35473633),\n",
              "         ('2023-12-05T10', 'ETH-USD', 2236.56591797, 2237.08276367, 2191.17626953, 2213.96337891, 'Green', 1., 87.97183645, 0., -3.45995141e+37, 3.45995141e+37, 2178., 2232., 2241.59442273, 2262.40557727, -3.45995141e+37, 3.45995141e+37, nan, 2237.08276367, 2191.17626953, 2219.69702148),\n",
              "         ('2023-12-05T14', 'ETH-USD', 2225.26464844, 2225.26464844, 2195.06420898, 2205.38256836, 'Green', 1., 81.7410418 , 0., -2.76796123e+37, 2.76796123e+37, 2182., 2226., 2244.00102025, 2263.99897975, -2.76796123e+37, 2.76796123e+37, nan, 2225.26464844, 2195.06420898, 2212.74414062),\n",
              "         ('2023-12-05T18', 'ETH-USD', 2215.32373047, 2241.78198242, 2200.2878418 , 2222.06152344, 'Green', 1., 77.70422472, 0., -2.21436883e+37, 2.21436883e+37, 2184., 2220., 2246.2801648 , 2265.7198352 , -2.21436883e+37, 2.21436883e+37, nan, 2241.78198242, 2200.2878418 , 2219.86376953),\n",
              "         ('2023-12-05T22', 'ETH-USD', 2218.69262695, 2306.5703125 , 2218.69262695, 2260.58447266, 'Red', 1., 77.01950807, 0., -1.77149519e+37, 1.77149519e+37, 2188., 2220., 2255.75153587, 2256.24846413, -1.77149519e+37, 1.77149519e+37, nan, 2306.5703125 , 2218.69262695, 2251.13500977),\n",
              "         ('2023-12-06T02', 'ETH-USD', 2239.63867188, 2307.76245117, 2239.63867188, 2285.38354492, 'Red', 1., 76.45296984, 0., -1.41719610e+37, 1.41719610e+37, 2194., 2234., 2253.43885782, 2258.56114218, -1.41719610e+37, 1.41719610e+37, nan, 2307.76245117, 2239.63867188, 2268.10595703),\n",
              "         ('2023-12-06T06', 'ETH-USD', 2262.51123047, 2310.71313477, 2262.51123047, 2293.86523438, 'Red', 1., 76.04620574, 0., -1.13375691e+37, 1.13375691e+37, 2202., 2252., 2253.25546676, 2258.74453324, -1.13375691e+37, 1.13375691e+37, nan, 2310.71313477, 2262.51123047, 2282.40014648),\n",
              "         ('2023-12-06T10', 'ETH-USD', 2278.18823242, 2283.08618164, 2260.60180664, 2276.04858398, 'Red', 1., 75.2839076 , 0., -9.07005526e+36, 9.07005526e+36, 2210., 2266., 2254.98128615, 2257.01871385, -9.07005526e+36, 9.07005526e+36, nan, 2283.08618164, 2260.60180664, 2274.48120117),\n",
              "         ('2023-12-06T14', 'ETH-USD', 2277.1184082 , 2287.17651367, 2238.83251953, 2267.59375   , 'Red', 1., 70.4422911 , 0., -7.25604471e+36, 7.25604471e+36, 2216., 2270., 2255.4937184 , 2256.5062816 , -7.25604471e+36, 7.25604471e+36, nan, 2287.17651367, 2238.83251953, 2267.68017578),\n",
              "         ('2023-12-06T18', 'ETH-USD', 2272.35595703, 2272.35595703, 2249.4230957 , 2261.56591797, 'Green', 1., 68.29955781, 0., -5.80483514e+36, 5.80483514e+36, 2220., 2270., 2253.47645317, 2258.52354683, -5.80483514e+36, 5.80483514e+36, nan, 2272.35595703, 2249.4230957 , 2263.92529297)],\n",
              "        dtype=[('index', '<M8[h]'), ('symbol', '<U20'), ('Open', '<f8'), ('High', '<f8'), ('Low', '<f8'), ('Close', '<f8'), ('Heikin-Ashi-Status', '<U10'), ('Direction', '<f8'), ('Average-Directional-Index', '<f8'), ('Crossover', '<f8'), ('Stop_Loss', '<f8'), ('Take_Profit', '<f8'), ('ema20', '<f8'), ('ema5', '<f8'), ('bb_lower', '<f8'), ('bb_upper', '<f8'), ('atr_lower', '<f8'), ('atr_upper', '<f8'), ('ha_open', '<f8'), ('ha_high', '<f8'), ('ha_low', '<f8'), ('ha_close', '<f8')])]]"
            ]
          },
          "metadata": {},
          "execution_count": 55
        }
      ]
    },
    {
      "cell_type": "code",
      "source": [
        "bar_df"
      ],
      "metadata": {
        "colab": {
          "base_uri": "https://localhost:8080/"
        },
        "id": "XQEnwZJ2o_M3",
        "outputId": "d9bec010-2091-4efb-a61e-7a4d0264d7cf"
      },
      "id": "XQEnwZJ2o_M3",
      "execution_count": null,
      "outputs": [
        {
          "output_type": "execute_result",
          "data": {
            "text/plain": [
              "[14, 14, 14, 14, 14, 14, 14, 14]"
            ]
          },
          "metadata": {},
          "execution_count": 16
        }
      ]
    },
    {
      "cell_type": "code",
      "source": [
        "import numpy as np\n",
        "\n",
        "# Create a structured array\n",
        "data = np.array([('Alice', 25, 160, 50, 1 , 2), ('Bob', 30, 170, 60, 2, 1),\n",
        "                   ('Charlie', 28, 180, 70, 3, 4), ('Diana', 35, 190, 80, 4, 7)],\n",
        "                  dtype=[('name', 'U10'), ('age', 'i4'), ('height', 'i4'), ('weight', 'i4'), ('sign', 'i4' ), ('band', 'i4')])\n",
        "\n",
        "# Filter data with age > 28 and age < 39\n",
        "filtered_data3 =  data[(data['sign'] == -1) | (data['sign'] == 1)]\n",
        "filtered_data2 =  data[data['sign'] == -1 ]\n",
        "filter_alpha =  data['sign'] < data['band']\n",
        "filter_beta  =  data['sign'] > data['band']\n",
        "\n",
        "\n",
        "# Print filtered data\n",
        "if len(filter_alpha) > 0 and len(filter_beta) > 0  : find =  filter_alpha | filter_beta\n",
        "matches =  data[find]\n",
        "print(filter_beta)\n",
        "print(filter_alpha)\n",
        "print(\"-----------\")\n",
        "print(matches)"
      ],
      "metadata": {
        "colab": {
          "base_uri": "https://localhost:8080/"
        },
        "id": "emQGGl2fQIWP",
        "outputId": "b0afde67-dc1f-4367-e1c2-f9f7bdabac5e"
      },
      "id": "emQGGl2fQIWP",
      "execution_count": null,
      "outputs": [
        {
          "output_type": "stream",
          "name": "stdout",
          "text": [
            "[False  True False False]\n",
            "[ True False  True  True]\n",
            "-----------\n",
            "[('Alice', 25, 160, 50, 1, 2) ('Bob', 30, 170, 60, 2, 1)\n",
            " ('Charlie', 28, 180, 70, 3, 4) ('Diana', 35, 190, 80, 4, 7)]\n"
          ]
        }
      ]
    },
    {
      "cell_type": "code",
      "source": [],
      "metadata": {
        "colab": {
          "base_uri": "https://localhost:8080/"
        },
        "id": "NhQtcnMhQRPa",
        "outputId": "b5a585cf-e318-4f60-fc4e-3c0846cb9fa7"
      },
      "id": "NhQtcnMhQRPa",
      "execution_count": null,
      "outputs": [
        {
          "output_type": "execute_result",
          "data": {
            "text/plain": [
              "4"
            ]
          },
          "metadata": {},
          "execution_count": 61
        }
      ]
    },
    {
      "cell_type": "code",
      "source": [
        "idxa = np.ravel(np.where(filter_alpha))\n",
        "idxb = np.ravel(np.where(filter_beta))\n",
        "print(idxa[0] ,idxa[-1])\n",
        "print(idxb[0] ,idxb[-1])\n"
      ],
      "metadata": {
        "colab": {
          "base_uri": "https://localhost:8080/"
        },
        "id": "Y4EMApHpGH1z",
        "outputId": "1b68a3e9-f3bf-46af-d3f4-bd69c69c14fe"
      },
      "id": "Y4EMApHpGH1z",
      "execution_count": null,
      "outputs": [
        {
          "output_type": "stream",
          "name": "stdout",
          "text": [
            "0 3\n",
            "1 1\n"
          ]
        }
      ]
    },
    {
      "cell_type": "code",
      "source": [
        "data[filter_alpha][0]\n",
        "\n",
        "# data[filter_beta][0]['name']"
      ],
      "metadata": {
        "colab": {
          "base_uri": "https://localhost:8080/"
        },
        "id": "BpZylHEhEwfd",
        "outputId": "6d8d60b6-097d-4675-c409-e787299bf43f"
      },
      "id": "BpZylHEhEwfd",
      "execution_count": null,
      "outputs": [
        {
          "output_type": "execute_result",
          "data": {
            "text/plain": [
              "('Alice', 25, 160, 50, 1, 2)"
            ]
          },
          "metadata": {},
          "execution_count": 26
        }
      ]
    },
    {
      "cell_type": "code",
      "source": [
        "import numpy as np\n",
        "from numpy.lib.recfunctions import rec_append_fields\n",
        "\n",
        "# Original data\n",
        "data = np.array([('Alice', 25, 160, 50, 1, 2), ('Bob', 30, 170, 60, 2, 1),\n",
        "                 ('Charlie', 28, 180, 70, 3, 4), ('Diana', 35, 190, 80, 4, 7)],\n",
        "                dtype=[('name', 'U10'), ('age', 'i4'), ('height', 'i4'), ('weight', 'i4'), ('smi', 'i4'), ('smi_ema', 'i4')])\n",
        "\n",
        "# Additional datetime data\n",
        "datetime_data = np.array(['2023-01-01', '2023-02-01', '2023-03-01', '2023-04-01'], dtype='datetime64')\n",
        "\n",
        "# Insert datetime column at the beginning\n",
        "data_with_datetime = rec_append_fields(data, 'index', datetime_data)\n",
        "\n",
        "new_order = ['index' , 'name', 'age', 'weight', 'height', 'smi', 'smi_ema']\n",
        "# dt_default = datetime_data.dtype\n",
        "dt   = np.dtype([ ('index', 'datetime64'),  ('name', 'U20'), ('age', 'i4' ), ('weight', 'i4' ), \\\n",
        " ('height', float), ('smi', 'i4'), ('smi_ema', 'i4') ])\n",
        "\n",
        "\n",
        "dt   = np.dtype([ ('index', 'datetime64[D]'),  ('name', 'U20'), ('age', 'i4' ), ('weight', 'i4' ), \\\n",
        " ('height', float), ('smi', 'i4'), ('smi_ema', 'i4') ])\n",
        "#\n",
        "\n",
        "# new_data  = [] * len(data_with_datetime)\n",
        "data = np.empty(len(data_with_datetime), dtype=dt)\n",
        "\n",
        "for i in range(len(data)):\n",
        "  row = data_with_datetime[i]\n",
        "  data[i] = tuple(row[index] for index in new_order)\n",
        "print(data)"
      ],
      "metadata": {
        "colab": {
          "base_uri": "https://localhost:8080/"
        },
        "id": "sLuM-3hOLLvd",
        "outputId": "33bcffee-0c4f-4966-d75e-b80c1f057089"
      },
      "id": "sLuM-3hOLLvd",
      "execution_count": null,
      "outputs": [
        {
          "output_type": "stream",
          "name": "stdout",
          "text": [
            "[('2023-01-01', 'Alice', 25, 50, 160., 1, 2)\n",
            " ('2023-02-01', 'Bob', 30, 60, 170., 2, 1)\n",
            " ('2023-03-01', 'Charlie', 28, 70, 180., 3, 4)\n",
            " ('2023-04-01', 'Diana', 35, 80, 190., 4, 7)]\n"
          ]
        }
      ]
    },
    {
      "cell_type": "code",
      "source": [
        "filter_alpha =  data['smi'] < data['smi_ema']\n",
        "filter_beta  =  data['smi'] > data['smi_ema']\n",
        "\n",
        "\n",
        "# Print filtered data\n",
        "if len(filter_alpha) > 0 and len(filter_beta) > 0  : find =  filter_beta |  filter_alpha\n",
        "# elif  continue\n",
        "matches =  data[find]\n",
        "print(filter_beta)\n",
        "print(filter_alpha)\n",
        "print(\"-----------\")\n",
        "print(matches)"
      ],
      "metadata": {
        "id": "Zea9TV9kViMo",
        "colab": {
          "base_uri": "https://localhost:8080/"
        },
        "outputId": "8b3db791-bd04-411b-c1cd-bb52c90cd1b0"
      },
      "id": "Zea9TV9kViMo",
      "execution_count": null,
      "outputs": [
        {
          "output_type": "stream",
          "name": "stdout",
          "text": [
            "[False  True False False]\n",
            "[ True False  True  True]\n",
            "-----------\n",
            "[('2023-01-01', 'Alice', 25, 50, 160., 1, 2)\n",
            " ('2023-02-01', 'Bob', 30, 60, 170., 2, 1)\n",
            " ('2023-03-01', 'Charlie', 28, 70, 180., 3, 4)\n",
            " ('2023-04-01', 'Diana', 35, 80, 190., 4, 7)]\n"
          ]
        }
      ]
    },
    {
      "cell_type": "code",
      "source": [
        "age_mask2 = (data['age'] > 28) & (data['age'] < data['height'] )\n",
        "age_mask  = data['age'] < data['height']\n",
        "height_mask = data['height'] > 175\n",
        "weight_mask = data['weight'] < 65\n",
        "name_mask = data['name'] == 'Charlie'\n"
      ],
      "metadata": {
        "id": "IQdDWKQ-wwqi"
      },
      "id": "IQdDWKQ-wwqi",
      "execution_count": null,
      "outputs": []
    },
    {
      "cell_type": "code",
      "source": [
        "combined_mask = age_mask & height_mask\n",
        "filtered_data = data[combined_mask]\n",
        "filtered_data"
      ],
      "metadata": {
        "colab": {
          "base_uri": "https://localhost:8080/"
        },
        "id": "HgkX2tBVw0n5",
        "outputId": "4a3ad16c-9af8-49a9-ce10-16c2a0f4b775"
      },
      "id": "HgkX2tBVw0n5",
      "execution_count": null,
      "outputs": [
        {
          "output_type": "execute_result",
          "data": {
            "text/plain": [
              "array([('Charlie', 28, 180, 70, 3, 4), ('Diana', 35, 190, 80, 4, 7)],\n",
              "      dtype=[('name', '<U10'), ('age', '<i4'), ('height', '<i4'), ('weight', '<i4'), ('sign', '<i4'), ('band', '<i4')])"
            ]
          },
          "metadata": {},
          "execution_count": 28
        }
      ]
    },
    {
      "cell_type": "code",
      "source": [
        "import numpy as np\n",
        "\n",
        "# Create a structured array\n",
        "data = np.array([('Alice', 25, 160, 50, 1 , 0), ('Bob', 30, 170, 60, 2, 1),\n",
        "                   ('Charlie', 28, 180, 70, 3, 4), ('Diana', 35, 190, 80, 4, 7)],\n",
        "                  dtype=[('name', 'U10'), ('age', 'i4'), ('height', 'i4'), ('weight', 'i4'), ('sign', 'i4' ), ('band', 'i4')])\n",
        "\n",
        "# Filter data with age > 28 and age < 39\n",
        "filtered_data3 =  data[(data['sign'] == -1) | (data['sign'] == 1)]\n",
        "filtered_data2 =  data[data['sign'] == -1 ]\n",
        "filtered_data  =  data[data['sign'] < data['band'] ]\n",
        "# Print filtered data\n",
        "print(filtered_data['name'][0])\n"
      ],
      "metadata": {
        "id": "YyXHzSrqp7d1"
      },
      "id": "YyXHzSrqp7d1",
      "execution_count": null,
      "outputs": []
    },
    {
      "cell_type": "code",
      "source": [
        "# Example OHLC data\n",
        "ohlc_data = [\n",
        "    [1, 2, 3, 4, 5, 6, 7, 8, 9, 10],\n",
        "    [11, 12, 13, 14, 15, 16, 17, 18, 19, 20],\n",
        "    [21, 22, 23, 24, 25, 26, 27, 28, 29, 30],\n",
        "    [31, 32, 33, 34, 35, 36, 37, 38, 39, 40]\n",
        "]\n",
        "\n",
        "# Unpack 'low' values using list comprehension\n",
        "low_values = [low for low in bar_df[3]]\n",
        "\n",
        "# Printing the unpacked 'low' values\n",
        "print(len(low_values))\n"
      ],
      "metadata": {
        "colab": {
          "base_uri": "https://localhost:8080/"
        },
        "id": "D10Xuf1iUh0f",
        "outputId": "78700f02-1bc9-4233-f7c2-87a465476e85"
      },
      "id": "D10Xuf1iUh0f",
      "execution_count": null,
      "outputs": [
        {
          "output_type": "stream",
          "name": "stdout",
          "text": [
            "14\n"
          ]
        }
      ]
    },
    {
      "cell_type": "code",
      "source": [
        "import numpy as np\n",
        "from numpy.lib.recfunctions import append_fields\n",
        "\n",
        "# Original data\n",
        "data = np.array([('Alice', 25, 160, 50, 1, 2), ('Bob', 30, 170, 60, 2, 1),\n",
        "                 ('Charlie', 28, 180, 70, 3, 4), ('Diana', 35, 190, 80, 4, 7)],\n",
        "                dtype=[('name', 'U10'), ('age', 'i4'), ('height', 'i4'), ('weight', 'i4'), ('sign', 'i4'), ('band', 'i4')])\n",
        "\n",
        "# Add a new column 'direction'\n",
        "direction = np.where(data['sign'] > data['band'], 1, np.where(data['sign'] < data['band'], -1, 0))\n",
        "\n",
        "data = append_fields(data, 'direction', direction, usemask=False)\n",
        "\n",
        "# Add a new column 'crossover'\n",
        "crossover_values = np.where((data['direction'] == 1) & (np.roll(data['direction'], 1) == -1), 1,\n",
        "                             np.where((data['direction'] == -1) & (np.roll(data['direction'], 1) == 1), -1, 0))\n",
        "\n",
        "# Use append_fields to add the 'crossover' column\n",
        "data_with_crossover = append_fields(data, 'crossover', crossover_values, usemask=False)\n",
        "\n",
        "# Print the result\n",
        "print(data_with_crossover)\n"
      ],
      "metadata": {
        "id": "yW3YhvgG93h9",
        "colab": {
          "base_uri": "https://localhost:8080/"
        },
        "outputId": "19ce67f9-fc31-4320-f4ac-17965bf90283"
      },
      "id": "yW3YhvgG93h9",
      "execution_count": null,
      "outputs": [
        {
          "output_type": "stream",
          "name": "stdout",
          "text": [
            "[('Alice', 25, 160, 50, 1, 2, -1,  0) ('Bob', 30, 170, 60, 2, 1,  1,  1)\n",
            " ('Charlie', 28, 180, 70, 3, 4, -1, -1)\n",
            " ('Diana', 35, 190, 80, 4, 7, -1,  0)]\n"
          ]
        }
      ]
    },
    {
      "cell_type": "code",
      "source": [
        "import numpy as np\n",
        "from numpy.lib.recfunctions import rec_append_fields\n",
        "\n",
        "# Original data\n",
        "data = np.array([('Alice', 25, 160, 50, 1, 2), ('Bob', 30, 170, 60, 2, 1),\n",
        "                 ('Charlie', 28, 180, 70, 3, 4), ('Diana', 35, 190, 80, 4, 7)],\n",
        "                dtype=[('name', 'U10'), ('age', 'i4'), ('height', 'i4'), ('weight', 'i4'), ('sign', 'i4'), ('band', 'i4')])\n",
        "\n",
        "# Additional datetime data\n",
        "datetime_data = np.array(['2023-01-01', '2023-02-01', '2023-03-01', '2023-04-01'], dtype='datetime64')\n",
        "\n",
        "# Insert datetime column at the beginning\n",
        "data_with_datetime = rec_append_fields(data, 'index', datetime_data)\n",
        "\n",
        "# Print the resulting structured array\n",
        "print(data_with_datetime)\n"
      ],
      "metadata": {
        "colab": {
          "base_uri": "https://localhost:8080/"
        },
        "id": "EknhgXh18Klv",
        "outputId": "311875a2-b397-463a-d6f8-dd4bcb320e95"
      },
      "id": "EknhgXh18Klv",
      "execution_count": null,
      "outputs": [
        {
          "output_type": "stream",
          "name": "stdout",
          "text": [
            "[('Alice', 25, 160, 50, 1, 2, '2023-01-01')\n",
            " ('Bob', 30, 170, 60, 2, 1, '2023-02-01')\n",
            " ('Charlie', 28, 180, 70, 3, 4, '2023-03-01')\n",
            " ('Diana', 35, 190, 80, 4, 7, '2023-04-01')]\n"
          ]
        }
      ]
    },
    {
      "cell_type": "markdown",
      "source": [
        "# Numpy Structured Array Columns Swapping"
      ],
      "metadata": {
        "id": "Il8a28LOLmfZ"
      },
      "id": "Il8a28LOLmfZ"
    },
    {
      "cell_type": "code",
      "source": [
        "import numpy as np\n",
        "\n",
        "# Original data\n",
        "# data = np.array([('Alice', 25, 160, 50, 1, 2), ('Bob', 30, 170, 60, 2, 1),\n",
        "#                  ('Charlie', 28, 180, 70, 3, 4), ('Diana', 35, 190, 80, 4, 7)],\n",
        "#                 dtype=[('name', 'U10'), ('age', 'i4'), ('height', 'i4'), ('weight', 'i4'), ('sign', 'i4'), ('band', 'i4')])\n",
        "\n",
        "# # Define the new order of fields\n",
        "new_order = ['index' , 'name', 'age', 'weight', 'height', 'sign', 'band']\n",
        "\n",
        "dt   = np.dtype([ ('index', 'datetime64[h]'),  ('name', 'U20'), ('age', 'i4' ), ('weight', 'i4' ), \\\n",
        " ('height', float), ('sign', 'i4'), ('band', 'i4') ])\n",
        "#\n",
        "\n",
        "# new_data  = [] * len(data_with_datetime)\n",
        "new_data = np.empty(len(data_with_datetime), dtype=dt)\n",
        "\n",
        "for i in range(len(data)):\n",
        "  row = data_with_datetime[i]\n",
        "  # new_data[i]  = ( row[new_order[0]], row[new_order[1]], row[new_order[2]], row[new_order[3]], row[new_order[4]], row[new_order[5]], row[new_order[6]] )\n",
        "  new_data[i] = tuple(row[index] for index in new_order)\n",
        "    # new_data[i] = ( field for field in new_order) for row in data_with_datetime\n",
        "\n",
        "# Create a new structured array with the desired field order\n",
        "\n",
        "# Print the resulting structured array with reordered fields\n",
        "# print(data_reordered)\n",
        "# print(data['weight'])\n",
        "new_data"
      ],
      "metadata": {
        "colab": {
          "base_uri": "https://localhost:8080/"
        },
        "id": "kI5hG9ZI8M7P",
        "outputId": "1c014a6d-e382-43d8-9d71-ccf8aa11cb4d"
      },
      "id": "kI5hG9ZI8M7P",
      "execution_count": null,
      "outputs": [
        {
          "output_type": "execute_result",
          "data": {
            "text/plain": [
              "array([('2023-01-01T00', 'Alice', 25, 50, 160., 1, 2),\n",
              "       ('2023-02-01T00', 'Bob', 30, 60, 170., 2, 1),\n",
              "       ('2023-03-01T00', 'Charlie', 28, 70, 180., 3, 4),\n",
              "       ('2023-04-01T00', 'Diana', 35, 80, 190., 4, 7)],\n",
              "      dtype=[('index', '<M8[h]'), ('name', '<U20'), ('age', '<i4'), ('weight', '<i4'), ('height', '<f8'), ('sign', '<i4'), ('band', '<i4')])"
            ]
          },
          "metadata": {},
          "execution_count": 112
        }
      ]
    },
    {
      "cell_type": "code",
      "source": [
        "import numpy as np\n",
        "from numpy.lib.recfunctions import rec_append_fields\n",
        "\n",
        "# Original data\n",
        "data = np.array([('Alice', 25, 160, 50, 1, 2), ('Bob', 30, 170, 60, 2, 1),\n",
        "                 ('Charlie', 28, 180, 70, 3, 4), ('Diana', 35, 190, 80, 4, 7)],\n",
        "                dtype=[('name', 'U10'), ('age', 'i4'), ('height', 'i4'), ('weight', 'i4'), ('sign', 'i4'), ('band', 'i4')])\n",
        "\n",
        "# Additional datetime data\n",
        "datetime_data = np.array(['2023-01-01', '2023-02-01', '2023-03-01', '2023-04-01'], dtype='datetime64')\n",
        "\n",
        "# Insert datetime column at the beginning\n",
        "data_with_datetime = rec_append_fields(data, 'index', datetime_data)\n",
        "\n",
        "# Print the resulting structured array\n",
        "print(data_with_datetime)\n",
        "\n",
        "new_order = ['index' , 'name', 'age', 'weight', 'height', 'sign', 'band']\n",
        "# dt_default = datetime_data.dtype\n",
        "\n",
        "dt   = np.dtype([ ('index', 'datetime64'),  ('name', 'U20'), ('age', 'i4' ), ('weight', 'i4' ), \\\n",
        " ('height', float), ('sign', 'i4'), ('band', 'i4') ])\n",
        "\n",
        "#\n",
        "new_data= tuple(tuple(row[field] for field in new_order) for row in data_with_datetime)\n",
        "print(new_data)\n",
        "print(type(new_data))"
      ],
      "metadata": {
        "colab": {
          "base_uri": "https://localhost:8080/"
        },
        "id": "8QZPbj94CcMp",
        "outputId": "1b9e30e7-09bf-4500-df29-a5edc83aff1a"
      },
      "id": "8QZPbj94CcMp",
      "execution_count": null,
      "outputs": [
        {
          "output_type": "stream",
          "name": "stdout",
          "text": [
            "[('Alice', 25, 160, 50, 1, 2, '2023-01-01')\n",
            " ('Bob', 30, 170, 60, 2, 1, '2023-02-01')\n",
            " ('Charlie', 28, 180, 70, 3, 4, '2023-03-01')\n",
            " ('Diana', 35, 190, 80, 4, 7, '2023-04-01')]\n",
            "((numpy.datetime64('2023-01-01'), 'Alice', 25, 50, 160, 1, 2), (numpy.datetime64('2023-02-01'), 'Bob', 30, 60, 170, 2, 1), (numpy.datetime64('2023-03-01'), 'Charlie', 28, 70, 180, 3, 4), (numpy.datetime64('2023-04-01'), 'Diana', 35, 80, 190, 4, 7))\n",
            "<class 'tuple'>\n"
          ]
        }
      ]
    },
    {
      "cell_type": "code",
      "source": [
        "data_with_datetime.dtype.descr"
      ],
      "metadata": {
        "colab": {
          "base_uri": "https://localhost:8080/"
        },
        "id": "7Ww2x259E2Ph",
        "outputId": "d4a9dbbb-cc2e-4543-db15-98ca295e43b1"
      },
      "id": "7Ww2x259E2Ph",
      "execution_count": null,
      "outputs": [
        {
          "output_type": "execute_result",
          "data": {
            "text/plain": [
              "[('name', '<U10'),\n",
              " ('age', '<i4'),\n",
              " ('height', '<i4'),\n",
              " ('weight', '<i4'),\n",
              " ('sign', '<i4'),\n",
              " ('band', '<i4'),\n",
              " ('index', '<M8[D]')]"
            ]
          },
          "metadata": {},
          "execution_count": 71
        }
      ]
    },
    {
      "cell_type": "code",
      "source": [
        "dt.names"
      ],
      "metadata": {
        "colab": {
          "base_uri": "https://localhost:8080/"
        },
        "id": "RD8exQO1HYXm",
        "outputId": "76c99bfd-da59-4a46-f56e-b54a59a46edd"
      },
      "id": "RD8exQO1HYXm",
      "execution_count": null,
      "outputs": [
        {
          "output_type": "execute_result",
          "data": {
            "text/plain": [
              "('name', 'age', 'height', 'weight', 'sign', 'band', 'index')"
            ]
          },
          "metadata": {},
          "execution_count": 82
        }
      ]
    },
    {
      "cell_type": "code",
      "source": [
        "# data_with_datetime.dtype.descr\n",
        "data_with_datetime.dtype"
      ],
      "metadata": {
        "colab": {
          "base_uri": "https://localhost:8080/"
        },
        "id": "b2voZ5POHf3F",
        "outputId": "e8f39979-ec11-4321-d04e-050abf0eddd4"
      },
      "id": "b2voZ5POHf3F",
      "execution_count": null,
      "outputs": [
        {
          "output_type": "execute_result",
          "data": {
            "text/plain": [
              "dtype((numpy.record, [('name', '<U10'), ('age', '<i4'), ('height', '<i4'), ('weight', '<i4'), ('sign', '<i4'), ('band', '<i4'), ('index', '<M8[D]')]))"
            ]
          },
          "metadata": {},
          "execution_count": 95
        }
      ]
    },
    {
      "cell_type": "code",
      "source": [
        "for name in  dt.names:\n",
        "  print(name)"
      ],
      "metadata": {
        "colab": {
          "base_uri": "https://localhost:8080/"
        },
        "id": "miDdh6DIGpqv",
        "outputId": "6c7401b9-85f8-4d10-88f7-ac1c40ba1a1c"
      },
      "id": "miDdh6DIGpqv",
      "execution_count": null,
      "outputs": [
        {
          "output_type": "stream",
          "name": "stdout",
          "text": [
            "name\n",
            "age\n",
            "height\n",
            "weight\n",
            "sign\n",
            "band\n",
            "index\n"
          ]
        }
      ]
    },
    {
      "cell_type": "code",
      "source": [
        "import numpy as np\n",
        "\n",
        "dt = np.dtype([\n",
        "    ('index', 'datetime64[h]'),\n",
        "    ('name', 'U20'),\n",
        "    ('age', 'i4'),\n",
        "    ('weight', 'i4'),\n",
        "    ('height', float),\n",
        "    ('sign', 'i4'),\n",
        "    ('band', 'i4')\n",
        "])\n",
        "\n",
        "dt = np.dtype(data_with_datetime.dtype.descr )\n",
        "\n",
        "# Convert dtype to string\n",
        "dt_str = str(dt)\n",
        "\n",
        "# Manipulate the string (for example, replace 'i4' with 'i8')\n",
        "new_dt_str = dt_str.replace('i4', 'i8')\n",
        "\n",
        "# Convert the modified string back to dtype\n",
        "new_dt = np.dtype(eval(new_dt_str))\n",
        "\n",
        "print(new_dt)\n",
        "# print(dt_str)"
      ],
      "metadata": {
        "colab": {
          "base_uri": "https://localhost:8080/"
        },
        "id": "0O-ch9GjEm4e",
        "outputId": "8fa9516f-26d9-4a98-c102-9e24b7efa0f2"
      },
      "id": "0O-ch9GjEm4e",
      "execution_count": null,
      "outputs": [
        {
          "output_type": "stream",
          "name": "stdout",
          "text": [
            "[('name', '<U10'), ('age', '<i8'), ('height', '<i8'), ('weight', '<i8'), ('sign', '<i8'), ('band', '<i8'), ('index', '<M8[D]')]\n"
          ]
        }
      ]
    },
    {
      "cell_type": "code",
      "source": [
        "import numpy as np\n",
        "import re\n",
        "\n",
        "dt = np.dtype([\n",
        "    ('index', 'datetime64[h]'),\n",
        "    ('name', 'U20'),\n",
        "    ('age', 'i4'),\n",
        "    ('weight', 'i4'),\n",
        "    ('height', float),\n",
        "    ('sign', 'i4'),\n",
        "    ('band', 'i4')\n",
        "])\n",
        "\n",
        "# Convert dtype to string\n",
        "dt_str = str(dt)\n",
        "\n",
        "# Use regular expression to extract the list part\n",
        "list_pattern = re.compile(r'\\[.*\\]')\n",
        "matches = list_pattern.findall(dt_str)\n",
        "\n",
        "if matches:\n",
        "    # Convert the extracted string to a Python list\n",
        "    extracted_list = eval(matches[0])\n",
        "    print(extracted_list)\n",
        "else:\n",
        "    print(\"No list found in the dtype string.\")\n"
      ],
      "metadata": {
        "colab": {
          "base_uri": "https://localhost:8080/"
        },
        "id": "Qu3tWleeH_d9",
        "outputId": "06c3ed2f-fb35-4699-c5bc-7266274ef003"
      },
      "id": "Qu3tWleeH_d9",
      "execution_count": null,
      "outputs": [
        {
          "output_type": "stream",
          "name": "stdout",
          "text": [
            "[('index', '<M8[h]'), ('name', '<U20'), ('age', '<i4'), ('weight', '<i4'), ('height', '<f8'), ('sign', '<i4'), ('band', '<i4')]\n"
          ]
        }
      ]
    },
    {
      "cell_type": "code",
      "source": [
        "import numpy as np\n",
        "\n",
        "# Original data\n",
        "data = np.array([('Alice', 25, 160, 50, 1, 2), ('Bob', 30, 170, 60, 2, 1),\n",
        "                 ('Charlie', 28, 180, 70, 3, 4), ('Diana', 35, 190, 80, 4, 7)],\n",
        "                dtype=[('name', 'U10'), ('age', 'i4'), ('height', 'i4'), ('weight', 'i4'), ('sign', 'i4'), ('band', 'i4')])\n",
        "\n",
        "# Get all columns for the first row\n",
        "first_row = data[0]\n",
        "\n",
        "# Print the result\n",
        "print(first_row['name'])\n",
        "print(len(data))\n"
      ],
      "metadata": {
        "colab": {
          "base_uri": "https://localhost:8080/"
        },
        "id": "cdcPMfUt9QSQ",
        "outputId": "1de76c25-f458-434f-e658-2821ea1bb731"
      },
      "id": "cdcPMfUt9QSQ",
      "execution_count": null,
      "outputs": [
        {
          "output_type": "stream",
          "name": "stdout",
          "text": [
            "Alice\n",
            "4\n"
          ]
        }
      ]
    },
    {
      "cell_type": "code",
      "source": [
        "import re\n",
        "\n",
        "input_string = \"[('name', '<U10'), ('age', '<i4'), ('height', '<i4'), ('weight', '<i4'), ('sign', '<i4'), ('band', '<i4'), ('index', '<M8[D]')]\"\n",
        "\n",
        "# Use regular expression to extract the list part\n",
        "list_pattern = re.compile(r'\\[.*\\]')\n",
        "matches = list_pattern.findall(input_string)\n",
        "\n",
        "if matches:\n",
        "    # Convert the extracted string to a Python list\n",
        "    extracted_list = eval(matches[0])\n",
        "\n",
        "    # Add 'index' as the first element\n",
        "    modified_list = [('index', '<M8[D]')] + extracted_list\n",
        "\n",
        "    print(modified_list)\n",
        "else:\n",
        "    print(\"No list found in the input string.\")\n"
      ],
      "metadata": {
        "colab": {
          "base_uri": "https://localhost:8080/"
        },
        "id": "MZxeONMgISil",
        "outputId": "350a5887-d05b-4f6b-b42f-acfd586744ed"
      },
      "id": "MZxeONMgISil",
      "execution_count": null,
      "outputs": [
        {
          "output_type": "stream",
          "name": "stdout",
          "text": [
            "[('index', '<M8[D]'), ('name', '<U10'), ('age', '<i4'), ('height', '<i4'), ('weight', '<i4'), ('sign', '<i4'), ('band', '<i4'), ('index', '<M8[D]')]\n"
          ]
        }
      ]
    },
    {
      "cell_type": "code",
      "source": [
        "import re\n",
        "\n",
        "data_type_string = \"[('name', '<U10'), ('age', '<i4'), ('height', '<i4'), ('weight', '<i4'), ('sign', '<i4'), ('band', '<i4'), ('index', '<M8[D]') ]\"\n",
        "\n",
        "# Define the regular expression patterns\n",
        "field_pattern = re.compile(r\"'(\\w+)'\")  # Matches field names\n",
        "type_pattern = re.compile(r\"'<([a-zA-Z0-9[\\]_]+)'\")  # Matches data types\n",
        "\n",
        "# Find all matches in the string\n",
        "field_names = field_pattern.findall(data_type_string)\n",
        "field_types = type_pattern.findall(data_type_string)\n",
        "\n",
        "print(\"Field Names:\", field_names)\n",
        "print(\"Field Types:\", field_types)\n"
      ],
      "metadata": {
        "colab": {
          "base_uri": "https://localhost:8080/"
        },
        "id": "lLGXubjQI5V-",
        "outputId": "9dc5bb90-d638-487f-9316-b88bda7de94e"
      },
      "id": "lLGXubjQI5V-",
      "execution_count": null,
      "outputs": [
        {
          "output_type": "stream",
          "name": "stdout",
          "text": [
            "Field Names: ['name', 'age', 'height', 'weight', 'sign', 'band', 'index']\n",
            "Field Types: ['U10', 'i4', 'i4', 'i4', 'i4', 'i4', 'M8[D]']\n"
          ]
        }
      ]
    },
    {
      "cell_type": "code",
      "source": [
        "def move_element_to_index(elements, words, element, target_index):\n",
        "    # Find the index of the element in the list\n",
        "    element_index = elements.index(element)\n",
        "\n",
        "    # Remove the element from its current position\n",
        "    elements.pop(element_index)\n",
        "    word = words.pop(element_index)\n",
        "\n",
        "    # Insert the element at the target index\n",
        "    elements.insert(target_index, element)\n",
        "    words.insert(target_index, word)\n",
        "\n",
        "# Example usage:\n",
        "field_names = ['name', 'age', 'height', 'weight', 'sign', 'band', 'index']\n",
        "field_types = ['U10', 'i4', 'i4', 'i4', 'i4', 'i4', 'M8[D]']\n",
        "\n",
        "# Move the element 'height' to index 0\n",
        "move_element_to_index(field_names, field_types, 'height', 0)\n",
        "\n",
        "# Print the updated lists\n",
        "print(\"Updated field names:\", field_names)\n",
        "print(\"Updated field types:\", field_types)\n"
      ],
      "metadata": {
        "colab": {
          "base_uri": "https://localhost:8080/"
        },
        "id": "3e85XBLMOKLt",
        "outputId": "8ed698a5-22b0-49ec-e5b8-805d6aec04c9"
      },
      "id": "3e85XBLMOKLt",
      "execution_count": null,
      "outputs": [
        {
          "output_type": "stream",
          "name": "stdout",
          "text": [
            "Updated field names: ['height', 'name', 'age', 'weight', 'sign', 'band', 'index']\n",
            "Updated field types: ['i4', 'U10', 'i4', 'i4', 'i4', 'i4', 'M8[D]']\n"
          ]
        }
      ]
    },
    {
      "cell_type": "code",
      "source": [
        "class numpy_reorder_insert_field:\n",
        "  @classmethod\n",
        "  def reorder_fields(cls, structured_array, field_to_change, target_index):\n",
        "\n",
        "      dt = np.dtype(structured_array.dtype.descr )\n",
        "\n",
        "      # Convert dtype to string\n",
        "      dt_str = str(dt)\n",
        "      field_pattern = re.compile(r\"'(\\w+)'\")  # Matches field names\n",
        "      type_pattern = re.compile(r\"'<([a-zA-Z0-9[\\]_]+)'\")  # Matches data types\n",
        "\n",
        "      # Find all matches in the string\n",
        "      field_names = field_pattern.findall(dt_str)\n",
        "      field_types = type_pattern.findall(dt_str)\n",
        "\n",
        "      field_names, field_types  =  cls.move_element_to_index(field_names, field_types, field_to_change, target_index)\n",
        "      if type(field_to_change) == list :\n",
        "          for i, field in enumerate(field_to_change):\n",
        "               field_names, field_types  =  cls.move_element_to_index(field_names, field_types, field_to_change= field, target_index= target_index[i])\n",
        "      field_tuples = list(zip(field_names, field_types))\n",
        "\n",
        "      # Convert the list of tuples to a NumPy dtype string\n",
        "      dtype_string = \"[\"\n",
        "      dtype_string += ', '.join([f\"('{name}', '{dtype}')\" for name, dtype in field_tuples])\n",
        "      dtype_string += \"]\"\n",
        "\n",
        "      dt = np.dtype(eval(dtype_string))\n",
        "      reordered_structured_array = np.empty(len(structured_array), dtype=dt)\n",
        "\n",
        "      for i in range(len(data)):\n",
        "        row = structured_array[i]\n",
        "        reordered_structured_array[i] = tuple(row[index] for field in field_names)\n",
        "\n",
        "      return  reordered_structured_array\n",
        "\n",
        "\n",
        "  @classmethod\n",
        "  def move_element_to_index(fields, types, field, target_index):\n",
        "    # Find the index of the element in the list\n",
        "    element_index = fields.index(field)\n",
        "\n",
        "    # Remove the element from its current position\n",
        "    fields.pop(element_index)\n",
        "    typ = types.pop(element_index)\n",
        "\n",
        "    # Insert the element at the target index\n",
        "    fields.insert(target_index, field)\n",
        "    types.insert(target_index, typ)\n",
        "\n",
        "    return fields, types"
      ],
      "metadata": {
        "id": "njUR3UAbQV-m"
      },
      "id": "njUR3UAbQV-m",
      "execution_count": null,
      "outputs": []
    },
    {
      "cell_type": "code",
      "source": [
        "field_names = ['name', 'age', 'height', 'weight', 'sign', 'band', 'index']\n",
        "field_types = ['U10', 'i4', 'i4', 'i4', 'i4', 'i4', 'M8[D]']\n",
        "\n",
        "# Combine field names and types into a list of tuples\n",
        "field_tuples = list(zip(field_names, field_types))\n",
        "\n",
        "# Convert the list of tuples to a NumPy dtype string\n",
        "dtype_string = \"[\"\n",
        "dtype_string += ', '.join([f\"('{name}', '{dtype}')\" for name, dtype in field_tuples])\n",
        "dtype_string += \"]\"\n",
        "\n",
        "print(dtype_string)\n",
        "dt = np.dtype(eval(dtype_string))\n",
        "dt"
      ],
      "metadata": {
        "colab": {
          "base_uri": "https://localhost:8080/"
        },
        "id": "XHmZEh0-PyhF",
        "outputId": "d1bf1dbc-3b6f-4409-915b-bf8087ea8e2f"
      },
      "id": "XHmZEh0-PyhF",
      "execution_count": null,
      "outputs": [
        {
          "output_type": "stream",
          "name": "stdout",
          "text": [
            "[('name', 'U10'), ('age', 'i4'), ('height', 'i4'), ('weight', 'i4'), ('sign', 'i4'), ('band', 'i4'), ('index', 'M8[D]')]\n"
          ]
        },
        {
          "output_type": "execute_result",
          "data": {
            "text/plain": [
              "dtype([('name', '<U10'), ('age', '<i4'), ('height', '<i4'), ('weight', '<i4'), ('sign', '<i4'), ('band', '<i4'), ('index', '<M8[D]')])"
            ]
          },
          "metadata": {},
          "execution_count": 106
        }
      ]
    },
    {
      "cell_type": "code",
      "source": [
        "def move_element_to_index(elements, words, element, target_index):\n",
        "    # Find the index of the element in the list\n",
        "    element_index = elements.index(element)\n",
        "\n",
        "    # Remove the element from its current position\n",
        "    elements.pop(element_index)\n",
        "    word = words.pop(element_index)\n",
        "\n",
        "    # Insert the element at the target index\n",
        "    elements.insert(target_index, element)\n",
        "    words.insert(target_index, word)\n",
        "\n",
        "# Example usage:\n",
        "letters = ['a', 'b', 'c', 'd']\n",
        "words = ['apple', 'bear', 'cat', 'dog']\n",
        "\n",
        "move_element_to_index(letters, words, 'c', 0)\n",
        "\n",
        "print(\"Updated letters:\", letters)\n",
        "print(\"Updated words:\", words)\n"
      ],
      "metadata": {
        "colab": {
          "base_uri": "https://localhost:8080/"
        },
        "id": "Z1GIVb49M6Hl",
        "outputId": "71ef2f95-e534-4400-f784-b67269ca0be4"
      },
      "id": "Z1GIVb49M6Hl",
      "execution_count": null,
      "outputs": [
        {
          "output_type": "stream",
          "name": "stdout",
          "text": [
            "Updated letters: ['c', 'a', 'b', 'd']\n",
            "Updated words: ['cat', 'apple', 'bear', 'dog']\n"
          ]
        }
      ]
    },
    {
      "cell_type": "markdown",
      "source": [
        "# Archived"
      ],
      "metadata": {
        "id": "ISFVt-5DRZO5"
      },
      "id": "ISFVt-5DRZO5"
    },
    {
      "cell_type": "code",
      "source": [],
      "metadata": {
        "id": "fSNpdWIyAIoD"
      },
      "id": "fSNpdWIyAIoD",
      "execution_count": null,
      "outputs": []
    },
    {
      "cell_type": "code",
      "source": [
        "\n",
        "csv_file_path = 'BTC-USD.csv'\n",
        "\n",
        "df = pd.read_csv(csv_file_path, index_col='index')\n",
        "df"
      ],
      "metadata": {
        "id": "lCdakmXE7-MX",
        "colab": {
          "base_uri": "https://localhost:8080/",
          "height": 1000
        },
        "outputId": "d55c6dbb-4ee4-4aae-f7c6-78af338764e1"
      },
      "id": "lCdakmXE7-MX",
      "execution_count": null,
      "outputs": [
        {
          "output_type": "execute_result",
          "data": {
            "text/plain": [
              "                      symbol                              heikin-ashi-ohlc  \\\n",
              "index                                                                        \n",
              "2023-12-02 15:00:00  BTC-USD     [40578.98, 40908.65, 40578.98, 40801.184]   \n",
              "2023-12-02 19:00:00  BTC-USD   [40690.082, 41458.105, 40690.082, 41169.86]   \n",
              "2023-12-02 23:00:00  BTC-USD    [40929.97, 41710.582, 40929.97, 41490.434]   \n",
              "2023-12-03 03:00:00  BTC-USD   [41210.203, 41520.133, 41210.203, 41417.38]   \n",
              "2023-12-03 07:00:00  BTC-USD    [41313.79, 41706.023, 41313.79, 41556.766]   \n",
              "2023-12-03 11:00:00  BTC-USD    [41435.277, 41768.56, 41435.277, 41645.98]   \n",
              "2023-12-03 15:00:00  BTC-USD     [41540.63, 42056.29, 41540.63, 41775.758]   \n",
              "2023-12-03 19:00:00  BTC-USD    [41658.195, 42108.586, 41412.465, 41765.9]   \n",
              "2023-12-03 23:00:00  BTC-USD   [41712.047, 41819.418, 41505.598, 41681.18]   \n",
              "2023-12-04 03:00:00  BTC-USD   [41696.613, 41898.25, 41696.613, 41801.258]   \n",
              "2023-12-04 07:00:00  BTC-USD  [41748.938, 41793.594, 41480.047, 41671.133]   \n",
              "2023-12-04 11:00:00  BTC-USD    [41710.035, 41710.035, 41194.734, 41443.0]   \n",
              "2023-12-04 15:00:00  BTC-USD    [41576.516, 41600.98, 41218.684, 41419.28]   \n",
              "2023-12-04 19:00:00  BTC-USD       [41497.9, 41734.42, 41497.9, 41625.684]   \n",
              "\n",
              "                            Close Fractal-Status Heikin-Ashi-Status  \\\n",
              "index                                                                 \n",
              "2023-12-02 15:00:00  38818.957031        Neutral              Green   \n",
              "2023-12-02 19:00:00  38793.023438        Neutral              Green   \n",
              "2023-12-02 23:00:00  39593.265625            Red              Green   \n",
              "2023-12-03 03:00:00  39506.917969        Neutral              Green   \n",
              "2023-12-03 07:00:00  39428.589844        Neutral              Green   \n",
              "2023-12-03 11:00:00  39462.714844        Neutral              Green   \n",
              "2023-12-03 15:00:00  39716.730469        Neutral              Green   \n",
              "2023-12-03 19:00:00  39529.976562            Red              Green   \n",
              "2023-12-03 23:00:00  39713.597656        Neutral                Red   \n",
              "2023-12-04 03:00:00  40599.464844        Neutral              Green   \n",
              "2023-12-04 07:00:00  41452.347656        Neutral                Red   \n",
              "2023-12-04 11:00:00  41561.371094        Neutral                Red   \n",
              "2023-12-04 15:00:00  41760.027344           None                Red   \n",
              "2023-12-04 19:00:00  41596.851562           None              Green   \n",
              "\n",
              "                     Direction  Average-Directional-Index  Crossover  \\\n",
              "index                                                                  \n",
              "2023-12-02 15:00:00        1.0                  94.197380        0.0   \n",
              "2023-12-02 19:00:00        1.0                  94.263214        0.0   \n",
              "2023-12-02 23:00:00        1.0                  94.473158        0.0   \n",
              "2023-12-03 03:00:00        1.0                  94.643995        0.0   \n",
              "2023-12-03 07:00:00        1.0                  94.467782        0.0   \n",
              "2023-12-03 11:00:00        1.0                  94.289977        0.0   \n",
              "2023-12-03 15:00:00        1.0                  94.228730        0.0   \n",
              "2023-12-03 19:00:00        1.0                  94.209159        0.0   \n",
              "2023-12-03 23:00:00        1.0                  94.007599        0.0   \n",
              "2023-12-04 03:00:00        1.0                  94.204798        0.0   \n",
              "2023-12-04 07:00:00        1.0                  94.491283        0.0   \n",
              "2023-12-04 11:00:00        1.0                  94.788582        0.0   \n",
              "2023-12-04 15:00:00        1.0                  95.094734        0.0   \n",
              "2023-12-04 19:00:00        1.0                  93.408987        0.0   \n",
              "\n",
              "                        Stop_Loss   Take_Profit    ema20     ema5  \\\n",
              "index                                                               \n",
              "2023-12-02 15:00:00  24856.532227  52775.467773  38240.0  38720.0   \n",
              "2023-12-02 19:00:00  27617.776367  50014.223633  38304.0  38752.0   \n",
              "2023-12-02 23:00:00  30274.836914  48381.163086  38336.0  38752.0   \n",
              "2023-12-03 03:00:00  32029.828613  46882.171387  38464.0  39040.0   \n",
              "2023-12-03 07:00:00  33415.907715  45432.092285  38560.0  39200.0   \n",
              "2023-12-03 11:00:00  34555.595703  44356.404297  38656.0  39264.0   \n",
              "2023-12-03 15:00:00  35653.140869  43578.859131  38720.0  39328.0   \n",
              "2023-12-03 19:00:00  36253.929688  42850.070312  38816.0  39456.0   \n",
              "2023-12-03 23:00:00  36959.100342  42336.899658  38880.0  39488.0   \n",
              "2023-12-04 03:00:00  38106.270996  42469.729004  38944.0  39552.0   \n",
              "2023-12-04 07:00:00  39222.631104  42889.368896  39104.0  39904.0   \n",
              "2023-12-04 11:00:00  39868.125122  42947.874878  39328.0  40416.0   \n",
              "2023-12-04 15:00:00  40358.218994  42905.781006  39552.0  40800.0   \n",
              "2023-12-04 19:00:00  40388.775635  42811.224365  39776.0  41120.0   \n",
              "\n",
              "                         bb_lower      bb_upper     atr_lower     atr_upper  \n",
              "index                                                                        \n",
              "2023-12-02 15:00:00  24856.532227  52775.467773  24856.532227  52775.467773  \n",
              "2023-12-02 19:00:00  27617.776367  50014.223633  27617.776367  50014.223633  \n",
              "2023-12-02 23:00:00  30274.836914  48381.163086  30274.836914  48381.163086  \n",
              "2023-12-03 03:00:00  32029.828613  46882.171387  32029.828613  46882.171387  \n",
              "2023-12-03 07:00:00  33415.907715  45432.092285  33415.907715  45432.092285  \n",
              "2023-12-03 11:00:00  34555.595703  44356.404297  34555.595703  44356.404297  \n",
              "2023-12-03 15:00:00  35653.140869  43578.859131  35653.140869  43578.859131  \n",
              "2023-12-03 19:00:00  36253.929688  42850.070312  36253.929688  42850.070312  \n",
              "2023-12-03 23:00:00  36959.100342  42336.899658  36959.100342  42336.899658  \n",
              "2023-12-04 03:00:00  38106.270996  42469.729004  38106.270996  42469.729004  \n",
              "2023-12-04 07:00:00  39222.631104  42889.368896  39222.631104  42889.368896  \n",
              "2023-12-04 11:00:00  39868.125122  42947.874878  39868.125122  42947.874878  \n",
              "2023-12-04 15:00:00  40358.218994  42905.781006  40358.218994  42905.781006  \n",
              "2023-12-04 19:00:00  40388.775635  42811.224365  40388.775635  42811.224365  "
            ],
            "text/html": [
              "\n",
              "  <div id=\"df-7ee88221-bfa8-4d8f-812c-4ae5d1a0c2ca\" class=\"colab-df-container\">\n",
              "    <div>\n",
              "<style scoped>\n",
              "    .dataframe tbody tr th:only-of-type {\n",
              "        vertical-align: middle;\n",
              "    }\n",
              "\n",
              "    .dataframe tbody tr th {\n",
              "        vertical-align: top;\n",
              "    }\n",
              "\n",
              "    .dataframe thead th {\n",
              "        text-align: right;\n",
              "    }\n",
              "</style>\n",
              "<table border=\"1\" class=\"dataframe\">\n",
              "  <thead>\n",
              "    <tr style=\"text-align: right;\">\n",
              "      <th></th>\n",
              "      <th>symbol</th>\n",
              "      <th>heikin-ashi-ohlc</th>\n",
              "      <th>Close</th>\n",
              "      <th>Fractal-Status</th>\n",
              "      <th>Heikin-Ashi-Status</th>\n",
              "      <th>Direction</th>\n",
              "      <th>Average-Directional-Index</th>\n",
              "      <th>Crossover</th>\n",
              "      <th>Stop_Loss</th>\n",
              "      <th>Take_Profit</th>\n",
              "      <th>ema20</th>\n",
              "      <th>ema5</th>\n",
              "      <th>bb_lower</th>\n",
              "      <th>bb_upper</th>\n",
              "      <th>atr_lower</th>\n",
              "      <th>atr_upper</th>\n",
              "    </tr>\n",
              "    <tr>\n",
              "      <th>index</th>\n",
              "      <th></th>\n",
              "      <th></th>\n",
              "      <th></th>\n",
              "      <th></th>\n",
              "      <th></th>\n",
              "      <th></th>\n",
              "      <th></th>\n",
              "      <th></th>\n",
              "      <th></th>\n",
              "      <th></th>\n",
              "      <th></th>\n",
              "      <th></th>\n",
              "      <th></th>\n",
              "      <th></th>\n",
              "      <th></th>\n",
              "      <th></th>\n",
              "    </tr>\n",
              "  </thead>\n",
              "  <tbody>\n",
              "    <tr>\n",
              "      <th>2023-12-02 15:00:00</th>\n",
              "      <td>BTC-USD</td>\n",
              "      <td>[40578.98, 40908.65, 40578.98, 40801.184]</td>\n",
              "      <td>38818.957031</td>\n",
              "      <td>Neutral</td>\n",
              "      <td>Green</td>\n",
              "      <td>1.0</td>\n",
              "      <td>94.197380</td>\n",
              "      <td>0.0</td>\n",
              "      <td>24856.532227</td>\n",
              "      <td>52775.467773</td>\n",
              "      <td>38240.0</td>\n",
              "      <td>38720.0</td>\n",
              "      <td>24856.532227</td>\n",
              "      <td>52775.467773</td>\n",
              "      <td>24856.532227</td>\n",
              "      <td>52775.467773</td>\n",
              "    </tr>\n",
              "    <tr>\n",
              "      <th>2023-12-02 19:00:00</th>\n",
              "      <td>BTC-USD</td>\n",
              "      <td>[40690.082, 41458.105, 40690.082, 41169.86]</td>\n",
              "      <td>38793.023438</td>\n",
              "      <td>Neutral</td>\n",
              "      <td>Green</td>\n",
              "      <td>1.0</td>\n",
              "      <td>94.263214</td>\n",
              "      <td>0.0</td>\n",
              "      <td>27617.776367</td>\n",
              "      <td>50014.223633</td>\n",
              "      <td>38304.0</td>\n",
              "      <td>38752.0</td>\n",
              "      <td>27617.776367</td>\n",
              "      <td>50014.223633</td>\n",
              "      <td>27617.776367</td>\n",
              "      <td>50014.223633</td>\n",
              "    </tr>\n",
              "    <tr>\n",
              "      <th>2023-12-02 23:00:00</th>\n",
              "      <td>BTC-USD</td>\n",
              "      <td>[40929.97, 41710.582, 40929.97, 41490.434]</td>\n",
              "      <td>39593.265625</td>\n",
              "      <td>Red</td>\n",
              "      <td>Green</td>\n",
              "      <td>1.0</td>\n",
              "      <td>94.473158</td>\n",
              "      <td>0.0</td>\n",
              "      <td>30274.836914</td>\n",
              "      <td>48381.163086</td>\n",
              "      <td>38336.0</td>\n",
              "      <td>38752.0</td>\n",
              "      <td>30274.836914</td>\n",
              "      <td>48381.163086</td>\n",
              "      <td>30274.836914</td>\n",
              "      <td>48381.163086</td>\n",
              "    </tr>\n",
              "    <tr>\n",
              "      <th>2023-12-03 03:00:00</th>\n",
              "      <td>BTC-USD</td>\n",
              "      <td>[41210.203, 41520.133, 41210.203, 41417.38]</td>\n",
              "      <td>39506.917969</td>\n",
              "      <td>Neutral</td>\n",
              "      <td>Green</td>\n",
              "      <td>1.0</td>\n",
              "      <td>94.643995</td>\n",
              "      <td>0.0</td>\n",
              "      <td>32029.828613</td>\n",
              "      <td>46882.171387</td>\n",
              "      <td>38464.0</td>\n",
              "      <td>39040.0</td>\n",
              "      <td>32029.828613</td>\n",
              "      <td>46882.171387</td>\n",
              "      <td>32029.828613</td>\n",
              "      <td>46882.171387</td>\n",
              "    </tr>\n",
              "    <tr>\n",
              "      <th>2023-12-03 07:00:00</th>\n",
              "      <td>BTC-USD</td>\n",
              "      <td>[41313.79, 41706.023, 41313.79, 41556.766]</td>\n",
              "      <td>39428.589844</td>\n",
              "      <td>Neutral</td>\n",
              "      <td>Green</td>\n",
              "      <td>1.0</td>\n",
              "      <td>94.467782</td>\n",
              "      <td>0.0</td>\n",
              "      <td>33415.907715</td>\n",
              "      <td>45432.092285</td>\n",
              "      <td>38560.0</td>\n",
              "      <td>39200.0</td>\n",
              "      <td>33415.907715</td>\n",
              "      <td>45432.092285</td>\n",
              "      <td>33415.907715</td>\n",
              "      <td>45432.092285</td>\n",
              "    </tr>\n",
              "    <tr>\n",
              "      <th>2023-12-03 11:00:00</th>\n",
              "      <td>BTC-USD</td>\n",
              "      <td>[41435.277, 41768.56, 41435.277, 41645.98]</td>\n",
              "      <td>39462.714844</td>\n",
              "      <td>Neutral</td>\n",
              "      <td>Green</td>\n",
              "      <td>1.0</td>\n",
              "      <td>94.289977</td>\n",
              "      <td>0.0</td>\n",
              "      <td>34555.595703</td>\n",
              "      <td>44356.404297</td>\n",
              "      <td>38656.0</td>\n",
              "      <td>39264.0</td>\n",
              "      <td>34555.595703</td>\n",
              "      <td>44356.404297</td>\n",
              "      <td>34555.595703</td>\n",
              "      <td>44356.404297</td>\n",
              "    </tr>\n",
              "    <tr>\n",
              "      <th>2023-12-03 15:00:00</th>\n",
              "      <td>BTC-USD</td>\n",
              "      <td>[41540.63, 42056.29, 41540.63, 41775.758]</td>\n",
              "      <td>39716.730469</td>\n",
              "      <td>Neutral</td>\n",
              "      <td>Green</td>\n",
              "      <td>1.0</td>\n",
              "      <td>94.228730</td>\n",
              "      <td>0.0</td>\n",
              "      <td>35653.140869</td>\n",
              "      <td>43578.859131</td>\n",
              "      <td>38720.0</td>\n",
              "      <td>39328.0</td>\n",
              "      <td>35653.140869</td>\n",
              "      <td>43578.859131</td>\n",
              "      <td>35653.140869</td>\n",
              "      <td>43578.859131</td>\n",
              "    </tr>\n",
              "    <tr>\n",
              "      <th>2023-12-03 19:00:00</th>\n",
              "      <td>BTC-USD</td>\n",
              "      <td>[41658.195, 42108.586, 41412.465, 41765.9]</td>\n",
              "      <td>39529.976562</td>\n",
              "      <td>Red</td>\n",
              "      <td>Green</td>\n",
              "      <td>1.0</td>\n",
              "      <td>94.209159</td>\n",
              "      <td>0.0</td>\n",
              "      <td>36253.929688</td>\n",
              "      <td>42850.070312</td>\n",
              "      <td>38816.0</td>\n",
              "      <td>39456.0</td>\n",
              "      <td>36253.929688</td>\n",
              "      <td>42850.070312</td>\n",
              "      <td>36253.929688</td>\n",
              "      <td>42850.070312</td>\n",
              "    </tr>\n",
              "    <tr>\n",
              "      <th>2023-12-03 23:00:00</th>\n",
              "      <td>BTC-USD</td>\n",
              "      <td>[41712.047, 41819.418, 41505.598, 41681.18]</td>\n",
              "      <td>39713.597656</td>\n",
              "      <td>Neutral</td>\n",
              "      <td>Red</td>\n",
              "      <td>1.0</td>\n",
              "      <td>94.007599</td>\n",
              "      <td>0.0</td>\n",
              "      <td>36959.100342</td>\n",
              "      <td>42336.899658</td>\n",
              "      <td>38880.0</td>\n",
              "      <td>39488.0</td>\n",
              "      <td>36959.100342</td>\n",
              "      <td>42336.899658</td>\n",
              "      <td>36959.100342</td>\n",
              "      <td>42336.899658</td>\n",
              "    </tr>\n",
              "    <tr>\n",
              "      <th>2023-12-04 03:00:00</th>\n",
              "      <td>BTC-USD</td>\n",
              "      <td>[41696.613, 41898.25, 41696.613, 41801.258]</td>\n",
              "      <td>40599.464844</td>\n",
              "      <td>Neutral</td>\n",
              "      <td>Green</td>\n",
              "      <td>1.0</td>\n",
              "      <td>94.204798</td>\n",
              "      <td>0.0</td>\n",
              "      <td>38106.270996</td>\n",
              "      <td>42469.729004</td>\n",
              "      <td>38944.0</td>\n",
              "      <td>39552.0</td>\n",
              "      <td>38106.270996</td>\n",
              "      <td>42469.729004</td>\n",
              "      <td>38106.270996</td>\n",
              "      <td>42469.729004</td>\n",
              "    </tr>\n",
              "    <tr>\n",
              "      <th>2023-12-04 07:00:00</th>\n",
              "      <td>BTC-USD</td>\n",
              "      <td>[41748.938, 41793.594, 41480.047, 41671.133]</td>\n",
              "      <td>41452.347656</td>\n",
              "      <td>Neutral</td>\n",
              "      <td>Red</td>\n",
              "      <td>1.0</td>\n",
              "      <td>94.491283</td>\n",
              "      <td>0.0</td>\n",
              "      <td>39222.631104</td>\n",
              "      <td>42889.368896</td>\n",
              "      <td>39104.0</td>\n",
              "      <td>39904.0</td>\n",
              "      <td>39222.631104</td>\n",
              "      <td>42889.368896</td>\n",
              "      <td>39222.631104</td>\n",
              "      <td>42889.368896</td>\n",
              "    </tr>\n",
              "    <tr>\n",
              "      <th>2023-12-04 11:00:00</th>\n",
              "      <td>BTC-USD</td>\n",
              "      <td>[41710.035, 41710.035, 41194.734, 41443.0]</td>\n",
              "      <td>41561.371094</td>\n",
              "      <td>Neutral</td>\n",
              "      <td>Red</td>\n",
              "      <td>1.0</td>\n",
              "      <td>94.788582</td>\n",
              "      <td>0.0</td>\n",
              "      <td>39868.125122</td>\n",
              "      <td>42947.874878</td>\n",
              "      <td>39328.0</td>\n",
              "      <td>40416.0</td>\n",
              "      <td>39868.125122</td>\n",
              "      <td>42947.874878</td>\n",
              "      <td>39868.125122</td>\n",
              "      <td>42947.874878</td>\n",
              "    </tr>\n",
              "    <tr>\n",
              "      <th>2023-12-04 15:00:00</th>\n",
              "      <td>BTC-USD</td>\n",
              "      <td>[41576.516, 41600.98, 41218.684, 41419.28]</td>\n",
              "      <td>41760.027344</td>\n",
              "      <td>None</td>\n",
              "      <td>Red</td>\n",
              "      <td>1.0</td>\n",
              "      <td>95.094734</td>\n",
              "      <td>0.0</td>\n",
              "      <td>40358.218994</td>\n",
              "      <td>42905.781006</td>\n",
              "      <td>39552.0</td>\n",
              "      <td>40800.0</td>\n",
              "      <td>40358.218994</td>\n",
              "      <td>42905.781006</td>\n",
              "      <td>40358.218994</td>\n",
              "      <td>42905.781006</td>\n",
              "    </tr>\n",
              "    <tr>\n",
              "      <th>2023-12-04 19:00:00</th>\n",
              "      <td>BTC-USD</td>\n",
              "      <td>[41497.9, 41734.42, 41497.9, 41625.684]</td>\n",
              "      <td>41596.851562</td>\n",
              "      <td>None</td>\n",
              "      <td>Green</td>\n",
              "      <td>1.0</td>\n",
              "      <td>93.408987</td>\n",
              "      <td>0.0</td>\n",
              "      <td>40388.775635</td>\n",
              "      <td>42811.224365</td>\n",
              "      <td>39776.0</td>\n",
              "      <td>41120.0</td>\n",
              "      <td>40388.775635</td>\n",
              "      <td>42811.224365</td>\n",
              "      <td>40388.775635</td>\n",
              "      <td>42811.224365</td>\n",
              "    </tr>\n",
              "  </tbody>\n",
              "</table>\n",
              "</div>\n",
              "    <div class=\"colab-df-buttons\">\n",
              "\n",
              "  <div class=\"colab-df-container\">\n",
              "    <button class=\"colab-df-convert\" onclick=\"convertToInteractive('df-7ee88221-bfa8-4d8f-812c-4ae5d1a0c2ca')\"\n",
              "            title=\"Convert this dataframe to an interactive table.\"\n",
              "            style=\"display:none;\">\n",
              "\n",
              "  <svg xmlns=\"http://www.w3.org/2000/svg\" height=\"24px\" viewBox=\"0 -960 960 960\">\n",
              "    <path d=\"M120-120v-720h720v720H120Zm60-500h600v-160H180v160Zm220 220h160v-160H400v160Zm0 220h160v-160H400v160ZM180-400h160v-160H180v160Zm440 0h160v-160H620v160ZM180-180h160v-160H180v160Zm440 0h160v-160H620v160Z\"/>\n",
              "  </svg>\n",
              "    </button>\n",
              "\n",
              "  <style>\n",
              "    .colab-df-container {\n",
              "      display:flex;\n",
              "      gap: 12px;\n",
              "    }\n",
              "\n",
              "    .colab-df-convert {\n",
              "      background-color: #E8F0FE;\n",
              "      border: none;\n",
              "      border-radius: 50%;\n",
              "      cursor: pointer;\n",
              "      display: none;\n",
              "      fill: #1967D2;\n",
              "      height: 32px;\n",
              "      padding: 0 0 0 0;\n",
              "      width: 32px;\n",
              "    }\n",
              "\n",
              "    .colab-df-convert:hover {\n",
              "      background-color: #E2EBFA;\n",
              "      box-shadow: 0px 1px 2px rgba(60, 64, 67, 0.3), 0px 1px 3px 1px rgba(60, 64, 67, 0.15);\n",
              "      fill: #174EA6;\n",
              "    }\n",
              "\n",
              "    .colab-df-buttons div {\n",
              "      margin-bottom: 4px;\n",
              "    }\n",
              "\n",
              "    [theme=dark] .colab-df-convert {\n",
              "      background-color: #3B4455;\n",
              "      fill: #D2E3FC;\n",
              "    }\n",
              "\n",
              "    [theme=dark] .colab-df-convert:hover {\n",
              "      background-color: #434B5C;\n",
              "      box-shadow: 0px 1px 3px 1px rgba(0, 0, 0, 0.15);\n",
              "      filter: drop-shadow(0px 1px 2px rgba(0, 0, 0, 0.3));\n",
              "      fill: #FFFFFF;\n",
              "    }\n",
              "  </style>\n",
              "\n",
              "    <script>\n",
              "      const buttonEl =\n",
              "        document.querySelector('#df-7ee88221-bfa8-4d8f-812c-4ae5d1a0c2ca button.colab-df-convert');\n",
              "      buttonEl.style.display =\n",
              "        google.colab.kernel.accessAllowed ? 'block' : 'none';\n",
              "\n",
              "      async function convertToInteractive(key) {\n",
              "        const element = document.querySelector('#df-7ee88221-bfa8-4d8f-812c-4ae5d1a0c2ca');\n",
              "        const dataTable =\n",
              "          await google.colab.kernel.invokeFunction('convertToInteractive',\n",
              "                                                    [key], {});\n",
              "        if (!dataTable) return;\n",
              "\n",
              "        const docLinkHtml = 'Like what you see? Visit the ' +\n",
              "          '<a target=\"_blank\" href=https://colab.research.google.com/notebooks/data_table.ipynb>data table notebook</a>'\n",
              "          + ' to learn more about interactive tables.';\n",
              "        element.innerHTML = '';\n",
              "        dataTable['output_type'] = 'display_data';\n",
              "        await google.colab.output.renderOutput(dataTable, element);\n",
              "        const docLink = document.createElement('div');\n",
              "        docLink.innerHTML = docLinkHtml;\n",
              "        element.appendChild(docLink);\n",
              "      }\n",
              "    </script>\n",
              "  </div>\n",
              "\n",
              "\n",
              "<div id=\"df-c0c011ed-e374-4ce2-8ee3-759b5037dd93\">\n",
              "  <button class=\"colab-df-quickchart\" onclick=\"quickchart('df-c0c011ed-e374-4ce2-8ee3-759b5037dd93')\"\n",
              "            title=\"Suggest charts\"\n",
              "            style=\"display:none;\">\n",
              "\n",
              "<svg xmlns=\"http://www.w3.org/2000/svg\" height=\"24px\"viewBox=\"0 0 24 24\"\n",
              "     width=\"24px\">\n",
              "    <g>\n",
              "        <path d=\"M19 3H5c-1.1 0-2 .9-2 2v14c0 1.1.9 2 2 2h14c1.1 0 2-.9 2-2V5c0-1.1-.9-2-2-2zM9 17H7v-7h2v7zm4 0h-2V7h2v10zm4 0h-2v-4h2v4z\"/>\n",
              "    </g>\n",
              "</svg>\n",
              "  </button>\n",
              "\n",
              "<style>\n",
              "  .colab-df-quickchart {\n",
              "      --bg-color: #E8F0FE;\n",
              "      --fill-color: #1967D2;\n",
              "      --hover-bg-color: #E2EBFA;\n",
              "      --hover-fill-color: #174EA6;\n",
              "      --disabled-fill-color: #AAA;\n",
              "      --disabled-bg-color: #DDD;\n",
              "  }\n",
              "\n",
              "  [theme=dark] .colab-df-quickchart {\n",
              "      --bg-color: #3B4455;\n",
              "      --fill-color: #D2E3FC;\n",
              "      --hover-bg-color: #434B5C;\n",
              "      --hover-fill-color: #FFFFFF;\n",
              "      --disabled-bg-color: #3B4455;\n",
              "      --disabled-fill-color: #666;\n",
              "  }\n",
              "\n",
              "  .colab-df-quickchart {\n",
              "    background-color: var(--bg-color);\n",
              "    border: none;\n",
              "    border-radius: 50%;\n",
              "    cursor: pointer;\n",
              "    display: none;\n",
              "    fill: var(--fill-color);\n",
              "    height: 32px;\n",
              "    padding: 0;\n",
              "    width: 32px;\n",
              "  }\n",
              "\n",
              "  .colab-df-quickchart:hover {\n",
              "    background-color: var(--hover-bg-color);\n",
              "    box-shadow: 0 1px 2px rgba(60, 64, 67, 0.3), 0 1px 3px 1px rgba(60, 64, 67, 0.15);\n",
              "    fill: var(--button-hover-fill-color);\n",
              "  }\n",
              "\n",
              "  .colab-df-quickchart-complete:disabled,\n",
              "  .colab-df-quickchart-complete:disabled:hover {\n",
              "    background-color: var(--disabled-bg-color);\n",
              "    fill: var(--disabled-fill-color);\n",
              "    box-shadow: none;\n",
              "  }\n",
              "\n",
              "  .colab-df-spinner {\n",
              "    border: 2px solid var(--fill-color);\n",
              "    border-color: transparent;\n",
              "    border-bottom-color: var(--fill-color);\n",
              "    animation:\n",
              "      spin 1s steps(1) infinite;\n",
              "  }\n",
              "\n",
              "  @keyframes spin {\n",
              "    0% {\n",
              "      border-color: transparent;\n",
              "      border-bottom-color: var(--fill-color);\n",
              "      border-left-color: var(--fill-color);\n",
              "    }\n",
              "    20% {\n",
              "      border-color: transparent;\n",
              "      border-left-color: var(--fill-color);\n",
              "      border-top-color: var(--fill-color);\n",
              "    }\n",
              "    30% {\n",
              "      border-color: transparent;\n",
              "      border-left-color: var(--fill-color);\n",
              "      border-top-color: var(--fill-color);\n",
              "      border-right-color: var(--fill-color);\n",
              "    }\n",
              "    40% {\n",
              "      border-color: transparent;\n",
              "      border-right-color: var(--fill-color);\n",
              "      border-top-color: var(--fill-color);\n",
              "    }\n",
              "    60% {\n",
              "      border-color: transparent;\n",
              "      border-right-color: var(--fill-color);\n",
              "    }\n",
              "    80% {\n",
              "      border-color: transparent;\n",
              "      border-right-color: var(--fill-color);\n",
              "      border-bottom-color: var(--fill-color);\n",
              "    }\n",
              "    90% {\n",
              "      border-color: transparent;\n",
              "      border-bottom-color: var(--fill-color);\n",
              "    }\n",
              "  }\n",
              "</style>\n",
              "\n",
              "  <script>\n",
              "    async function quickchart(key) {\n",
              "      const quickchartButtonEl =\n",
              "        document.querySelector('#' + key + ' button');\n",
              "      quickchartButtonEl.disabled = true;  // To prevent multiple clicks.\n",
              "      quickchartButtonEl.classList.add('colab-df-spinner');\n",
              "      try {\n",
              "        const charts = await google.colab.kernel.invokeFunction(\n",
              "            'suggestCharts', [key], {});\n",
              "      } catch (error) {\n",
              "        console.error('Error during call to suggestCharts:', error);\n",
              "      }\n",
              "      quickchartButtonEl.classList.remove('colab-df-spinner');\n",
              "      quickchartButtonEl.classList.add('colab-df-quickchart-complete');\n",
              "    }\n",
              "    (() => {\n",
              "      let quickchartButtonEl =\n",
              "        document.querySelector('#df-c0c011ed-e374-4ce2-8ee3-759b5037dd93 button');\n",
              "      quickchartButtonEl.style.display =\n",
              "        google.colab.kernel.accessAllowed ? 'block' : 'none';\n",
              "    })();\n",
              "  </script>\n",
              "</div>\n",
              "    </div>\n",
              "  </div>\n"
            ]
          },
          "metadata": {},
          "execution_count": 60
        }
      ]
    },
    {
      "cell_type": "code",
      "source": [
        "import pandas as pd\n",
        "\n",
        "for df in bar_df[1]:\n",
        "  df = pd.DataFrame(df)\n",
        "\n",
        "  sym = df['symbol'][0]\n",
        "  # Save the DataFrame to CSV\n",
        "  df.to_csv(f'{sym}.csv', index=True)\n",
        "  break\n",
        "  # Save the DataFrame to JSON\n",
        "  # df.to_json('output.json', orient='records')"
      ],
      "metadata": {
        "id": "6dM1l0EsG_XF"
      },
      "id": "6dM1l0EsG_XF",
      "execution_count": null,
      "outputs": []
    },
    {
      "cell_type": "code",
      "source": [
        "bars = bar_df[1]\n",
        "bars"
      ],
      "metadata": {
        "colab": {
          "base_uri": "https://localhost:8080/"
        },
        "id": "4qsNi9Z5-_Bi",
        "outputId": "ad441e5d-2dae-48e2-912a-fa27dfa35d0a",
        "collapsed": true
      },
      "id": "4qsNi9Z5-_Bi",
      "execution_count": null,
      "outputs": [
        {
          "output_type": "execute_result",
          "data": {
            "text/plain": [
              "[array([('2023-11-29T18', 'BTC-USD', list([38129.6, 38346.137, 38129.6, 38258.695]), 37778.88671875, 'Neutral', 'Green',  1., 85.47695557,  0., 23925.8671875 , 51914.1328125 , 37696., 38048., 23925.8671875 , 51914.1328125 , 23925.8671875 , 51914.1328125 ),\n",
              "        ('2023-11-29T22', 'BTC-USD', list([38194.15, 38338.477, 38194.15, 38285.164]), 37668.1953125 , 'Neutral', 'Green',  1., 83.7418152 ,  0., 26506.89648438, 49013.10351562, 37696., 37952., 26506.89648438, 49013.10351562, 26506.89648438, 49013.10351562),\n",
              "        ('2023-11-30T02', 'BTC-USD', list([38239.656, 38698.184, 38239.656, 38511.96]), 37789.51953125, 'Neutral', 'Green',  1., 82.0312876 ,  0., 28764.41992188, 46819.58007812, 37696., 37856., 28764.41992188, 46819.58007812, 28764.41992188, 46819.58007812),\n",
              "        ('2023-11-30T06', 'BTC-USD', list([38375.81, 38820.184, 38375.81, 38658.54]), 37987.80078125, 'Red', 'Green',  1., 80.88117038,  0., 30541.13916016, 45298.86083984, 37696., 37824., 30541.13916016, 45298.86083984, 30541.13916016, 45298.86083984),\n",
              "        ('2023-11-30T10', 'BTC-USD', list([38517.17, 38658.258, 38517.17, 38579.43]), 37661.234375  , 'Neutral', 'Green',  1., 79.12710423,  0., 31767.40771484, 43752.59228516, 37728., 37888., 31767.40771484, 43752.59228516, 31767.40771484, 43752.59228516),\n",
              "        ('2023-11-30T14', 'BTC-USD', list([38548.3, 38621.004, 38324.88, 38478.53]), 37885.58984375, 'Neutral', 'Red',  1., 77.74763429,  0., 32922.75830078, 42789.24169922, 37728., 37824., 32922.75830078, 42789.24169922, 32922.75830078, 42789.24169922),\n",
              "        ('2023-11-30T18', 'BTC-USD', list([38513.414, 38513.414, 38321.83, 38370.406]), 37695.70703125, 'Neutral', 'Red',  1., 75.54699096,  0., 33718.69555664, 41801.30444336, 37728., 37856., 33718.69555664, 41801.30444336, 33718.69555664, 41801.30444336),\n",
              "        ('2023-11-30T22', 'BTC-USD', list([38441.91, 38441.91, 38249.34, 38336.41]), 37739.80859375, 'Neutral', 'Red',  1., 74.86752434,  0., 34508.5925293 , 41011.4074707 , 37728., 37792., 34508.5925293 , 41011.4074707 , 34508.5925293 , 41011.4074707 ),\n",
              "        ('2023-12-01T02', 'BTC-USD', list([38389.16, 38442.65, 38296.527, 38374.02]), 37689.63671875, 'Neutral', 'Red',  1., 74.06297059,  0., 34928.7097168 , 40527.2902832 , 37728., 37760., 34928.7097168 , 40527.2902832 , 34928.7097168 , 40527.2902832 ),\n",
              "        ('2023-12-01T06', 'BTC-USD', list([38381.59, 38954.11, 38381.59, 38658.43]), 38203.3046875 , 'Red', 'Green', -1., 74.3133188 , -1., 40490.62329102, 35605.37670898, 37728., 37728., 35605.37670898, 40490.62329102, 35605.37670898, 40490.62329102),\n",
              "        ('2023-12-01T10', 'BTC-USD', list([38520.008, 38875.332, 38520.008, 38810.707]), 38318.05859375, 'Neutral', 'Green',  1., 74.72425498,  0., 36158.81176758, 40321.18823242, 37760., 37888., 36158.81176758, 40321.18823242, 36158.81176758, 40321.18823242),\n",
              "        ('2023-12-01T14', 'BTC-USD', list([38665.36, 38861.69, 38665.36, 38785.46]), 38372.04296875, 'Neutral', 'Green',  1., 75.7723366 ,  0., 36550.53674316, 40121.46325684, 37824., 38016., 36550.53674316, 40121.46325684, 36550.53674316, 40121.46325684),\n",
              "        ('2023-12-01T18', 'BTC-USD', list([38725.41, 38784.254, 38651.984, 38735.8]), 38841.15625   , 'None', 'Green',  1., 76.84471494,  0., 37219.60107422, 40156.39892578, 37888., 38144., 37219.60107422, 40156.39892578, 37219.60107422, 40156.39892578),\n",
              "        ('2023-12-01T22', 'BTC-USD', list([38730.605, 38785.355, 38730.605, 38767.074]), 38753.26953125, 'None', 'Green',  1., 77.6812893 ,  0., 37480.96252441, 39959.03747559, 37984., 38368., 37480.96252441, 39959.03747559, 37480.96252441, 39959.03747559)],\n",
              "       dtype=[('index', '<M8[h]'), ('symbol', '<U20'), ('heikin-ashi-ohlc', 'O'), ('Close', '<f8'), ('Fractal-Status', '<U10'), ('Heikin-Ashi-Status', '<U10'), ('Direction', '<f8'), ('Average-Directional-Index', '<f8'), ('Crossover', '<f8'), ('Stop_Loss', '<f8'), ('Take_Profit', '<f8'), ('ema20', '<f8'), ('ema5', '<f8'), ('bb_lower', '<f8'), ('bb_upper', '<f8'), ('atr_lower', '<f8'), ('atr_upper', '<f8')]),\n",
              " array([('2023-11-29T18', 'ETH-USD', list([2091.1062, 2104.685, 2091.086, 2095.5493]), 2026.95532227, 'Neutral', 'Green',  1., 75.20184332,  0., 1265.11938477, 2810.88061523, 2052., 2058., 1265.11938477, 2810.88061523, 1265.11938477, 2810.88061523),\n",
              "        ('2023-11-29T22', 'ETH-USD', list([2093.3276, 2098.2004, 2092.1504, 2094.6558]), 2026.33996582, 'Neutral', 'Green', -1., 72.08367938, -1., 2654.50878906, 1405.49121094, 2050., 2048., 1405.49121094, 2654.50878906, 1405.49121094, 2654.50878906),\n",
              "        ('2023-11-30T02', 'ETH-USD', list([2093.9917, 2109.319, 2093.9917, 2100.8965]), 2027.17272949, 'Red', 'Green', -1., 69.66402011,  0., 2532.16888428, 1523.83111572, 2048., 2041., 1523.83111572, 2532.16888428, 1523.83111572, 2532.16888428),\n",
              "        ('2023-11-30T06', 'ETH-USD', list([2097.444, 2105.512, 2090.9949, 2098.013]), 2037.05566406, 'Neutral', 'Green', -1., 67.94953148,  0., 2454.4331665 , 1613.5668335 , 2046., 2036., 1613.5668335 , 2454.4331665 , 1613.5668335 , 2454.4331665 ),\n",
              "        ('2023-11-30T10', 'ETH-USD', list([2097.7285, 2097.7285, 2088.2815, 2091.541]), 2025.63061523, 'Neutral', 'Red', -1., 66.34830548,  0., 2373.04321289, 1682.95678711, 2045., 2036., 1682.95678711, 2373.04321289, 1682.95678711, 2373.04321289),\n",
              "        ('2023-11-30T14', 'ETH-USD', list([2094.6348, 2094.7026, 2085.309, 2090.1626]), 2045.81762695, 'Neutral', 'Red', -1., 65.44305282,  0., 2326.53219604, 1753.46780396, 2043., 2033., 1753.46780396, 2326.53219604, 1753.46780396, 2326.53219604),\n",
              "        ('2023-11-30T18', 'ETH-USD', list([2092.3987, 2092.3987, 2079.3115, 2084.445]), 2036.86340332, 'Neutral', 'Red', -1., 64.52591225,  0., 2274.67346191, 1801.32653809, 2043., 2037., 1801.32653809, 2274.67346191, 1801.32653809, 2274.67346191),\n",
              "        ('2023-11-30T22', 'ETH-USD', list([2088.4219, 2088.4219, 2075.8289, 2079.589]), 2044.66674805, 'Neutral', 'Red', -1., 63.57925174,  0., 2232.97418213, 1851.02581787, 2042., 2037., 1851.02581787, 2232.97418213, 1851.02581787, 2232.97418213),\n",
              "        ('2023-12-01T02', 'ETH-USD', list([2084.0054, 2084.0054, 2071.5845, 2078.2427]), 2049.79345703, 'Neutral', 'Red', -1., 63.23162455,  0., 2207.98292542, 1886.01707458, 2042., 2040., 1886.01707458, 2207.98292542, 1886.01707458, 2207.98292542),\n",
              "        ('2023-12-01T06', 'ETH-USD', list([2081.124, 2107.577, 2080.269, 2093.9531]), 2095.45410156, 'Neutral', 'Green',  1., 64.59599982,  1., 1939.14215088, 2220.85784912, 2043., 2043., 1939.14215088, 2220.85784912, 1939.14215088, 2220.85784912),\n",
              "        ('2023-12-01T10', 'ETH-USD', list([2087.5386, 2107.8218, 2087.5386, 2099.9656]), 2094.66894531, 'Red', 'Green',  1., 65.93130625,  0., 1972.35180664, 2207.64819336, 2048., 2060., 1972.35180664, 2207.64819336, 1972.35180664, 2207.64819336),\n",
              "        ('2023-12-01T14', 'ETH-USD', list([2093.752, 2096.8066, 2088.601, 2093.0476]), 2087.06542969, 'Neutral', 'Red',  1., 67.22948482,  0., 1987.16120911, 2188.83879089, 2052., 2072., 1987.16120911, 2188.83879089, 1987.16120911, 2188.83879089),\n",
              "        ('2023-12-01T18', 'ETH-USD', list([2093.4, 2093.4, 2082.7727, 2089.2405]), 2107.5769043 , 'None', 'Red',  1., 65.62223687,  0., 2018.77141571, 2185.22858429, 2056., 2078., 2018.77141571, 2185.22858429, 2018.77141571, 2185.22858429),\n",
              "        ('2023-12-01T22', 'ETH-USD', list([2091.3203, 2091.3203, 2089.7085, 2090.393]), 2089.70849609, 'None', 'Red',  1., 64.2303335 ,  0., 2018.98370361, 2169.01629639, 2060., 2088., 2018.98370361, 2169.01629639, 2018.98370361, 2169.01629639)],\n",
              "       dtype=[('index', '<M8[h]'), ('symbol', '<U20'), ('heikin-ashi-ohlc', 'O'), ('Close', '<f8'), ('Fractal-Status', '<U10'), ('Heikin-Ashi-Status', '<U10'), ('Direction', '<f8'), ('Average-Directional-Index', '<f8'), ('Crossover', '<f8'), ('Stop_Loss', '<f8'), ('Take_Profit', '<f8'), ('ema20', '<f8'), ('ema5', '<f8'), ('bb_lower', '<f8'), ('bb_upper', '<f8'), ('atr_lower', '<f8'), ('atr_upper', '<f8')])]"
            ]
          },
          "metadata": {},
          "execution_count": 113
        }
      ]
    },
    {
      "cell_type": "code",
      "source": [
        "bar_df"
      ],
      "metadata": {
        "colab": {
          "base_uri": "https://localhost:8080/"
        },
        "id": "SKXHvkXa980A",
        "outputId": "26c32fab-da82-40b5-cad7-638c5fb58374",
        "collapsed": true
      },
      "id": "SKXHvkXa980A",
      "execution_count": null,
      "outputs": [
        {
          "output_type": "execute_result",
          "data": {
            "text/plain": [
              "[array([38129.6  , 38194.15 , 38239.656, 38375.81 , 38517.17 , 38548.3  ,\n",
              "        38513.414, 38441.91 , 38389.16 , 38381.59 , 38520.008, 38665.36 ,\n",
              "        38725.41 , 38730.605], dtype=float32),\n",
              " array([38346.137, 38338.477, 38698.184, 38820.184, 38658.258, 38621.004,\n",
              "        38513.414, 38441.91 , 38442.65 , 38954.11 , 38875.332, 38861.69 ,\n",
              "        38784.254, 38785.355], dtype=float32),\n",
              " array([38129.6  , 38194.15 , 38239.656, 38375.81 , 38517.17 , 38324.88 ,\n",
              "        38321.83 , 38249.34 , 38296.527, 38381.59 , 38520.008, 38665.36 ,\n",
              "        38651.984, 38730.605], dtype=float32),\n",
              " array([38258.695, 38285.164, 38511.96 , 38658.54 , 38579.43 , 38478.53 ,\n",
              "        38370.406, 38336.41 , 38374.02 , 38658.43 , 38810.707, 38785.46 ,\n",
              "        38735.8  , 38776.66 ], dtype=float32)]"
            ]
          },
          "metadata": {},
          "execution_count": 97
        }
      ]
    },
    {
      "cell_type": "code",
      "source": [
        "bar_df"
      ],
      "metadata": {
        "id": "v732kRpM9fC3"
      },
      "id": "v732kRpM9fC3",
      "execution_count": null,
      "outputs": []
    },
    {
      "cell_type": "code",
      "source": [
        "resample_list"
      ],
      "metadata": {
        "colab": {
          "base_uri": "https://localhost:8080/"
        },
        "id": "PtHJPSKP7cdv",
        "outputId": "a61b349f-8629-480f-82ef-30badf6bd93e"
      },
      "id": "PtHJPSKP7cdv",
      "execution_count": null,
      "outputs": [
        {
          "output_type": "execute_result",
          "data": {
            "text/plain": [
              "0"
            ]
          },
          "metadata": {},
          "execution_count": 75
        }
      ]
    },
    {
      "cell_type": "markdown",
      "source": [
        "# Sorting"
      ],
      "metadata": {
        "id": "6tXAlRBaZYL9"
      },
      "id": "6tXAlRBaZYL9"
    },
    {
      "cell_type": "code",
      "source": [
        "bar_df[0]"
      ],
      "metadata": {
        "colab": {
          "base_uri": "https://localhost:8080/"
        },
        "collapsed": true,
        "id": "xlew-xsgEA_b",
        "outputId": "d42dbe38-98f6-4ca4-97ce-97c5c5c2c217"
      },
      "id": "xlew-xsgEA_b",
      "execution_count": null,
      "outputs": [
        {
          "output_type": "execute_result",
          "data": {
            "text/plain": [
              "('index',\n",
              " 'symbol',\n",
              " 'heikin-ashi-ohlc',\n",
              " 'Close',\n",
              " 'Fractal-Status',\n",
              " 'Heikin-Ashi-Status',\n",
              " 'Direction',\n",
              " 'Average-Directional-Index',\n",
              " 'Crossover',\n",
              " 'Stop_Loss',\n",
              " 'Take_Profit',\n",
              " 'ema20',\n",
              " 'ema5',\n",
              " 'bb_lower',\n",
              " 'bb_upper',\n",
              " 'atr_lower',\n",
              " 'atr_upper')"
            ]
          },
          "metadata": {},
          "execution_count": 38
        }
      ]
    },
    {
      "cell_type": "markdown",
      "source": [
        "For Adx Value"
      ],
      "metadata": {
        "id": "f4T44a3kEWwM"
      },
      "id": "f4T44a3kEWwM"
    },
    {
      "cell_type": "code",
      "source": [
        "values = 1\n",
        "for index, ohlc in enumerate( bar_df[values] ):\n",
        "\n",
        "      observe = ohlc[-3:]\n",
        "      mask    = observe['Average-Directional-Index'] < 25\n",
        "      filtered_data = observe[mask]\n",
        "\n",
        "      print(index, filtered_data)\n"
      ],
      "metadata": {
        "colab": {
          "base_uri": "https://localhost:8080/"
        },
        "id": "NmBNrfu6Co4B",
        "outputId": "58a5378f-cc98-40ac-8804-2f6023551518"
      },
      "id": "NmBNrfu6Co4B",
      "execution_count": null,
      "outputs": [
        {
          "output_type": "stream",
          "name": "stdout",
          "text": [
            "0 []\n",
            "1 []\n"
          ]
        }
      ]
    },
    {
      "cell_type": "markdown",
      "source": [
        "For EMA Crossover Buy Signal"
      ],
      "metadata": {
        "id": "3WCeGXj0EZs5"
      },
      "id": "3WCeGXj0EZs5"
    },
    {
      "cell_type": "code",
      "source": [
        "\n",
        "values = 1\n",
        "visualize_df = [] * len(bar_df[values])\n",
        "\n",
        "\n",
        "for index, chart_info in enumerate( bar_df[values] ):\n",
        "\n",
        "      observe = chart_info[-3:]\n",
        "      mask    = observe['Crossover'] == 1\n",
        "      filtered_data = observe[mask]\n",
        "      # print(index, filtered_data)\n",
        "      if len(filtered_data) > 0:\n",
        "          visualize_df.append(chart_info)\n",
        "      # print(filtered_data)\n",
        "\n",
        "visualize_df"
      ],
      "metadata": {
        "colab": {
          "base_uri": "https://localhost:8080/"
        },
        "id": "GJGMEA31EcEj",
        "outputId": "b1d3c4c5-a59f-4ff5-9028-beb8d5a7a2e4"
      },
      "id": "GJGMEA31EcEj",
      "execution_count": null,
      "outputs": [
        {
          "output_type": "execute_result",
          "data": {
            "text/plain": [
              "[]"
            ]
          },
          "metadata": {},
          "execution_count": 44
        }
      ]
    },
    {
      "cell_type": "markdown",
      "source": [
        "For EMA Crossover Sell Signal"
      ],
      "metadata": {
        "id": "rvjiFrdAJQ3Y"
      },
      "id": "rvjiFrdAJQ3Y"
    },
    {
      "cell_type": "code",
      "source": [
        "\n",
        "values = 1\n",
        "visualize_df = [] * len(bar_df[values])\n",
        "\n",
        "# last candles observe 7 to 10 in actual working\n",
        "candles_observe = 3\n",
        "\n",
        "\n",
        "for index, chart_info in enumerate( bar_df[values] ):\n",
        "\n",
        "      observe = chart_info[-candles_observe:]\n",
        "      mask    = observe['Crossover'] == -1\n",
        "      filtered_data = observe[mask]\n",
        "      # print(index, filtered_data)\n",
        "      if len(filtered_data) > 0:\n",
        "          visualize_df.append(chart_info)\n",
        "      # print(filtered_data)\n",
        "\n",
        "visualize_df"
      ],
      "metadata": {
        "id": "msRU5OF5JOVQ"
      },
      "id": "msRU5OF5JOVQ",
      "execution_count": null,
      "outputs": []
    },
    {
      "cell_type": "markdown",
      "source": [
        "For Acitive Orders Early Exit / For Trend Change Early Alert"
      ],
      "metadata": {
        "id": "IBjlC8dQHaGz"
      },
      "id": "IBjlC8dQHaGz"
    },
    {
      "cell_type": "code",
      "source": [
        "\n",
        "values = 1\n",
        "visualize_df = [] * len(bar_df[values])\n",
        "\n",
        "# last candles observe 7 to 10 in actual working\n",
        "candles_observe = 8\n",
        "\n",
        "\n",
        "for index, chart_info in enumerate( bar_df[values] ):\n",
        "\n",
        "      observe = chart_info[-8:]\n",
        "      mask    = observe['Crossover'] == 1\n",
        "      inverse_mask  = observe['Crossover'] == -1\n",
        "      up   = observe[mask]\n",
        "      down = observe[inverse_mask]\n",
        "      # print(index, filtered_data)\n",
        "      if len(up) > 0 and len(down) > 0:\n",
        "          visualize_df.append(chart_info)\n",
        "      # print(filtered_data)\n",
        "\n",
        "visualize_df"
      ],
      "metadata": {
        "id": "4UvkPxoIHgzb"
      },
      "id": "4UvkPxoIHgzb",
      "execution_count": null,
      "outputs": []
    },
    {
      "cell_type": "code",
      "source": [
        "observe = data[-3:]\n",
        "\n",
        "mask    = observe['age'] < 25\n",
        "\n",
        "# Apply the mask to filter the array\n",
        "\n",
        "filtered_data = observe[mask]\n",
        "\n",
        "# Get the last three rows with the most recent indices\n",
        "# last_three_rows = filtered_data[-3:]\n",
        "\n",
        "# print(last_three_rows)\n",
        "print(len(filtered_data))\n",
        "# mask"
      ],
      "metadata": {
        "id": "nm7zjSmtZepN"
      },
      "id": "nm7zjSmtZepN",
      "execution_count": null,
      "outputs": []
    },
    {
      "cell_type": "markdown",
      "source": [
        "# Visualization"
      ],
      "metadata": {
        "id": "86QClIcMZbTV"
      },
      "id": "86QClIcMZbTV"
    },
    {
      "cell_type": "code",
      "source": [
        "bar_df[0]"
      ],
      "metadata": {
        "colab": {
          "base_uri": "https://localhost:8080/"
        },
        "id": "3FaujNboMsTB",
        "outputId": "c4a1fe09-a869-4bee-a6d9-eb9bf74af4ad"
      },
      "id": "3FaujNboMsTB",
      "execution_count": null,
      "outputs": [
        {
          "output_type": "execute_result",
          "data": {
            "text/plain": [
              "('index',\n",
              " 'symbol',\n",
              " 'Close',\n",
              " 'Heikin-Ashi-Status',\n",
              " 'Direction',\n",
              " 'Average-Directional-Index',\n",
              " 'Crossover',\n",
              " 'Stop_Loss',\n",
              " 'Take_Profit',\n",
              " 'ema20',\n",
              " 'ema5',\n",
              " 'bb_lower',\n",
              " 'bb_upper',\n",
              " 'atr_lower',\n",
              " 'atr_upper',\n",
              " 'ha_open',\n",
              " 'ha_high',\n",
              " 'ha_low',\n",
              " 'ha_close')"
            ]
          },
          "metadata": {},
          "execution_count": 60
        }
      ]
    },
    {
      "cell_type": "code",
      "source": [
        "bar_df[1][0][0]"
      ],
      "metadata": {
        "colab": {
          "base_uri": "https://localhost:8080/"
        },
        "id": "SMaSpIcwM6QC",
        "outputId": "126efb7e-b023-4908-e4e6-89ffa153213b"
      },
      "id": "SMaSpIcwM6QC",
      "execution_count": null,
      "outputs": [
        {
          "output_type": "execute_result",
          "data": {
            "text/plain": [
              "('2023-12-02T15', 'BTC-USD', list([40578.98, 40908.65, 40578.98, 40801.184]), 38818.95703125, 'Neutral', 'Green', 1., 94.19737999, 0., 24856.53222656, 52775.46777344, 38240., 38720., 24856.53222656, 52775.46777344, 24856.53222656, 52775.46777344)"
            ]
          },
          "metadata": {},
          "execution_count": 56
        }
      ]
    },
    {
      "cell_type": "code",
      "source": [
        "# bar_df[0]\n",
        "import pandas as pd\n",
        "\n",
        "for n in range(len(bar_df[1]) ):\n",
        "\n",
        "    sym = bar_df[1][n]['symbol'][0]\n",
        "    z   = bar_df[1][n]\n",
        "    df  = pd.DataFrame(z)\n",
        "    df.to_csv(f'{sym}.csv', index=False)\n",
        "\n",
        "\n",
        "# df\n",
        "\n",
        "csv_file_path = 'BTC-USD.csv'\n",
        "# , index_col='index'\n",
        "df = pd.read_csv(csv_file_path , index_col='index' )\n",
        "df['index'] = df.index.values\n",
        "# df['DatetimeIndex'] = df['index']\n",
        "\n",
        "df.index = pd.to_datetime(df.index)\n",
        "\n"
      ],
      "metadata": {
        "collapsed": true,
        "id": "Nzjq0A_3QpJ4"
      },
      "id": "Nzjq0A_3QpJ4",
      "execution_count": null,
      "outputs": []
    },
    {
      "cell_type": "code",
      "source": [
        "len(bar_df[1][0]['index']) == len(bar_df[1][0][\"heikin-ashi-ohlc\"][1])"
      ],
      "metadata": {
        "colab": {
          "base_uri": "https://localhost:8080/"
        },
        "id": "O-PViSDOQ25X",
        "outputId": "b90e8db6-b513-45af-984f-6ee0de767e3b"
      },
      "id": "O-PViSDOQ25X",
      "execution_count": null,
      "outputs": [
        {
          "output_type": "execute_result",
          "data": {
            "text/plain": [
              "False"
            ]
          },
          "metadata": {},
          "execution_count": 63
        }
      ]
    },
    {
      "cell_type": "code",
      "source": [
        "len(bar_df[1][0][\"heikin-ashi-ohlc\"][:][0])"
      ],
      "metadata": {
        "colab": {
          "base_uri": "https://localhost:8080/"
        },
        "id": "02Wr4MN9RQsw",
        "outputId": "cb29198a-dddf-4636-e17e-2d762fdd1911"
      },
      "id": "02Wr4MN9RQsw",
      "execution_count": null,
      "outputs": [
        {
          "output_type": "execute_result",
          "data": {
            "text/plain": [
              "4"
            ]
          },
          "metadata": {},
          "execution_count": 66
        }
      ]
    },
    {
      "cell_type": "code",
      "source": [
        "heikin_ashi_candles_plot(bar=df)"
      ],
      "metadata": {
        "id": "9XJJEwnqwnTu"
      },
      "id": "9XJJEwnqwnTu",
      "execution_count": null,
      "outputs": []
    },
    {
      "cell_type": "code",
      "source": [
        "heikin_ashi_candles_plot(bar=bar_df[1][0])"
      ],
      "metadata": {
        "colab": {
          "base_uri": "https://localhost:8080/",
          "height": 542
        },
        "id": "qgisIgdSvRJ-",
        "outputId": "d406e74a-7612-40a2-c401-6d1bcf04c1d9"
      },
      "id": "qgisIgdSvRJ-",
      "execution_count": null,
      "outputs": [
        {
          "output_type": "display_data",
          "data": {
            "text/html": [
              "<html>\n",
              "<head><meta charset=\"utf-8\" /></head>\n",
              "<body>\n",
              "    <div>            <script src=\"https://cdnjs.cloudflare.com/ajax/libs/mathjax/2.7.5/MathJax.js?config=TeX-AMS-MML_SVG\"></script><script type=\"text/javascript\">if (window.MathJax && window.MathJax.Hub && window.MathJax.Hub.Config) {window.MathJax.Hub.Config({SVG: {font: \"STIX-Web\"}});}</script>                <script type=\"text/javascript\">window.PlotlyConfig = {MathJaxConfig: 'local'};</script>\n",
              "        <script charset=\"utf-8\" src=\"https://cdn.plot.ly/plotly-2.24.1.min.js\"></script>                <div id=\"19293eaf-60dd-4737-b1e2-4be60c62d695\" class=\"plotly-graph-div\" style=\"height:525px; width:100%;\"></div>            <script type=\"text/javascript\">                                    window.PLOTLYENV=window.PLOTLYENV || {};                                    if (document.getElementById(\"19293eaf-60dd-4737-b1e2-4be60c62d695\")) {                    Plotly.newPlot(                        \"19293eaf-60dd-4737-b1e2-4be60c62d695\",                        [{\"close\":[41766.67578125,41786.765625,41822.609375,41802.6015625,41593.296875,41547.7734375,41658.62109375,41686.203125,41662.34375,41787.8046875,41886.5625,42016.23828125,42257.2421875,42236.6171875],\"high\":[41812.984375,41823.56640625,41901.625,41908.14453125,41803.3515625,41698.32421875,41709.34375,41758.16796875,41725.078125,41873.3984375,42030.01171875,42205.359375,42412.21875,42276.53125],\"low\":[41717.55859375,41738.70703125,41722.95703125,41677.0625,41421.1484375,41450.98828125,41605.421875,41638.40234375,41576.92578125,41662.9296875,41725.3671875,41805.96484375,41911.1015625,42084.171875],\"open\":[41802.16796875,41784.421875,41785.59375,41804.1015625,41803.3515625,41698.32421875,41623.046875,41640.8359375,41663.51953125,41662.9296875,41725.3671875,41805.96484375,41911.1015625,42084.171875],\"x\":[\"2023-12-03T14\",\"2023-12-03T18\",\"2023-12-03T22\",\"2023-12-04T02\",\"2023-12-04T06\",\"2023-12-04T10\",\"2023-12-04T14\",\"2023-12-04T18\",\"2023-12-04T22\",\"2023-12-05T02\",\"2023-12-05T06\",\"2023-12-05T10\",\"2023-12-05T14\",\"2023-12-05T18\"],\"type\":\"candlestick\"},{\"line\":{\"color\":\"yellow\",\"width\":1.5},\"mode\":\"lines\",\"name\":\"upper_band\",\"x\":[\"2023-12-03T14\",\"2023-12-03T18\",\"2023-12-03T22\",\"2023-12-04T02\",\"2023-12-04T06\",\"2023-12-04T10\",\"2023-12-04T14\",\"2023-12-04T18\",\"2023-12-04T22\",\"2023-12-05T02\",\"2023-12-05T06\",\"2023-12-05T10\",\"2023-12-05T14\",\"2023-12-05T18\"],\"y\":[41415.0811966464,41430.80914363513,41478.29449668869,41463.0010766552,41383.68390610344,41386.369516913925,41456.289503032356,41476.206001313316,41492.14183274684,41568.68791717672,41625.192660048895,41725.48532055233,41830.539524767235,41827.07571956783],\"type\":\"scatter\"},{\"line\":{\"color\":\"yellow\",\"width\":1.5},\"mode\":\"lines\",\"name\":\"lower_band\",\"x\":[\"2023-12-03T14\",\"2023-12-03T18\",\"2023-12-03T22\",\"2023-12-04T02\",\"2023-12-04T06\",\"2023-12-04T10\",\"2023-12-04T14\",\"2023-12-04T18\",\"2023-12-04T22\",\"2023-12-05T02\",\"2023-12-05T06\",\"2023-12-05T10\",\"2023-12-05T14\",\"2023-12-05T18\"],\"y\":[40824.9188033536,40873.19085636487,40889.70550331131,40968.9989233448,41112.31609389656,41109.630483086075,41103.710496967644,41147.793998686684,41195.85816725316,41183.31208282328,41190.807339951105,41154.51467944767,41113.460475232765,41180.92428043217],\"type\":\"scatter\"},{\"line\":{\"color\":\"orange\",\"width\":2.5},\"mode\":\"lines\",\"name\":\"EMA-5-period\",\"x\":[\"2023-12-03T14\",\"2023-12-03T18\",\"2023-12-03T22\",\"2023-12-04T02\",\"2023-12-04T06\",\"2023-12-04T10\",\"2023-12-04T14\",\"2023-12-04T18\",\"2023-12-04T22\",\"2023-12-05T02\",\"2023-12-05T06\",\"2023-12-05T10\",\"2023-12-05T14\",\"2023-12-05T18\"],\"y\":[39296.0,39328.0,39456.0,39488.0,39712.0,40096.0,40640.0,41024.0,41216.0,41408.0,41568.0,41632.0,41632.0,41696.0],\"type\":\"scatter\"},{\"line\":{\"color\":\"violet\",\"width\":2.5},\"mode\":\"lines\",\"name\":\"EMA-20-period\",\"x\":[\"2023-12-03T14\",\"2023-12-03T18\",\"2023-12-03T22\",\"2023-12-04T02\",\"2023-12-04T06\",\"2023-12-04T10\",\"2023-12-04T14\",\"2023-12-04T18\",\"2023-12-04T22\",\"2023-12-05T02\",\"2023-12-05T06\",\"2023-12-05T10\",\"2023-12-05T14\",\"2023-12-05T18\"],\"y\":[38688.0,38752.0,38848.0,38912.0,39040.0,39200.0,39424.0,39648.0,39840.0,40032.0,40224.0,40384.0,40512.0,40640.0],\"type\":\"scatter\"}],                        {\"template\":{\"data\":{\"histogram2dcontour\":[{\"type\":\"histogram2dcontour\",\"colorbar\":{\"outlinewidth\":0,\"ticks\":\"\"},\"colorscale\":[[0.0,\"#0d0887\"],[0.1111111111111111,\"#46039f\"],[0.2222222222222222,\"#7201a8\"],[0.3333333333333333,\"#9c179e\"],[0.4444444444444444,\"#bd3786\"],[0.5555555555555556,\"#d8576b\"],[0.6666666666666666,\"#ed7953\"],[0.7777777777777778,\"#fb9f3a\"],[0.8888888888888888,\"#fdca26\"],[1.0,\"#f0f921\"]]}],\"choropleth\":[{\"type\":\"choropleth\",\"colorbar\":{\"outlinewidth\":0,\"ticks\":\"\"}}],\"histogram2d\":[{\"type\":\"histogram2d\",\"colorbar\":{\"outlinewidth\":0,\"ticks\":\"\"},\"colorscale\":[[0.0,\"#0d0887\"],[0.1111111111111111,\"#46039f\"],[0.2222222222222222,\"#7201a8\"],[0.3333333333333333,\"#9c179e\"],[0.4444444444444444,\"#bd3786\"],[0.5555555555555556,\"#d8576b\"],[0.6666666666666666,\"#ed7953\"],[0.7777777777777778,\"#fb9f3a\"],[0.8888888888888888,\"#fdca26\"],[1.0,\"#f0f921\"]]}],\"heatmap\":[{\"type\":\"heatmap\",\"colorbar\":{\"outlinewidth\":0,\"ticks\":\"\"},\"colorscale\":[[0.0,\"#0d0887\"],[0.1111111111111111,\"#46039f\"],[0.2222222222222222,\"#7201a8\"],[0.3333333333333333,\"#9c179e\"],[0.4444444444444444,\"#bd3786\"],[0.5555555555555556,\"#d8576b\"],[0.6666666666666666,\"#ed7953\"],[0.7777777777777778,\"#fb9f3a\"],[0.8888888888888888,\"#fdca26\"],[1.0,\"#f0f921\"]]}],\"heatmapgl\":[{\"type\":\"heatmapgl\",\"colorbar\":{\"outlinewidth\":0,\"ticks\":\"\"},\"colorscale\":[[0.0,\"#0d0887\"],[0.1111111111111111,\"#46039f\"],[0.2222222222222222,\"#7201a8\"],[0.3333333333333333,\"#9c179e\"],[0.4444444444444444,\"#bd3786\"],[0.5555555555555556,\"#d8576b\"],[0.6666666666666666,\"#ed7953\"],[0.7777777777777778,\"#fb9f3a\"],[0.8888888888888888,\"#fdca26\"],[1.0,\"#f0f921\"]]}],\"contourcarpet\":[{\"type\":\"contourcarpet\",\"colorbar\":{\"outlinewidth\":0,\"ticks\":\"\"}}],\"contour\":[{\"type\":\"contour\",\"colorbar\":{\"outlinewidth\":0,\"ticks\":\"\"},\"colorscale\":[[0.0,\"#0d0887\"],[0.1111111111111111,\"#46039f\"],[0.2222222222222222,\"#7201a8\"],[0.3333333333333333,\"#9c179e\"],[0.4444444444444444,\"#bd3786\"],[0.5555555555555556,\"#d8576b\"],[0.6666666666666666,\"#ed7953\"],[0.7777777777777778,\"#fb9f3a\"],[0.8888888888888888,\"#fdca26\"],[1.0,\"#f0f921\"]]}],\"surface\":[{\"type\":\"surface\",\"colorbar\":{\"outlinewidth\":0,\"ticks\":\"\"},\"colorscale\":[[0.0,\"#0d0887\"],[0.1111111111111111,\"#46039f\"],[0.2222222222222222,\"#7201a8\"],[0.3333333333333333,\"#9c179e\"],[0.4444444444444444,\"#bd3786\"],[0.5555555555555556,\"#d8576b\"],[0.6666666666666666,\"#ed7953\"],[0.7777777777777778,\"#fb9f3a\"],[0.8888888888888888,\"#fdca26\"],[1.0,\"#f0f921\"]]}],\"mesh3d\":[{\"type\":\"mesh3d\",\"colorbar\":{\"outlinewidth\":0,\"ticks\":\"\"}}],\"scatter\":[{\"fillpattern\":{\"fillmode\":\"overlay\",\"size\":10,\"solidity\":0.2},\"type\":\"scatter\"}],\"parcoords\":[{\"type\":\"parcoords\",\"line\":{\"colorbar\":{\"outlinewidth\":0,\"ticks\":\"\"}}}],\"scatterpolargl\":[{\"type\":\"scatterpolargl\",\"marker\":{\"colorbar\":{\"outlinewidth\":0,\"ticks\":\"\"}}}],\"bar\":[{\"error_x\":{\"color\":\"#2a3f5f\"},\"error_y\":{\"color\":\"#2a3f5f\"},\"marker\":{\"line\":{\"color\":\"#E5ECF6\",\"width\":0.5},\"pattern\":{\"fillmode\":\"overlay\",\"size\":10,\"solidity\":0.2}},\"type\":\"bar\"}],\"scattergeo\":[{\"type\":\"scattergeo\",\"marker\":{\"colorbar\":{\"outlinewidth\":0,\"ticks\":\"\"}}}],\"scatterpolar\":[{\"type\":\"scatterpolar\",\"marker\":{\"colorbar\":{\"outlinewidth\":0,\"ticks\":\"\"}}}],\"histogram\":[{\"marker\":{\"pattern\":{\"fillmode\":\"overlay\",\"size\":10,\"solidity\":0.2}},\"type\":\"histogram\"}],\"scattergl\":[{\"type\":\"scattergl\",\"marker\":{\"colorbar\":{\"outlinewidth\":0,\"ticks\":\"\"}}}],\"scatter3d\":[{\"type\":\"scatter3d\",\"line\":{\"colorbar\":{\"outlinewidth\":0,\"ticks\":\"\"}},\"marker\":{\"colorbar\":{\"outlinewidth\":0,\"ticks\":\"\"}}}],\"scattermapbox\":[{\"type\":\"scattermapbox\",\"marker\":{\"colorbar\":{\"outlinewidth\":0,\"ticks\":\"\"}}}],\"scatterternary\":[{\"type\":\"scatterternary\",\"marker\":{\"colorbar\":{\"outlinewidth\":0,\"ticks\":\"\"}}}],\"scattercarpet\":[{\"type\":\"scattercarpet\",\"marker\":{\"colorbar\":{\"outlinewidth\":0,\"ticks\":\"\"}}}],\"carpet\":[{\"aaxis\":{\"endlinecolor\":\"#2a3f5f\",\"gridcolor\":\"white\",\"linecolor\":\"white\",\"minorgridcolor\":\"white\",\"startlinecolor\":\"#2a3f5f\"},\"baxis\":{\"endlinecolor\":\"#2a3f5f\",\"gridcolor\":\"white\",\"linecolor\":\"white\",\"minorgridcolor\":\"white\",\"startlinecolor\":\"#2a3f5f\"},\"type\":\"carpet\"}],\"table\":[{\"cells\":{\"fill\":{\"color\":\"#EBF0F8\"},\"line\":{\"color\":\"white\"}},\"header\":{\"fill\":{\"color\":\"#C8D4E3\"},\"line\":{\"color\":\"white\"}},\"type\":\"table\"}],\"barpolar\":[{\"marker\":{\"line\":{\"color\":\"#E5ECF6\",\"width\":0.5},\"pattern\":{\"fillmode\":\"overlay\",\"size\":10,\"solidity\":0.2}},\"type\":\"barpolar\"}],\"pie\":[{\"automargin\":true,\"type\":\"pie\"}]},\"layout\":{\"autotypenumbers\":\"strict\",\"colorway\":[\"#636efa\",\"#EF553B\",\"#00cc96\",\"#ab63fa\",\"#FFA15A\",\"#19d3f3\",\"#FF6692\",\"#B6E880\",\"#FF97FF\",\"#FECB52\"],\"font\":{\"color\":\"#2a3f5f\"},\"hovermode\":\"closest\",\"hoverlabel\":{\"align\":\"left\"},\"paper_bgcolor\":\"white\",\"plot_bgcolor\":\"#E5ECF6\",\"polar\":{\"bgcolor\":\"#E5ECF6\",\"angularaxis\":{\"gridcolor\":\"white\",\"linecolor\":\"white\",\"ticks\":\"\"},\"radialaxis\":{\"gridcolor\":\"white\",\"linecolor\":\"white\",\"ticks\":\"\"}},\"ternary\":{\"bgcolor\":\"#E5ECF6\",\"aaxis\":{\"gridcolor\":\"white\",\"linecolor\":\"white\",\"ticks\":\"\"},\"baxis\":{\"gridcolor\":\"white\",\"linecolor\":\"white\",\"ticks\":\"\"},\"caxis\":{\"gridcolor\":\"white\",\"linecolor\":\"white\",\"ticks\":\"\"}},\"coloraxis\":{\"colorbar\":{\"outlinewidth\":0,\"ticks\":\"\"}},\"colorscale\":{\"sequential\":[[0.0,\"#0d0887\"],[0.1111111111111111,\"#46039f\"],[0.2222222222222222,\"#7201a8\"],[0.3333333333333333,\"#9c179e\"],[0.4444444444444444,\"#bd3786\"],[0.5555555555555556,\"#d8576b\"],[0.6666666666666666,\"#ed7953\"],[0.7777777777777778,\"#fb9f3a\"],[0.8888888888888888,\"#fdca26\"],[1.0,\"#f0f921\"]],\"sequentialminus\":[[0.0,\"#0d0887\"],[0.1111111111111111,\"#46039f\"],[0.2222222222222222,\"#7201a8\"],[0.3333333333333333,\"#9c179e\"],[0.4444444444444444,\"#bd3786\"],[0.5555555555555556,\"#d8576b\"],[0.6666666666666666,\"#ed7953\"],[0.7777777777777778,\"#fb9f3a\"],[0.8888888888888888,\"#fdca26\"],[1.0,\"#f0f921\"]],\"diverging\":[[0,\"#8e0152\"],[0.1,\"#c51b7d\"],[0.2,\"#de77ae\"],[0.3,\"#f1b6da\"],[0.4,\"#fde0ef\"],[0.5,\"#f7f7f7\"],[0.6,\"#e6f5d0\"],[0.7,\"#b8e186\"],[0.8,\"#7fbc41\"],[0.9,\"#4d9221\"],[1,\"#276419\"]]},\"xaxis\":{\"gridcolor\":\"white\",\"linecolor\":\"white\",\"ticks\":\"\",\"title\":{\"standoff\":15},\"zerolinecolor\":\"white\",\"automargin\":true,\"zerolinewidth\":2},\"yaxis\":{\"gridcolor\":\"white\",\"linecolor\":\"white\",\"ticks\":\"\",\"title\":{\"standoff\":15},\"zerolinecolor\":\"white\",\"automargin\":true,\"zerolinewidth\":2},\"scene\":{\"xaxis\":{\"backgroundcolor\":\"#E5ECF6\",\"gridcolor\":\"white\",\"linecolor\":\"white\",\"showbackground\":true,\"ticks\":\"\",\"zerolinecolor\":\"white\",\"gridwidth\":2},\"yaxis\":{\"backgroundcolor\":\"#E5ECF6\",\"gridcolor\":\"white\",\"linecolor\":\"white\",\"showbackground\":true,\"ticks\":\"\",\"zerolinecolor\":\"white\",\"gridwidth\":2},\"zaxis\":{\"backgroundcolor\":\"#E5ECF6\",\"gridcolor\":\"white\",\"linecolor\":\"white\",\"showbackground\":true,\"ticks\":\"\",\"zerolinecolor\":\"white\",\"gridwidth\":2}},\"shapedefaults\":{\"line\":{\"color\":\"#2a3f5f\"}},\"annotationdefaults\":{\"arrowcolor\":\"#2a3f5f\",\"arrowhead\":0,\"arrowwidth\":1},\"geo\":{\"bgcolor\":\"white\",\"landcolor\":\"#E5ECF6\",\"subunitcolor\":\"white\",\"showland\":true,\"showlakes\":true,\"lakecolor\":\"white\"},\"title\":{\"x\":0.05},\"mapbox\":{\"style\":\"light\"}}},\"yaxis\":{\"tickformat\":\".5f\",\"showline\":true,\"linewidth\":2,\"linecolor\":\"white\",\"gridcolor\":\"grey\"},\"plot_bgcolor\":\"rgb(8, 14, 44)\",\"xaxis\":{\"showline\":true,\"linewidth\":2,\"linecolor\":\"white\",\"gridcolor\":\"rgb(8, 14, 44)\"}},                        {\"responsive\": true}                    ).then(function(){\n",
              "                            \n",
              "var gd = document.getElementById('19293eaf-60dd-4737-b1e2-4be60c62d695');\n",
              "var x = new MutationObserver(function (mutations, observer) {{\n",
              "        var display = window.getComputedStyle(gd).display;\n",
              "        if (!display || display === 'none') {{\n",
              "            console.log([gd, 'removed!']);\n",
              "            Plotly.purge(gd);\n",
              "            observer.disconnect();\n",
              "        }}\n",
              "}});\n",
              "\n",
              "// Listen for the removal of the full notebook cells\n",
              "var notebookContainer = gd.closest('#notebook-container');\n",
              "if (notebookContainer) {{\n",
              "    x.observe(notebookContainer, {childList: true});\n",
              "}}\n",
              "\n",
              "// Listen for the clearing of the current output cell\n",
              "var outputEl = gd.closest('.output');\n",
              "if (outputEl) {{\n",
              "    x.observe(outputEl, {childList: true});\n",
              "}}\n",
              "\n",
              "                        })                };                            </script>        </div>\n",
              "</body>\n",
              "</html>"
            ]
          },
          "metadata": {}
        }
      ]
    },
    {
      "cell_type": "code",
      "source": [
        "heikin_ashi_candles_plot(bar=bar_df[1][0])"
      ],
      "metadata": {
        "colab": {
          "base_uri": "https://localhost:8080/",
          "height": 542
        },
        "id": "yyH080M3PSPP",
        "outputId": "838ec78a-ff16-486c-a226-9f5aac443ffd"
      },
      "id": "yyH080M3PSPP",
      "execution_count": null,
      "outputs": [
        {
          "output_type": "display_data",
          "data": {
            "text/html": [
              "<html>\n",
              "<head><meta charset=\"utf-8\" /></head>\n",
              "<body>\n",
              "    <div>            <script src=\"https://cdnjs.cloudflare.com/ajax/libs/mathjax/2.7.5/MathJax.js?config=TeX-AMS-MML_SVG\"></script><script type=\"text/javascript\">if (window.MathJax && window.MathJax.Hub && window.MathJax.Hub.Config) {window.MathJax.Hub.Config({SVG: {font: \"STIX-Web\"}});}</script>                <script type=\"text/javascript\">window.PlotlyConfig = {MathJaxConfig: 'local'};</script>\n",
              "        <script charset=\"utf-8\" src=\"https://cdn.plot.ly/plotly-2.24.1.min.js\"></script>                <div id=\"e1abe493-8faf-43de-8c01-87cbd3e50c63\" class=\"plotly-graph-div\" style=\"height:525px; width:100%;\"></div>            <script type=\"text/javascript\">                                    window.PLOTLYENV=window.PLOTLYENV || {};                                    if (document.getElementById(\"e1abe493-8faf-43de-8c01-87cbd3e50c63\")) {                    Plotly.newPlot(                        \"e1abe493-8faf-43de-8c01-87cbd3e50c63\",                        [{\"close\":[43657.8828125,43679.125,43659.5625,43847.3671875,43859.5078125,44053.2734375,43839.16015625,44061.40625,44125.1640625,44061.71484375,43802.78125,43861.51171875,43929.83203125,43897.03125],\"high\":[43824.1484375,43732.39453125,43718.15234375,43861.5,43972.38671875,44258.25390625,44118.0078125,44190.90625,44154.5703125,44265.76953125,44089.50390625,44027.984375,44108.5,43973.31640625],\"low\":[43566.26953125,43480.46484375,43510.39453125,43663.25390625,43699.22265625,43867.7265625,43478.08203125,43794.33984375,43986.21484375,43972.484375,43764.34765625,43748.9375,43835.33984375,43884.4453125],\"open\":[43736.7109375,43675.71484375,43675.9921875,43691.1484375,43836.2109375,43867.7265625,44109.1171875,43836.21875,44046.4296875,44103.66015625,44054.140625,43800.73046875,43857.8984375,43973.31640625],\"x\":[\"2023-12-06T10\",\"2023-12-06T11\",\"2023-12-06T12\",\"2023-12-06T13\",\"2023-12-06T14\",\"2023-12-06T15\",\"2023-12-06T16\",\"2023-12-06T17\",\"2023-12-06T18\",\"2023-12-06T19\",\"2023-12-06T20\",\"2023-12-06T21\",\"2023-12-06T22\",\"2023-12-06T23\"],\"type\":\"candlestick\"},{\"line\":{\"color\":\"yellow\",\"width\":1.5},\"mode\":\"lines\",\"name\":\"upper_band\",\"x\":[\"2023-12-06T10\",\"2023-12-06T11\",\"2023-12-06T12\",\"2023-12-06T13\",\"2023-12-06T14\",\"2023-12-06T15\",\"2023-12-06T16\",\"2023-12-06T17\",\"2023-12-06T18\",\"2023-12-06T19\",\"2023-12-06T20\",\"2023-12-06T21\",\"2023-12-06T22\",\"2023-12-06T23\"],\"y\":[43115.184129201385,43127.260185064486,43144.3716991143,43251.902236004404,43310.982304144534,43442.97915148845,43349.75876243909,43476.27957247561,43544.34875034716,43584.79841253101,43506.584718233775,43521.56090382695,43574.317321289964,43574.28506520291],\"type\":\"scatter\"},{\"line\":{\"color\":\"yellow\",\"width\":1.5},\"mode\":\"lines\",\"name\":\"lower_band\",\"x\":[\"2023-12-06T10\",\"2023-12-06T11\",\"2023-12-06T12\",\"2023-12-06T13\",\"2023-12-06T14\",\"2023-12-06T15\",\"2023-12-06T16\",\"2023-12-06T17\",\"2023-12-06T18\",\"2023-12-06T19\",\"2023-12-06T20\",\"2023-12-06T21\",\"2023-12-06T22\",\"2023-12-06T23\"],\"y\":[42196.815870798615,42312.739814935514,42359.6283008857,42380.097763995596,42449.017695855466,42445.02084851155,42602.24123756091,42603.72042752439,42663.65124965284,42751.20158746899,42893.415281766225,42942.43909617305,42953.682678710036,43017.71493479709],\"type\":\"scatter\"},{\"line\":{\"color\":\"orange\",\"width\":2.5},\"mode\":\"lines\",\"name\":\"EMA-5-period\",\"x\":[\"2023-12-06T10\",\"2023-12-06T11\",\"2023-12-06T12\",\"2023-12-06T13\",\"2023-12-06T14\",\"2023-12-06T15\",\"2023-12-06T16\",\"2023-12-06T17\",\"2023-12-06T18\",\"2023-12-06T19\",\"2023-12-06T20\",\"2023-12-06T21\",\"2023-12-06T22\",\"2023-12-06T23\"],\"y\":[43840.0,43776.0,43744.0,43712.0,43744.0,43776.0,43872.0,43872.0,43936.0,44000.0,44032.0,43968.0,43936.0,43936.0],\"type\":\"scatter\"},{\"line\":{\"color\":\"violet\",\"width\":2.5},\"mode\":\"lines\",\"name\":\"EMA-20-period\",\"x\":[\"2023-12-06T10\",\"2023-12-06T11\",\"2023-12-06T12\",\"2023-12-06T13\",\"2023-12-06T14\",\"2023-12-06T15\",\"2023-12-06T16\",\"2023-12-06T17\",\"2023-12-06T18\",\"2023-12-06T19\",\"2023-12-06T20\",\"2023-12-06T21\",\"2023-12-06T22\",\"2023-12-06T23\"],\"y\":[43264.0,43296.0,43328.0,43360.0,43392.0,43424.0,43488.0,43520.0,43584.0,43648.0,43680.0,43680.0,43712.0,43744.0],\"type\":\"scatter\"}],                        {\"template\":{\"data\":{\"histogram2dcontour\":[{\"type\":\"histogram2dcontour\",\"colorbar\":{\"outlinewidth\":0,\"ticks\":\"\"},\"colorscale\":[[0.0,\"#0d0887\"],[0.1111111111111111,\"#46039f\"],[0.2222222222222222,\"#7201a8\"],[0.3333333333333333,\"#9c179e\"],[0.4444444444444444,\"#bd3786\"],[0.5555555555555556,\"#d8576b\"],[0.6666666666666666,\"#ed7953\"],[0.7777777777777778,\"#fb9f3a\"],[0.8888888888888888,\"#fdca26\"],[1.0,\"#f0f921\"]]}],\"choropleth\":[{\"type\":\"choropleth\",\"colorbar\":{\"outlinewidth\":0,\"ticks\":\"\"}}],\"histogram2d\":[{\"type\":\"histogram2d\",\"colorbar\":{\"outlinewidth\":0,\"ticks\":\"\"},\"colorscale\":[[0.0,\"#0d0887\"],[0.1111111111111111,\"#46039f\"],[0.2222222222222222,\"#7201a8\"],[0.3333333333333333,\"#9c179e\"],[0.4444444444444444,\"#bd3786\"],[0.5555555555555556,\"#d8576b\"],[0.6666666666666666,\"#ed7953\"],[0.7777777777777778,\"#fb9f3a\"],[0.8888888888888888,\"#fdca26\"],[1.0,\"#f0f921\"]]}],\"heatmap\":[{\"type\":\"heatmap\",\"colorbar\":{\"outlinewidth\":0,\"ticks\":\"\"},\"colorscale\":[[0.0,\"#0d0887\"],[0.1111111111111111,\"#46039f\"],[0.2222222222222222,\"#7201a8\"],[0.3333333333333333,\"#9c179e\"],[0.4444444444444444,\"#bd3786\"],[0.5555555555555556,\"#d8576b\"],[0.6666666666666666,\"#ed7953\"],[0.7777777777777778,\"#fb9f3a\"],[0.8888888888888888,\"#fdca26\"],[1.0,\"#f0f921\"]]}],\"heatmapgl\":[{\"type\":\"heatmapgl\",\"colorbar\":{\"outlinewidth\":0,\"ticks\":\"\"},\"colorscale\":[[0.0,\"#0d0887\"],[0.1111111111111111,\"#46039f\"],[0.2222222222222222,\"#7201a8\"],[0.3333333333333333,\"#9c179e\"],[0.4444444444444444,\"#bd3786\"],[0.5555555555555556,\"#d8576b\"],[0.6666666666666666,\"#ed7953\"],[0.7777777777777778,\"#fb9f3a\"],[0.8888888888888888,\"#fdca26\"],[1.0,\"#f0f921\"]]}],\"contourcarpet\":[{\"type\":\"contourcarpet\",\"colorbar\":{\"outlinewidth\":0,\"ticks\":\"\"}}],\"contour\":[{\"type\":\"contour\",\"colorbar\":{\"outlinewidth\":0,\"ticks\":\"\"},\"colorscale\":[[0.0,\"#0d0887\"],[0.1111111111111111,\"#46039f\"],[0.2222222222222222,\"#7201a8\"],[0.3333333333333333,\"#9c179e\"],[0.4444444444444444,\"#bd3786\"],[0.5555555555555556,\"#d8576b\"],[0.6666666666666666,\"#ed7953\"],[0.7777777777777778,\"#fb9f3a\"],[0.8888888888888888,\"#fdca26\"],[1.0,\"#f0f921\"]]}],\"surface\":[{\"type\":\"surface\",\"colorbar\":{\"outlinewidth\":0,\"ticks\":\"\"},\"colorscale\":[[0.0,\"#0d0887\"],[0.1111111111111111,\"#46039f\"],[0.2222222222222222,\"#7201a8\"],[0.3333333333333333,\"#9c179e\"],[0.4444444444444444,\"#bd3786\"],[0.5555555555555556,\"#d8576b\"],[0.6666666666666666,\"#ed7953\"],[0.7777777777777778,\"#fb9f3a\"],[0.8888888888888888,\"#fdca26\"],[1.0,\"#f0f921\"]]}],\"mesh3d\":[{\"type\":\"mesh3d\",\"colorbar\":{\"outlinewidth\":0,\"ticks\":\"\"}}],\"scatter\":[{\"fillpattern\":{\"fillmode\":\"overlay\",\"size\":10,\"solidity\":0.2},\"type\":\"scatter\"}],\"parcoords\":[{\"type\":\"parcoords\",\"line\":{\"colorbar\":{\"outlinewidth\":0,\"ticks\":\"\"}}}],\"scatterpolargl\":[{\"type\":\"scatterpolargl\",\"marker\":{\"colorbar\":{\"outlinewidth\":0,\"ticks\":\"\"}}}],\"bar\":[{\"error_x\":{\"color\":\"#2a3f5f\"},\"error_y\":{\"color\":\"#2a3f5f\"},\"marker\":{\"line\":{\"color\":\"#E5ECF6\",\"width\":0.5},\"pattern\":{\"fillmode\":\"overlay\",\"size\":10,\"solidity\":0.2}},\"type\":\"bar\"}],\"scattergeo\":[{\"type\":\"scattergeo\",\"marker\":{\"colorbar\":{\"outlinewidth\":0,\"ticks\":\"\"}}}],\"scatterpolar\":[{\"type\":\"scatterpolar\",\"marker\":{\"colorbar\":{\"outlinewidth\":0,\"ticks\":\"\"}}}],\"histogram\":[{\"marker\":{\"pattern\":{\"fillmode\":\"overlay\",\"size\":10,\"solidity\":0.2}},\"type\":\"histogram\"}],\"scattergl\":[{\"type\":\"scattergl\",\"marker\":{\"colorbar\":{\"outlinewidth\":0,\"ticks\":\"\"}}}],\"scatter3d\":[{\"type\":\"scatter3d\",\"line\":{\"colorbar\":{\"outlinewidth\":0,\"ticks\":\"\"}},\"marker\":{\"colorbar\":{\"outlinewidth\":0,\"ticks\":\"\"}}}],\"scattermapbox\":[{\"type\":\"scattermapbox\",\"marker\":{\"colorbar\":{\"outlinewidth\":0,\"ticks\":\"\"}}}],\"scatterternary\":[{\"type\":\"scatterternary\",\"marker\":{\"colorbar\":{\"outlinewidth\":0,\"ticks\":\"\"}}}],\"scattercarpet\":[{\"type\":\"scattercarpet\",\"marker\":{\"colorbar\":{\"outlinewidth\":0,\"ticks\":\"\"}}}],\"carpet\":[{\"aaxis\":{\"endlinecolor\":\"#2a3f5f\",\"gridcolor\":\"white\",\"linecolor\":\"white\",\"minorgridcolor\":\"white\",\"startlinecolor\":\"#2a3f5f\"},\"baxis\":{\"endlinecolor\":\"#2a3f5f\",\"gridcolor\":\"white\",\"linecolor\":\"white\",\"minorgridcolor\":\"white\",\"startlinecolor\":\"#2a3f5f\"},\"type\":\"carpet\"}],\"table\":[{\"cells\":{\"fill\":{\"color\":\"#EBF0F8\"},\"line\":{\"color\":\"white\"}},\"header\":{\"fill\":{\"color\":\"#C8D4E3\"},\"line\":{\"color\":\"white\"}},\"type\":\"table\"}],\"barpolar\":[{\"marker\":{\"line\":{\"color\":\"#E5ECF6\",\"width\":0.5},\"pattern\":{\"fillmode\":\"overlay\",\"size\":10,\"solidity\":0.2}},\"type\":\"barpolar\"}],\"pie\":[{\"automargin\":true,\"type\":\"pie\"}]},\"layout\":{\"autotypenumbers\":\"strict\",\"colorway\":[\"#636efa\",\"#EF553B\",\"#00cc96\",\"#ab63fa\",\"#FFA15A\",\"#19d3f3\",\"#FF6692\",\"#B6E880\",\"#FF97FF\",\"#FECB52\"],\"font\":{\"color\":\"#2a3f5f\"},\"hovermode\":\"closest\",\"hoverlabel\":{\"align\":\"left\"},\"paper_bgcolor\":\"white\",\"plot_bgcolor\":\"#E5ECF6\",\"polar\":{\"bgcolor\":\"#E5ECF6\",\"angularaxis\":{\"gridcolor\":\"white\",\"linecolor\":\"white\",\"ticks\":\"\"},\"radialaxis\":{\"gridcolor\":\"white\",\"linecolor\":\"white\",\"ticks\":\"\"}},\"ternary\":{\"bgcolor\":\"#E5ECF6\",\"aaxis\":{\"gridcolor\":\"white\",\"linecolor\":\"white\",\"ticks\":\"\"},\"baxis\":{\"gridcolor\":\"white\",\"linecolor\":\"white\",\"ticks\":\"\"},\"caxis\":{\"gridcolor\":\"white\",\"linecolor\":\"white\",\"ticks\":\"\"}},\"coloraxis\":{\"colorbar\":{\"outlinewidth\":0,\"ticks\":\"\"}},\"colorscale\":{\"sequential\":[[0.0,\"#0d0887\"],[0.1111111111111111,\"#46039f\"],[0.2222222222222222,\"#7201a8\"],[0.3333333333333333,\"#9c179e\"],[0.4444444444444444,\"#bd3786\"],[0.5555555555555556,\"#d8576b\"],[0.6666666666666666,\"#ed7953\"],[0.7777777777777778,\"#fb9f3a\"],[0.8888888888888888,\"#fdca26\"],[1.0,\"#f0f921\"]],\"sequentialminus\":[[0.0,\"#0d0887\"],[0.1111111111111111,\"#46039f\"],[0.2222222222222222,\"#7201a8\"],[0.3333333333333333,\"#9c179e\"],[0.4444444444444444,\"#bd3786\"],[0.5555555555555556,\"#d8576b\"],[0.6666666666666666,\"#ed7953\"],[0.7777777777777778,\"#fb9f3a\"],[0.8888888888888888,\"#fdca26\"],[1.0,\"#f0f921\"]],\"diverging\":[[0,\"#8e0152\"],[0.1,\"#c51b7d\"],[0.2,\"#de77ae\"],[0.3,\"#f1b6da\"],[0.4,\"#fde0ef\"],[0.5,\"#f7f7f7\"],[0.6,\"#e6f5d0\"],[0.7,\"#b8e186\"],[0.8,\"#7fbc41\"],[0.9,\"#4d9221\"],[1,\"#276419\"]]},\"xaxis\":{\"gridcolor\":\"white\",\"linecolor\":\"white\",\"ticks\":\"\",\"title\":{\"standoff\":15},\"zerolinecolor\":\"white\",\"automargin\":true,\"zerolinewidth\":2},\"yaxis\":{\"gridcolor\":\"white\",\"linecolor\":\"white\",\"ticks\":\"\",\"title\":{\"standoff\":15},\"zerolinecolor\":\"white\",\"automargin\":true,\"zerolinewidth\":2},\"scene\":{\"xaxis\":{\"backgroundcolor\":\"#E5ECF6\",\"gridcolor\":\"white\",\"linecolor\":\"white\",\"showbackground\":true,\"ticks\":\"\",\"zerolinecolor\":\"white\",\"gridwidth\":2},\"yaxis\":{\"backgroundcolor\":\"#E5ECF6\",\"gridcolor\":\"white\",\"linecolor\":\"white\",\"showbackground\":true,\"ticks\":\"\",\"zerolinecolor\":\"white\",\"gridwidth\":2},\"zaxis\":{\"backgroundcolor\":\"#E5ECF6\",\"gridcolor\":\"white\",\"linecolor\":\"white\",\"showbackground\":true,\"ticks\":\"\",\"zerolinecolor\":\"white\",\"gridwidth\":2}},\"shapedefaults\":{\"line\":{\"color\":\"#2a3f5f\"}},\"annotationdefaults\":{\"arrowcolor\":\"#2a3f5f\",\"arrowhead\":0,\"arrowwidth\":1},\"geo\":{\"bgcolor\":\"white\",\"landcolor\":\"#E5ECF6\",\"subunitcolor\":\"white\",\"showland\":true,\"showlakes\":true,\"lakecolor\":\"white\"},\"title\":{\"x\":0.05},\"mapbox\":{\"style\":\"light\"}}},\"yaxis\":{\"tickformat\":\".5f\",\"showline\":true,\"linewidth\":2,\"linecolor\":\"white\",\"gridcolor\":\"grey\"},\"plot_bgcolor\":\"rgb(8, 14, 44)\",\"xaxis\":{\"showline\":true,\"linewidth\":2,\"linecolor\":\"white\",\"gridcolor\":\"rgb(8, 14, 44)\"}},                        {\"responsive\": true}                    ).then(function(){\n",
              "                            \n",
              "var gd = document.getElementById('e1abe493-8faf-43de-8c01-87cbd3e50c63');\n",
              "var x = new MutationObserver(function (mutations, observer) {{\n",
              "        var display = window.getComputedStyle(gd).display;\n",
              "        if (!display || display === 'none') {{\n",
              "            console.log([gd, 'removed!']);\n",
              "            Plotly.purge(gd);\n",
              "            observer.disconnect();\n",
              "        }}\n",
              "}});\n",
              "\n",
              "// Listen for the removal of the full notebook cells\n",
              "var notebookContainer = gd.closest('#notebook-container');\n",
              "if (notebookContainer) {{\n",
              "    x.observe(notebookContainer, {childList: true});\n",
              "}}\n",
              "\n",
              "// Listen for the clearing of the current output cell\n",
              "var outputEl = gd.closest('.output');\n",
              "if (outputEl) {{\n",
              "    x.observe(outputEl, {childList: true});\n",
              "}}\n",
              "\n",
              "                        })                };                            </script>        </div>\n",
              "</body>\n",
              "</html>"
            ]
          },
          "metadata": {}
        }
      ]
    },
    {
      "cell_type": "code",
      "source": [
        "plot_ha(bar=bar_df[1][0] )"
      ],
      "metadata": {
        "colab": {
          "base_uri": "https://localhost:8080/",
          "height": 594
        },
        "id": "lrOZdhtLjNtS",
        "outputId": "f62ac2f8-bed8-4896-df9d-ce5ddb428308"
      },
      "id": "lrOZdhtLjNtS",
      "execution_count": null,
      "outputs": [
        {
          "output_type": "display_data",
          "data": {
            "text/plain": [
              "<Figure size 800x575 with 2 Axes>"
            ],
            "image/png": "[encoded data removed]"
          },
          "metadata": {}
        }
      ]
    },
    {
      "cell_type": "code",
      "source": [
        "plot_ha(bar=df)"
      ],
      "metadata": {
        "colab": {
          "base_uri": "https://localhost:8080/",
          "height": 594
        },
        "id": "BoupDsSE1pTz",
        "outputId": "773fa41d-1a06-4155-9e35-5a4698182373"
      },
      "id": "BoupDsSE1pTz",
      "execution_count": null,
      "outputs": [
        {
          "output_type": "display_data",
          "data": {
            "text/plain": [
              "<Figure size 800x575 with 2 Axes>"
            ],
            "image/png": "[encoded data removed]"
          },
          "metadata": {}
        }
      ]
    },
    {
      "cell_type": "code",
      "source": [
        "import mplfinance as mpf\n",
        "import numpy as np\n",
        "import pandas as pd\n",
        "\n",
        "# Assuming 'bar' is a pandas DataFrame with OHLC data and the additional columns\n",
        "# 'ha_open', 'ha_high', 'ha_low', 'ha_close', 'bb_upper', 'bb_lower', 'ema5', 'ema20'\n",
        "\n",
        "# Create a list of plots for the additional lines (moving averages and Bollinger Bands)\n",
        "def plot_ha(bar, ha_ohlc= True):\n",
        "\n",
        "# Assuming 'dates', 'opens', 'highs', 'lows', 'closes' are your arrays\n",
        "# Create a DataFrame\n",
        "# bb_bands = [ [ lower_band[i], upper_band[i]] for i in range( len(lower_band) )]\n",
        "#           bollinger_bands_list[symbol] = bb_bands\n",
        "\n",
        "# Plot the DataFrame\n",
        "    df = pd.DataFrame(index=pd.to_datetime(bar[\"index\"]), data={'Open': bar[\"Open\"] , 'High': bar[\"High\"], 'Low': bar[\"Low\"], 'Close': bar[\"Close\"], \\\n",
        "                                'bb_upper':bar['bb_upper'] , 'bb_lower':bar['bb_lower'], 'ema5':bar['ema5'], 'ema20': bar['ema20']\n",
        "                                ,'atr_upper':bar['atr_upper'] , 'atr_lower':bar['atr_lower']   })\n",
        "    add_plots = [\n",
        "        # mpf.make_addplot(df['bb_upper'], panel=0, color='yellow'),\n",
        "        # mpf.make_addplot(df['bb_lower'], panel=0, color='yellow'),\n",
        "        # mpf.make_addplot(df['atr_upper'], panel=0, color='yellow'),\n",
        "        # mpf.make_addplot(df['atr_lower'], panel=0, color='yellow'),\n",
        "\n",
        "        mpf.make_addplot(df['ema5'], panel=0, color='orange'),\n",
        "        mpf.make_addplot(df['ema20'], panel=0, color='violet')\n",
        "    ]\n",
        "\n",
        "    # Create the Heikin Ashi candlestick plot\n",
        "    mpf.plot(df, type='candle', style='charles',\n",
        "            title='Heikin Ashi Candlestick with EMA and Bollinger Bands',\n",
        "            ylabel='Price',\n",
        "            addplot=add_plots)\n"
      ],
      "metadata": {
        "id": "LYLIt0Bg1c5d"
      },
      "id": "LYLIt0Bg1c5d",
      "execution_count": null,
      "outputs": []
    },
    {
      "cell_type": "code",
      "source": [
        "!pip install mplfinance\n"
      ],
      "metadata": {
        "colab": {
          "base_uri": "https://localhost:8080/"
        },
        "id": "4U3XdOSe1Y4k",
        "outputId": "76b8b56d-96e5-441d-bb7b-32d5af7e2d07"
      },
      "id": "4U3XdOSe1Y4k",
      "execution_count": null,
      "outputs": [
        {
          "output_type": "stream",
          "name": "stdout",
          "text": [
            "Collecting mplfinance\n",
            "  Downloading mplfinance-0.12.10b0-py3-none-any.whl (75 kB)\n",
            "\u001b[2K     \u001b[90m━━━━━━━━━━━━━━━━━━━━━━━━━━━━━━━━━━━━━━━━\u001b[0m \u001b[32m75.0/75.0 kB\u001b[0m \u001b[31m731.6 kB/s\u001b[0m eta \u001b[36m0:00:00\u001b[0m\n",
            "\u001b[?25hRequirement already satisfied: matplotlib in /usr/local/lib/python3.10/dist-packages (from mplfinance) (3.7.1)\n",
            "Requirement already satisfied: pandas in /usr/local/lib/python3.10/dist-packages (from mplfinance) (1.5.3)\n",
            "Requirement already satisfied: contourpy>=1.0.1 in /usr/local/lib/python3.10/dist-packages (from matplotlib->mplfinance) (1.2.0)\n",
            "Requirement already satisfied: cycler>=0.10 in /usr/local/lib/python3.10/dist-packages (from matplotlib->mplfinance) (0.12.1)\n",
            "Requirement already satisfied: fonttools>=4.22.0 in /usr/local/lib/python3.10/dist-packages (from matplotlib->mplfinance) (4.45.1)\n",
            "Requirement already satisfied: kiwisolver>=1.0.1 in /usr/local/lib/python3.10/dist-packages (from matplotlib->mplfinance) (1.4.5)\n",
            "Requirement already satisfied: numpy>=1.20 in /usr/local/lib/python3.10/dist-packages (from matplotlib->mplfinance) (1.23.5)\n",
            "Requirement already satisfied: packaging>=20.0 in /usr/local/lib/python3.10/dist-packages (from matplotlib->mplfinance) (23.2)\n",
            "Requirement already satisfied: pillow>=6.2.0 in /usr/local/lib/python3.10/dist-packages (from matplotlib->mplfinance) (9.4.0)\n",
            "Requirement already satisfied: pyparsing>=2.3.1 in /usr/local/lib/python3.10/dist-packages (from matplotlib->mplfinance) (3.1.1)\n",
            "Requirement already satisfied: python-dateutil>=2.7 in /usr/local/lib/python3.10/dist-packages (from matplotlib->mplfinance) (2.8.2)\n",
            "Requirement already satisfied: pytz>=2020.1 in /usr/local/lib/python3.10/dist-packages (from pandas->mplfinance) (2023.3.post1)\n",
            "Requirement already satisfied: six>=1.5 in /usr/local/lib/python3.10/dist-packages (from python-dateutil>=2.7->matplotlib->mplfinance) (1.16.0)\n",
            "Installing collected packages: mplfinance\n",
            "Successfully installed mplfinance-0.12.10b0\n"
          ]
        }
      ]
    },
    {
      "cell_type": "code",
      "source": [
        "import plotly.graph_objects as go\n",
        "import plotly.express as px\n",
        "from plotly.subplots import make_subplots\n",
        "\n",
        "def heikin_ashi_candles_plot(bar):\n",
        "    fig = make_subplots(rows=2, cols=1)\n",
        "    fig= go.Figure(data= [go.Candlestick(x=bar[\"index\"] , open=bar[\"Open\"]\n",
        "        ,high=bar[\"High\"] , low=bar[\"Low\"]  ,close=bar[\"Close\"] )])\n",
        "\n",
        "\n",
        "    fig.add_scatter( name=\"upper_band\" ,x=bar[\"index\"]  , y=bar['bb_upper'], mode='lines' , line=dict(color='yellow', width=1.5))\n",
        "\n",
        "    fig.add_scatter( name=\"lower_band\" ,x=bar[\"index\"]  , y=bar['bb_lower'], mode='lines' , line=dict(color='yellow', width=1.5))\n",
        "\n",
        "# fig.add_scatter( name=\"upper_band\" ,x=bar[\"index\"]  , y=bar['atr_upper'], mode='lines' , line=dict(color='yellow', width=1.5))\n",
        "\n",
        "#     fig.add_scatter( name=\"lower_band\" ,x=bar[\"index\"]  , y=bar['atr_lower'], mode='lines' , line=dict(color='yellow', width=1.5))\n",
        "\n",
        "\n",
        "    fig.add_scatter( name=\"EMA-5-period\" ,x=bar[\"index\"]  , y=bar['ema5'],   mode='lines' , line=dict(color='orange', width=2.5))\n",
        "    fig.add_scatter( name=\"EMA-20-period\" ,x=bar[\"index\"]  , y=bar['ema20'], mode='lines' , line=dict(color='violet', width=2.5))\n",
        "\n",
        "\n",
        "    # fig.add_scatter( name=\"Average_True_Range\" , x=bars.index.values  , y=bars['Average_True_Range'], mode='lines' , line=dict(color='yellow', width=1.5) )\n",
        "    fig.update_layout(yaxis_tickformat = \".5f\")\n",
        "    # yaxis=\"tickformat': 5.f\" )\n",
        "                      # {'tickformat': '5.f'})\n",
        "\n",
        "\n",
        "    fig.update_layout(plot_bgcolor='rgb(8, 14, 44)')\n",
        "    fig.update_xaxes(showline=True, linewidth=2, linecolor='white' , gridcolor='rgb(8, 14, 44)')\n",
        "    fig.update_yaxes(showline=True, linewidth=2, linecolor='white' , gridcolor='grey')\n",
        "    # fig.update_layout(title=f'{title}')\n",
        "    fig.show()"
      ],
      "metadata": {
        "id": "GrePF37fD4ex"
      },
      "id": "GrePF37fD4ex",
      "execution_count": null,
      "outputs": []
    },
    {
      "cell_type": "code",
      "source": [
        "import plotly.graph_objects as go\n",
        "import plotly.express as px\n",
        "from plotly.subplots import make_subplots\n",
        "\"\"\"\n",
        "## Example\n",
        "bar = yfinance or inclusive bar[\"High\"]  bar[\"Low\"] bar[\"Close\"]\n",
        "plot_candles_atr(bar , index=None   )\n",
        "\n",
        "\"\"\"\n",
        "\n",
        "\n",
        "\n",
        "def plot_candles_atr(bar , index=None):\n",
        "  fig = make_subplots(rows=2, cols=1)\n",
        "  fig= go.Figure(data= [go.Candlestick(x=bar.index.values if not index else bar.index.values[index:], open=bar[\"Open\"] if not index else bar[\"Open\"][index:]\n",
        "      ,high=bar[\"High\"] if not index else bar[\"High\"][index:] , low=bar[\"Low\"] if not index else bar[\"Low\"][index:]  ,close=bar[\"Close\"] if not index else bar[\"Close\"][index:])])\n",
        "\n",
        "\n",
        "  fig.add_scatter( name=\"upper_band\" ,x=bar.index.values  , y=bar['upper_band'], mode='lines' , line=dict(color='yellow', width=1.5))\n",
        "\n",
        "  fig.add_scatter( name=\"lower_band\" ,x=bar.index.values  , y=bar['lower_band'], mode='lines' , line=dict(color='yellow', width=1.5))\n",
        "\n",
        "\n",
        "  # fig.add_scatter( name=\"Average_True_Range\" , x=bars.index.values  , y=bars['Average_True_Range'], mode='lines' , line=dict(color='yellow', width=1.5) )\n",
        "  fig.update_layout(yaxis_tickformat = \".5f\")\n",
        "  # yaxis=\"tickformat': 5.f\" )\n",
        "                    # {'tickformat': '5.f'})\n",
        "\n",
        "\n",
        "  fig.update_layout(plot_bgcolor='rgb(8, 14, 44)')\n",
        "  fig.update_xaxes(showline=True, linewidth=2, linecolor='white' , gridcolor='rgb(8, 14, 44)')\n",
        "  fig.update_yaxes(showline=True, linewidth=2, linecolor='white' , gridcolor='grey')\n",
        "  # fig.update_layout(title=f'{title}')\n",
        "  fig.show()"
      ],
      "metadata": {
        "id": "me6o2kekZfJF"
      },
      "id": "me6o2kekZfJF",
      "execution_count": null,
      "outputs": []
    },
    {
      "cell_type": "markdown",
      "source": [
        "# Testing"
      ],
      "metadata": {
        "id": "LvyYc2FXfdVK"
      },
      "id": "LvyYc2FXfdVK"
    },
    {
      "cell_type": "code",
      "source": [
        "class MyClass:\n",
        "  # Declare a class attribute\n",
        "  global_var = 100\n",
        "\n",
        "  def func1(cls):\n",
        "    # Access and modify the class attribute\n",
        "    print(f\"Global variable in func1: {MyClass.global_var}\")\n",
        "    MyClass.global_var += 1\n",
        "\n",
        "  def func2(cls):\n",
        "    # Access the class attribute\n",
        "    print(f\"Global variable in func2: {MyClass.global_var}\")\n",
        "    MyClass.global_var += 2\n",
        "\n",
        "obj = MyClass()\n",
        "obj.func1()   # Prints \"Global variable in func1: 10\"\n",
        "obj.func2()   # Prints \"Global variable in func2: 11\"\n",
        "print(MyClass.global_var)  # Prints \"Global variable outside class: 13\"\n"
      ],
      "metadata": {
        "colab": {
          "base_uri": "https://localhost:8080/"
        },
        "id": "NxPDuj_GPNpq",
        "outputId": "776b7756-af0b-43f9-94ee-a0d1a2cd8fd6"
      },
      "execution_count": null,
      "outputs": [
        {
          "output_type": "stream",
          "name": "stdout",
          "text": [
            "Global variable in func1: 100\n",
            "Global variable in func2: 101\n",
            "103\n"
          ]
        }
      ],
      "id": "NxPDuj_GPNpq"
    },
    {
      "cell_type": "code",
      "source": [
        "import numpy as np\n",
        "\n",
        "# Create a sample structured array\n",
        "data = np.array([(1, 'John', 22),\n",
        "                 (2, 'Alice', 30),\n",
        "                 (3, 'Bob', 18),\n",
        "                 (4, 'Charlie', 28),\n",
        "                 (5, 'David', 25)],\n",
        "                dtype=[('id', int), ('name', 'U10'), ('age', int)])\n",
        "\n",
        "# Create a boolean mask based on the condition (age less than 25)\n",
        "\n",
        "observe = data[-3:]\n",
        "\n",
        "mask    = observe['age'] < 25\n",
        "\n",
        "# Apply the mask to filter the array\n",
        "\n",
        "filtered_data = observe[mask]\n",
        "\n",
        "# Get the last three rows with the most recent indices\n",
        "# last_three_rows = filtered_data[-3:]\n",
        "\n",
        "# print(last_three_rows)\n",
        "print(len(filtered_data))\n",
        "# mask"
      ],
      "metadata": {
        "colab": {
          "base_uri": "https://localhost:8080/"
        },
        "id": "NgmwvdgtfhGs",
        "outputId": "26d19231-c73d-4112-bf65-1f44a98872fc"
      },
      "id": "NgmwvdgtfhGs",
      "execution_count": null,
      "outputs": [
        {
          "output_type": "stream",
          "name": "stdout",
          "text": [
            "1\n"
          ]
        }
      ]
    },
    {
      "cell_type": "code",
      "source": [],
      "metadata": {
        "id": "a3ToUDlzgZ86"
      },
      "id": "a3ToUDlzgZ86",
      "execution_count": null,
      "outputs": []
    },
    {
      "cell_type": "markdown",
      "source": [
        "# Archive"
      ],
      "metadata": {
        "id": "4RZwQCt2YAbt"
      },
      "id": "4RZwQCt2YAbt"
    },
    {
      "cell_type": "code",
      "source": [
        "\"\"\"\n",
        "bar_df = indicators_lookback_mode.transform_data_list( refine_list = refined_list, multiplier= 1.7 , atr_period = 5,  adx_period = 8 ,   lookback = 1  )\n",
        "print(bar_df)\n",
        "\n",
        "\"\"\"\n",
        "\n",
        "class  indicators_lookback_mode( access_indicators ):\n",
        "\n",
        "  @classmethod\n",
        "  def transform_data_list(cls, refine_list ,  multiplier= 1.7 , atr_period = 5,  adx_period = 8,   lookback = 10  ):\n",
        "\n",
        "    symbols  = 0\n",
        "    values   = 1\n",
        "\n",
        "    indicator = cls() # universal class of project => adx_indicator\n",
        "\n",
        "    # crossover_direction_list  =  adx_atr_bands_indicator.crossover_direction_lookback(bar_list = refine_list, lookback = lookback )\n",
        "\n",
        "\n",
        "    crossover_direction_list  =  indicator.crossover_direction_lookback_forex(bar_list = refine_list, lookback = lookback )\n",
        "\n",
        "    emaz_list  =  indicator.ema_lookback( bar_list = refine_list, lookback = lookback )\n",
        "\n",
        "    atr_bands_list = indicator.atr_bands_lookback( refine_list , multiplier,  period = atr_period ,  lookback = lookback  )\n",
        "\n",
        "    adx_value_list = indicator.adx_lookback( bar_list = refine_list,   period = adx_period , lookback = lookback)\n",
        "\n",
        "    ha_status_list = indicator.get_heikin_ashi ( bar_list, lookback = lookback)\n",
        "    fractal_status_list = indicator.get_fractal( bar_list, lookback = lookback)\n",
        "\n",
        "\n",
        "    # lookback = 10\n",
        "\n",
        "    dt   = np.dtype([ ('index', 'datetime64[h]'),  ('symbol', 'U20'), ('Close', float ), ('Fractal-Status', 'U10'), ('Heikin-Ashi-Status', 'U10'),  ('Direction', float), ('Average-Directional-Index', float), ('Crossover', float),   \\\n",
        "                     ('Stop_Loss', float), ('Take_Profit', float) ,  ('ema20', float), ('ema5', float)  ])\n",
        "\n",
        "    column_names = dt.names\n",
        "    data = [[0]]  * len(refine_list[symbols])\n",
        "\n",
        "\n",
        "    for sym , ohlc in enumerate(refine_list[values]):\n",
        "\n",
        "            index  = ohlc['index'][-lookback:]\n",
        "            symbol = ohlc['symbol'][-lookback:]\n",
        "            close  = ohlc['Close'][-lookback:]\n",
        "\n",
        "            heikin_ashi_status = [  element    for  element in ha_status_list[sym]  ]\n",
        "\n",
        "            fractal_status  = [ element  for  element in fractal_status_list[sym]  ]\n",
        "\n",
        "            adx_value  = [  element    for  element in adx_value_list[sym]  ]\n",
        "            lower_band = [  element[0] for  element in atr_bands_list[sym]  ]\n",
        "            upper_band = [  element[1] for  element in atr_bands_list[sym]  ]\n",
        "\n",
        "\n",
        "            # crossover =   crossover_direction_list[index][dynamic--for next values of crossover of date time index][0-->static for crossover]\n",
        "\n",
        "            crossover = [ element[0] for  element in crossover_direction_list[sym] ]\n",
        "            direction = [ element[1] for  element in crossover_direction_list[sym] ]\n",
        "\n",
        "            ema20 = [ element[0] for  element in  emaz_list[sym] ]\n",
        "\n",
        "            ema5  = [ element[1] for  element in  emaz_list[sym] ]\n",
        "\n",
        "            # return [ adx_value, [lower_band, upper_band ], [crossover,direction ] ]\n",
        "\n",
        "            ohlc_df = np.empty(len(close), dtype=dt)\n",
        "\n",
        "            for i in range(0 , len(ohlc_df)):\n",
        "\n",
        "                stop_loss   =  take_profit =  0\n",
        "                if crossover[i] == 1  or  direction[i] == 1 :\n",
        "                      stop_loss   = lower_band[i]\n",
        "                      take_profit = upper_band[i]\n",
        "\n",
        "                elif crossover[i] == -1  or  direction[i] == -1 :\n",
        "                      stop_loss   = upper_band[i]\n",
        "                      take_profit = lower_band[i]\n",
        "\n",
        "                ohlc_df[i] = ( index[i], symbol[i], close[i], fractal_status[i] , heikin_ashi_status[i], direction[i], adx_value[i], \\\n",
        "                               crossover[i], stop_loss, take_profit ,  ema20[i], ema5[i]   )\n",
        "\n",
        "\n",
        "            data[sym] = ohlc_df\n",
        "\n",
        "    return [column_names, data]\n"
      ],
      "metadata": {
        "id": "yWYyt7tDR3DE"
      },
      "id": "yWYyt7tDR3DE",
      "execution_count": null,
      "outputs": []
    },
    {
      "cell_type": "code",
      "source": [
        "class heikin_ashi (adx_indicator):\n",
        "\n",
        "  def __init__(self, refine_list = None):\n",
        "\n",
        "      self.refine_list = refine_list\n",
        "\n",
        "  def run_heikin_ashi(self, refine_list ):\n",
        "\n",
        "      ha_status_list = self.get_heikin_ashi(self, bar_list )\n",
        "\n",
        "      return  ha_status_list\n",
        "\n",
        "  def heikin_ashi_status(self, ha_open , ha_close ):\n",
        "\n",
        "      candles =  np.full_like( ha_close, '', dtype='U10')\n",
        "\n",
        "      for i in range(1 , len(ha_close) ):\n",
        "\n",
        "            # green_condition =  ha_close[i] > ha_open[i]\n",
        "            # red_condition   =  ha_close[i] < ha_open[i]\n",
        "            if ha_close[i] > ha_open[i] :\n",
        "              candles[i]  = 'Green'\n",
        "\n",
        "            elif ha_close[i] < ha_open[i] :\n",
        "              candles[i]  = 'Red'\n",
        "\n",
        "            else:\n",
        "              candles[i] = 'Neutral'\n",
        "\n",
        "      return  candles\n",
        "\n",
        "\n",
        "  def heikin_ashi_candles (self, open, high, low, close ):\n",
        "\n",
        "      ha_close =  np.empty(len(close), dtype=np.float32 )\n",
        "\n",
        "      ha_high = np.empty(len(close), dtype=np.float32 )\n",
        "      ha_low  = np.empty(len(close), dtype=np.float32 )\n",
        "      ha_open = np.empty(len(close), dtype=np.float32 )\n",
        "\n",
        "      # candles =  np.empty(len(close) , dtype='U10')\n",
        "      # candles = [[]] *  len(close) , dtype=np.int16\n",
        "\n",
        "      ha_open[0]  = (open[0] + close[0] ) /2\n",
        "      ha_close[0] = (close[0] + open[0] + high[0] + low[0]) /4\n",
        "\n",
        "      for i in range(1 , len(close) ):\n",
        "            ha_open[i]  = (ha_open[i-1] + ha_close[i-1] ) / 2\n",
        "            ha_close[i] = (open[i] +  high[i] + low[i] + close[i]) / 4\n",
        "            ha_high[i]  = max( high[i], ha_open[i], ha_close[i]  )\n",
        "            ha_low[i]   = min( low[i], ha_open[i], ha_close[i]  )\n",
        "\n",
        "      return   ha_open, ha_close, ha_high, ha_low\n",
        "\n",
        "\n",
        "  def get_heikin_ashi (self, bar_list, lookback = None, ohlc_data=None ):\n",
        "\n",
        "      symbols  = 0\n",
        "      values   = 1\n",
        "      ha_status_list = [[]] * len(bar_list[symbols])\n",
        "      ha_ohlc_list   = [[]] * len(bar_list[values])\n",
        "      # np.empty(len(bar_list[symbols]), dtype='U10')\n",
        "\n",
        "      for  symbol , ohlc in enumerate(bar_list[values]):\n",
        "\n",
        "          open, high,  low, close  = ohlc['Open'],  ohlc['High'],  ohlc['Low'], ohlc['Close']\n",
        "\n",
        "          ha_open, ha_close, ha_high, ha_low   =  self.heikin_ashi_candles( open, high, low, close )\n",
        "          candles  =  self.heikin_ashi_status(ha_open , ha_close)\n",
        "\n",
        "          if lookback :\n",
        "            candles  =  candles[-lookback:]\n",
        "            ha_open, ha_close, ha_high, ha_low = ha_open[-lookback:], ha_close[-lookback:], ha_high[-lookback:], ha_low[-lookback:]\n",
        "            # ha_open_close  = [ ha_open[-lookback:] , ha_close[-lookback:] ]\n",
        "\n",
        "\n",
        "          ha_ohlc_list[symbol]   =  [ha_open, ha_close, ha_high, ha_low]\n",
        "          ha_status_list[symbol] = candles\n",
        "\n",
        "      if  ohlc_data == 'True' :\n",
        "\n",
        "          return ha_ohlc_list\n",
        "\n",
        "      return ha_status_list"
      ],
      "metadata": {
        "id": "_2n3vvloWldl"
      },
      "id": "_2n3vvloWldl",
      "execution_count": null,
      "outputs": []
    },
    {
      "cell_type": "code",
      "execution_count": null,
      "id": "a475fe1e",
      "metadata": {
        "id": "a475fe1e"
      },
      "outputs": [],
      "source": [
        "basis = sma(source, length)\n",
        "dev = mult * stdev(source, length)\n",
        "upperBB = basis + dev\n",
        "lowerBB = basis - dev"
      ]
    },
    {
      "cell_type": "code",
      "source": [
        "class bollinger_bands:\n",
        "\n",
        "  def __init__(self, refine_list = None):\n",
        "\n",
        "      self.refine_list = refine_list\n",
        "\n",
        "  def sma (self, array, period ):\n",
        "\n",
        "       sma = np.empty_like(array)\n",
        "       sma = np.full( sma.shape , np.nan)\n",
        "       sma[0] = np.mean(array[0] , dtype=np.float16)\n",
        "       alpha = 1 / period\n",
        "        # Calculate the EMA for each window of 14 values\n",
        "       for i in range(1 , len(array) ):\n",
        "              sma[i] = np.array( (array[i] * alpha +  sma[i-1]  * (1-alpha) ) , dtype=np.float16 )\n",
        "       return sma\n",
        "\n",
        "  def std (self, array, sma_array, period ):\n",
        "\n",
        "       std = np.empty_like(array)\n",
        "       std = np.full( sma.shape , np.nan)\n",
        "       std[0] = array[0] - sma_array[0]\n",
        "       alpha = 1 / period\n",
        "        # Calculate the EMA for each window of 14 values\n",
        "       for i in range(1 , len(array) ):\n",
        "              std[i] = np.array( (array[i] * alpha +  std[i-1]  * (1-alpha) ) , dtype=np.float16 )\n",
        "       return std\n",
        "\n",
        "  def run_bollinger_bands(self, refine_list ):\n",
        "\n",
        "      bollinger_bands_list = self.get_bollinger_bands(self, bar_list )\n",
        "      return  bollinger_bands_list\n",
        "\n",
        "  def bollinger_bands(self , high, low, close  ):\n",
        "\n",
        "      # bollinger_bands\n",
        "      period = 20\n",
        "      k  =  2.0\n",
        "      upper_band =  np.empty(len(close), dtype=np.float32 )\n",
        "\n",
        "      lower_band    = np.empty(len(close), dtype=np.float32 )\n",
        "      typical_price =  (high + low + close) / 3\n",
        "      typical_price_ma  = self.sma(typical_price, period )\n",
        "      diff = (typical_price - typical_price_ma)\n",
        "      sd = np.sqrt( diff** 2 /period )\n",
        "      typical_price_std = np.empty(len(close), dtype=np.float32 )\n",
        "\n",
        "      upper_band = typical_price_ma + (k * sd )\n",
        "      lower_band = typical_price_ma - (k * sd )\n",
        "\n",
        "      return lower_band , upper_band\n",
        "\n",
        "\n",
        "  def get_bollinger_bands (self, bar_list, lookback = None ):\n",
        "\n",
        "      symbols  = 0\n",
        "      values   = 1\n",
        "      bollinger_bands_list   = [[]] * len(bar_list[values])\n",
        "      # np.empty(len(bar_list[symbols]), dtype='U10')\n",
        "\n",
        "      for  symbol , ohlc in enumerate(bar_list[values]):\n",
        "\n",
        "          high,  low,   close      =   ohlc['High'],  ohlc['Low'],  ohlc['Close']\n",
        "          lower_band , upper_band  =  self.bollinger_bands( high, low, close )\n",
        "\n",
        "          if lookback :\n",
        "            lower_band , upper_band    =  lower_band[-lookback:],  upper_band[-lookback:]\n",
        "\n",
        "          bollinger_bands_list[symbol] =  [lower_band , upper_band]\n",
        "\n",
        "      return bollinger_bands_list\n",
        "\n",
        "\n"
      ],
      "metadata": {
        "id": "7tD23-NHaYNA"
      },
      "id": "7tD23-NHaYNA",
      "execution_count": null,
      "outputs": []
    },
    {
      "cell_type": "code",
      "execution_count": null,
      "id": "f6033806",
      "metadata": {
        "id": "f6033806"
      },
      "outputs": [],
      "source": [
        "import yfinance as yf\n",
        "\n",
        "def get_data(symbols , interval = None , period = None):\n",
        "    # symbols = ['BTC-USD' , 'ETH-USD' ]\n",
        "    if interval == None and period == None :\n",
        "      interval = '5m'\n",
        "      period = '1d'\n",
        "\n",
        "    data = [[0]]  * len(symbols)\n",
        "\n",
        "    for i , symbol in  enumerate(symbols):\n",
        "      bar = yf.download(tickers=f'{symbol}' , interval=f'{interval}' , period=f'{period}' )\n",
        "      data[i] =  bar\n",
        "\n",
        "    bar_list  = [ symbols , data ]\n",
        "\n",
        "    symbols = 0  # index 0 for symbols\n",
        "    values  = 1  # index 1 for ohlc\n",
        "\n",
        "    return  bar_list"
      ]
    },
    {
      "cell_type": "code",
      "source": [
        "symbols = ['BTC-USD' , 'ETH-USD' ]\n",
        "bar_list = get_data(symbols , interval = '1H' , period = '7d' )\n"
      ],
      "metadata": {
        "colab": {
          "base_uri": "https://localhost:8080/"
        },
        "id": "wkHQdzwf06lz",
        "outputId": "2cc466a7-5607-4bf5-cd5c-cf6d8da25cda"
      },
      "id": "wkHQdzwf06lz",
      "execution_count": null,
      "outputs": [
        {
          "output_type": "stream",
          "name": "stdout",
          "text": [
            "[*********************100%%**********************]  1 of 1 completed\n",
            "[*********************100%%**********************]  1 of 1 completed\n"
          ]
        }
      ]
    },
    {
      "cell_type": "code",
      "source": [
        "bar_list[1]"
      ],
      "metadata": {
        "colab": {
          "base_uri": "https://localhost:8080/"
        },
        "id": "KJUZWnLy1IQt",
        "outputId": "d1344b05-da90-4d4f-8369-331b76434972",
        "collapsed": true
      },
      "id": "KJUZWnLy1IQt",
      "execution_count": null,
      "outputs": [
        {
          "output_type": "execute_result",
          "data": {
            "text/plain": [
              "[                             Open          High           Low         Close  \\\n",
              " Datetime                                                                      \n",
              " 2023-11-27 00:00:00  37454.191406  37545.757812  37397.285156  37495.140625   \n",
              " 2023-11-27 01:00:00  37495.527344  37559.355469  37480.632812  37503.066406   \n",
              " 2023-11-27 02:00:00  37504.199219  37504.199219  37247.308594  37305.535156   \n",
              " 2023-11-27 03:00:00  37311.531250  37333.164062  37231.894531  37302.117188   \n",
              " 2023-11-27 04:00:00  37309.085938  37386.128906  37273.750000  37386.128906   \n",
              " ...                           ...           ...           ...           ...   \n",
              " 2023-12-01 15:00:00  38335.136719  38442.648438  38296.527344  38421.765625   \n",
              " 2023-12-01 16:00:00  38420.769531  38954.109375  38417.679688  38841.156250   \n",
              " 2023-12-01 17:00:00  38841.621094  38875.332031  38725.527344  38800.347656   \n",
              " 2023-12-01 18:00:00  38802.671875  38861.691406  38738.742188  38738.742188   \n",
              " 2023-12-01 19:00:00  38722.710938  38732.968750  38673.402344  38673.402344   \n",
              " \n",
              "                         Adj Close      Volume  \n",
              " Datetime                                       \n",
              " 2023-11-27 00:00:00  37495.140625           0  \n",
              " 2023-11-27 01:00:00  37503.066406   119796736  \n",
              " 2023-11-27 02:00:00  37305.535156   331121664  \n",
              " 2023-11-27 03:00:00  37302.117188   363495424  \n",
              " 2023-11-27 04:00:00  37386.128906   182077440  \n",
              " ...                           ...         ...  \n",
              " 2023-12-01 15:00:00  38421.765625           0  \n",
              " 2023-12-01 16:00:00  38841.156250  1372753920  \n",
              " 2023-12-01 17:00:00  38800.347656   633309184  \n",
              " 2023-12-01 18:00:00  38738.742188   371204096  \n",
              " 2023-12-01 19:00:00  38673.402344   114315264  \n",
              " \n",
              " [116 rows x 6 columns],\n",
              "                             Open         High          Low        Close  \\\n",
              " Datetime                                                                  \n",
              " 2023-11-27 00:00:00  2062.390869  2070.606201  2059.913086  2067.390869   \n",
              " 2023-11-27 01:00:00  2067.545166  2070.284668  2061.923584  2063.984375   \n",
              " 2023-11-27 02:00:00  2063.894531  2063.894531  2048.131348  2050.327148   \n",
              " 2023-11-27 03:00:00  2050.816406  2052.351807  2041.812500  2048.306152   \n",
              " 2023-11-27 04:00:00  2048.530518  2052.004883  2043.471436  2052.004883   \n",
              " ...                          ...          ...          ...          ...   \n",
              " 2023-12-01 15:00:00  2078.900146  2082.298584  2071.584473  2080.187256   \n",
              " 2023-12-01 16:00:00  2080.389648  2107.576904  2080.269043  2107.576904   \n",
              " 2023-12-01 17:00:00  2107.685791  2107.821777  2089.454590  2094.899902   \n",
              " 2023-12-01 18:00:00  2094.615234  2096.806641  2088.601074  2092.167236   \n",
              " 2023-12-01 19:00:00  2091.490967  2091.656738  2088.113770  2088.113770   \n",
              " \n",
              "                        Adj Close     Volume  \n",
              " Datetime                                     \n",
              " 2023-11-27 00:00:00  2067.390869          0  \n",
              " 2023-11-27 01:00:00  2063.984375   14588928  \n",
              " 2023-11-27 02:00:00  2050.327148  114902528  \n",
              " 2023-11-27 03:00:00  2048.306152  253962240  \n",
              " 2023-11-27 04:00:00  2052.004883   57413120  \n",
              " ...                          ...        ...  \n",
              " 2023-12-01 15:00:00  2080.187256          0  \n",
              " 2023-12-01 16:00:00  2107.576904  575700992  \n",
              " 2023-12-01 17:00:00  2094.899902  311813120  \n",
              " 2023-12-01 18:00:00  2092.167236  161439744  \n",
              " 2023-12-01 19:00:00  2088.113770   37167104  \n",
              " \n",
              " [116 rows x 6 columns]]"
            ]
          },
          "metadata": {},
          "execution_count": 49
        }
      ]
    },
    {
      "cell_type": "code",
      "execution_count": null,
      "id": "ba3438c3",
      "metadata": {
        "id": "ba3438c3",
        "colab": {
          "base_uri": "https://localhost:8080/"
        },
        "outputId": "5f0e578a-9264-49ed-80fa-a2a7e6f42ab5"
      },
      "outputs": [
        {
          "output_type": "stream",
          "name": "stdout",
          "text": [
            "\r[*********************100%%**********************]  1 of 1 completed\n"
          ]
        }
      ],
      "source": [
        "symbols = ['BTC-USD=X' , 'ETH-USD=X' ]\n",
        "# symbols = ['EURUSD=X']\n",
        "# symbols = ['^GSPC']\n",
        "symbols = ['^DJI']\n",
        "\n",
        "bar_list = get_data(symbols , interval = '1H' , period = '5d' )\n",
        "\n"
      ]
    },
    {
      "cell_type": "code",
      "source": [
        "bar_list[1]"
      ],
      "metadata": {
        "colab": {
          "base_uri": "https://localhost:8080/"
        },
        "id": "Jjh8XV0Yyd72",
        "outputId": "1eaf70e4-7369-4c37-cc85-8a082e9279a2",
        "collapsed": true
      },
      "id": "Jjh8XV0Yyd72",
      "execution_count": null,
      "outputs": [
        {
          "output_type": "execute_result",
          "data": {
            "text/plain": [
              "[                             Open          High           Low         Close  \\\n",
              " Datetime                                                                      \n",
              " 2023-11-27 09:30:00  35376.441406  35410.371094  35315.628906  35340.179688   \n",
              " 2023-11-27 10:30:00  35340.089844  35357.578125  35306.000000  35340.519531   \n",
              " 2023-11-27 11:30:00  35340.511719  35343.980469  35280.570312  35295.800781   \n",
              " 2023-11-27 12:30:00  35296.199219  35331.941406  35289.429688  35327.070312   \n",
              " 2023-11-27 13:30:00  35327.199219  35353.730469  35320.781250  35345.160156   \n",
              " 2023-11-27 14:30:00  35344.910156  35346.371094  35293.738281  35340.519531   \n",
              " 2023-11-27 15:30:00  35341.710938  35374.230469  35322.210938  35333.699219   \n",
              " 2023-11-28 09:30:00  35332.128906  35369.960938  35307.730469  35358.351562   \n",
              " 2023-11-28 10:30:00  35358.269531  35481.289062  35356.250000  35463.238281   \n",
              " 2023-11-28 11:30:00  35463.761719  35518.671875  35455.949219  35461.488281   \n",
              " 2023-11-28 12:30:00  35461.531250  35461.531250  35340.671875  35405.640625   \n",
              " 2023-11-28 13:30:00  35405.550781  35418.519531  35379.980469  35393.429688   \n",
              " 2023-11-28 14:30:00  35393.648438  35444.820312  35377.609375  35416.718750   \n",
              " 2023-11-28 15:30:00  35416.191406  35447.160156  35392.058594  35411.550781   \n",
              " 2023-11-29 09:30:00  35436.800781  35517.820312  35433.089844  35452.089844   \n",
              " 2023-11-29 10:30:00  35451.910156  35504.199219  35413.359375  35428.308594   \n",
              " 2023-11-29 11:30:00  35427.730469  35522.058594  35419.199219  35521.781250   \n",
              " 2023-11-29 12:30:00  35521.941406  35562.781250  35514.578125  35557.671875   \n",
              " 2023-11-29 13:30:00  35557.640625  35579.128906  35526.011719  35543.660156   \n",
              " 2023-11-29 14:30:00  35543.871094  35543.871094  35420.988281  35429.871094   \n",
              " 2023-11-29 15:30:00  35429.851562  35435.589844  35405.890625  35433.531250   \n",
              " 2023-11-30 09:30:00  35596.570312  35725.109375  35592.218750  35695.101562   \n",
              " 2023-11-30 10:30:00  35694.371094  35776.390625  35686.718750  35753.398438   \n",
              " 2023-11-30 11:30:00  35752.441406  35757.589844  35645.898438  35662.449219   \n",
              " 2023-11-30 12:30:00  35662.621094  35719.128906  35658.179688  35682.679688   \n",
              " 2023-11-30 13:30:00  35682.878906  35778.910156  35662.468750  35772.078125   \n",
              " 2023-11-30 14:30:00  35772.250000  35827.781250  35752.640625  35772.421875   \n",
              " 2023-11-30 15:30:00  35772.339844  35970.699219  35765.281250  35946.109375   \n",
              " 2023-12-01 09:30:00  35914.449219  36070.179688  35914.449219  35993.171875   \n",
              " 2023-12-01 10:30:00  35993.578125  36071.269531  35937.109375  36064.730469   \n",
              " 2023-12-01 11:30:00  36063.710938  36198.371094  36032.550781  36196.109375   \n",
              " 2023-12-01 12:30:00  36196.250000  36264.851562  36183.800781  36195.199219   \n",
              " 2023-12-01 13:30:00  36195.050781  36214.859375  36174.101562  36211.601562   \n",
              " \n",
              "                         Adj Close    Volume  \n",
              " Datetime                                     \n",
              " 2023-11-27 09:30:00  35340.179688         0  \n",
              " 2023-11-27 10:30:00  35340.519531  24703988  \n",
              " 2023-11-27 11:30:00  35295.800781  24045284  \n",
              " 2023-11-27 12:30:00  35327.070312  19900576  \n",
              " 2023-11-27 13:30:00  35345.160156  19572065  \n",
              " 2023-11-27 14:30:00  35340.519531  21643757  \n",
              " 2023-11-27 15:30:00  35333.699219  35995330  \n",
              " 2023-11-28 09:30:00  35358.351562         0  \n",
              " 2023-11-28 10:30:00  35463.238281  31847482  \n",
              " 2023-11-28 11:30:00  35461.488281  22195986  \n",
              " 2023-11-28 12:30:00  35405.640625  19563332  \n",
              " 2023-11-28 13:30:00  35393.429688  21307415  \n",
              " 2023-11-28 14:30:00  35416.718750  25433165  \n",
              " 2023-11-28 15:30:00  35411.550781  38660014  \n",
              " 2023-11-29 09:30:00  35452.089844         0  \n",
              " 2023-11-29 10:30:00  35428.308594  34185855  \n",
              " 2023-11-29 11:30:00  35521.781250  25854296  \n",
              " 2023-11-29 12:30:00  35557.671875  21338773  \n",
              " 2023-11-29 13:30:00  35543.660156  24293387  \n",
              " 2023-11-29 14:30:00  35429.871094  32187957  \n",
              " 2023-11-29 15:30:00  35433.531250  40603530  \n",
              " 2023-11-30 09:30:00  35695.101562         0  \n",
              " 2023-11-30 10:30:00  35753.398438  37067415  \n",
              " 2023-11-30 11:30:00  35662.449219  25599768  \n",
              " 2023-11-30 12:30:00  35682.679688  19073757  \n",
              " 2023-11-30 13:30:00  35772.078125  24748632  \n",
              " 2023-11-30 14:30:00  35772.421875  29314328  \n",
              " 2023-11-30 15:30:00  35946.109375  58157167  \n",
              " 2023-12-01 09:30:00  35993.171875  53495325  \n",
              " 2023-12-01 10:30:00  36064.730469  42085955  \n",
              " 2023-12-01 11:30:00  36196.109375  35450599  \n",
              " 2023-12-01 12:30:00  36195.199219  28407958  \n",
              " 2023-12-01 13:30:00  36211.601562  21269451  ]"
            ]
          },
          "metadata": {},
          "execution_count": 46
        }
      ]
    },
    {
      "cell_type": "code",
      "execution_count": null,
      "id": "8a5728d4",
      "metadata": {
        "id": "8a5728d4"
      },
      "outputs": [],
      "source": [
        "import pandas as pd\n",
        "import numpy as np\n",
        "\"\"\"\n",
        "## Example\n",
        "bar = yfinance or inclusive bar[\"High\"]  bar[\"Low\"] bar[\"Close\"]\n",
        "avg_true_range    =   atr ( bar , period=14  )\n",
        "\"\"\"\n",
        "def sma (array, period ):\n",
        "\n",
        "    sma = np.empty_like(array)\n",
        "    sma = np.full( sma.shape , np.nan)\n",
        "    # Calculate the EMA for each window of 14 values\n",
        "    for i in range(period, len(array)+1 ):\n",
        "          sma[i-1] = np.mean(array[i-period:i] , dtype=np.float16)\n",
        "    return sma\n",
        "\n",
        "\n",
        "def atr ( bars , period  ):\n",
        "\n",
        "  high_low, high_close, low_close  = np.array(bars[\"High\"]-bars[\"Low\"],dtype=np.float16 ) ,\n",
        "  np.array(abs(bars[\"High\"]-bars[\"Close\"].shift()),dtype=np.float16 ) ,\n",
        "    np.array(abs(bars[\"Low\"]-bars[\"Close\"].shift() ),dtype=np.float16 )\n",
        "\n",
        "  true_range = np.amax (np.hstack( (high_low, high_close, low_close) ).reshape(-1,3),axis=1 )\n",
        "  avg_true_range = sma(true_range , period )  # takes average for 14 period\n",
        "  return avg_true_range\n",
        "\n",
        "# returning \"true_range\" is optional not needed.\n",
        "\n",
        "\n",
        "def  atr_bands( bar , multiplier  , period ):\n",
        "\n",
        "  close = np.array( bars[\"Close\"] ,dtype=np.float16  )\n",
        "  # multiplier = 2.0\n",
        "  high_low, high_close, low_close  = np.array(bars[\"High\"]-bars[\"Low\"],dtype=np.float16 ) ,\n",
        "  np.array(abs(bars[\"High\"]-bars[\"Close\"].shift()),dtype=np.float16 ) ,\n",
        "    np.array(abs(bars[\"Low\"]-bars[\"Close\"].shift() ),dtype=np.float16 )\n",
        "\n",
        "  true_range = np.amax (np.hstack( (high_low, high_close, low_close) ).reshape(-1,3),axis=1 )\n",
        "  true_range = np.nan_to_num(true_range , nan=0)\n",
        "\n",
        "  avg_true_range = sma(true_range , period )  # takes average for 14 period\n",
        "\n",
        "  upper_band =   smoothed( close, 3)   + (multiplier * avg_true_range)\n",
        "  lower_band =   smoothed( close, 3)   - (multiplier * avg_true_range)\n",
        "\n",
        "  return  upper_band , lower_band"
      ]
    },
    {
      "cell_type": "code",
      "source": [
        "!pip install plotly"
      ],
      "metadata": {
        "colab": {
          "base_uri": "https://localhost:8080/"
        },
        "id": "sCW6p8hu0wAz",
        "outputId": "a05e0375-0425-4d8f-e695-6e30f0bef27b"
      },
      "id": "sCW6p8hu0wAz",
      "execution_count": null,
      "outputs": [
        {
          "output_type": "stream",
          "name": "stdout",
          "text": [
            "Requirement already satisfied: plotly in /usr/local/lib/python3.10/dist-packages (5.15.0)\n",
            "Requirement already satisfied: tenacity>=6.2.0 in /usr/local/lib/python3.10/dist-packages (from plotly) (8.2.3)\n",
            "Requirement already satisfied: packaging in /usr/local/lib/python3.10/dist-packages (from plotly) (23.2)\n"
          ]
        }
      ]
    },
    {
      "cell_type": "code",
      "source": [
        "!pip install pandas"
      ],
      "metadata": {
        "colab": {
          "base_uri": "https://localhost:8080/"
        },
        "id": "uWdKrYTk2Uuz",
        "outputId": "b85cb295-86bd-497f-daf1-5c7790c3d6ce"
      },
      "id": "uWdKrYTk2Uuz",
      "execution_count": null,
      "outputs": [
        {
          "output_type": "stream",
          "name": "stdout",
          "text": [
            "Requirement already satisfied: pandas in /usr/local/lib/python3.10/dist-packages (1.5.3)\n",
            "Requirement already satisfied: python-dateutil>=2.8.1 in /usr/local/lib/python3.10/dist-packages (from pandas) (2.8.2)\n",
            "Requirement already satisfied: pytz>=2020.1 in /usr/local/lib/python3.10/dist-packages (from pandas) (2023.3.post1)\n",
            "Requirement already satisfied: numpy>=1.21.0 in /usr/local/lib/python3.10/dist-packages (from pandas) (1.23.5)\n",
            "Requirement already satisfied: six>=1.5 in /usr/local/lib/python3.10/dist-packages (from python-dateutil>=2.8.1->pandas) (1.16.0)\n"
          ]
        }
      ]
    },
    {
      "cell_type": "code",
      "source": [
        "import csv\n",
        "\n",
        "# Specify the path to your CSV file\n",
        "csv_file_path = 'BTC-USD.csv'\n",
        "\n",
        "# Open the CSV file and read its contents\n",
        "with open(csv_file_path, 'r', newline='', encoding='utf-8') as file:\n",
        "    # Create a CSV reader object\n",
        "    csv_reader = csv.reader(file)\n",
        "\n",
        "    # Iterate over rows in the CSV file\n",
        "    for row in csv_reader:\n",
        "        # Each row is a list representing the values in that row\n",
        "        print(row)\n"
      ],
      "metadata": {
        "colab": {
          "base_uri": "https://localhost:8080/"
        },
        "id": "qbCfEDUM9EZi",
        "outputId": "9d4f94af-5364-438c-ed60-a6797a7dc925"
      },
      "id": "qbCfEDUM9EZi",
      "execution_count": null,
      "outputs": [
        {
          "output_type": "stream",
          "name": "stdout",
          "text": [
            "['{\"index\":{\"0\":1701280800000', '1:1701295200000', '2:1701309600000', '3:1701324000000', '4:1701338400000', '5:1701352800000', '6:1701367200000', '7:1701381600000', '8:1701396000000', '9:1701410400000', '10:1701424800000', '11:1701439200000', '12:1701453600000', '13:1701468000000}', 'symbol:{\"0\":\"BTC-USD\"', '1:\"BTC-USD\"', '2:\"BTC-USD\"', '3:\"BTC-USD\"', '4:\"BTC-USD\"', '5:\"BTC-USD\"', '6:\"BTC-USD\"', '7:\"BTC-USD\"', '8:\"BTC-USD\"', '9:\"BTC-USD\"', '10:\"BTC-USD\"', '11:\"BTC-USD\"', '12:\"BTC-USD\"', '13:\"BTC-USD\"}', 'heikin-ashi-ohlc:{\"0\":[38129.6015625', '38346.13671875', '38129.6015625', '38258.6953125]', '1:[38194.1484375', '38338.4765625', '38194.1484375', '38285.1640625]', '2:[38239.65625', '38698.18359375', '38239.65625', '38511.9609375]', '3:[38375.80859375', '38820.18359375', '38375.80859375', '38658.5390625]', '4:[38517.171875', '38658.2578125', '38517.171875', '38579.4296875]', '5:[38548.30078125', '38621.00390625', '38324.87890625', '38478.53125]', '6:[38513.4140625', '38513.4140625', '38321.828125', '38370.40625]', '7:[38441.91015625', '38441.91015625', '38249.33984375', '38336.41015625]', '8:[38389.16015625', '38442.6484375', '38296.52734375', '38374.01953125]', '9:[38381.58984375', '38954.109375', '38381.58984375', '38658.4296875]', '10:[38520.0078125', '38875.33203125', '38520.0078125', '38810.70703125]', '11:[38665.359375', '38861.69140625', '38665.359375', '38785.4609375]', '12:[38725.41015625', '38784.25390625', '38651.984375', '38735.80078125]', '13:[38730.60546875', '38785.35546875', '38730.60546875', '38767.07421875]}', 'Close:{\"0\":37778.88671875', '1:37668.1953125', '2:37789.51953125', '3:37987.80078125', '4:37661.234375', '5:37885.58984375', '6:37695.70703125', '7:37739.80859375', '8:37689.63671875', '9:38203.3046875', '10:38318.05859375', '11:38372.04296875', '12:38841.15625', '13:38753.26953125}', 'Fractal-Status:{\"0\":\"Neutral\"', '1:\"Neutral\"', '2:\"Neutral\"', '3:\"Red\"', '4:\"Neutral\"', '5:\"Neutral\"', '6:\"Neutral\"', '7:\"Neutral\"', '8:\"Neutral\"', '9:\"Red\"', '10:\"Neutral\"', '11:\"Neutral\"', '12:\"None\"', '13:\"None\"}', 'Heikin-Ashi-Status:{\"0\":\"Green\"', '1:\"Green\"', '2:\"Green\"', '3:\"Green\"', '4:\"Green\"', '5:\"Red\"', '6:\"Red\"', '7:\"Red\"', '8:\"Red\"', '9:\"Green\"', '10:\"Green\"', '11:\"Green\"', '12:\"Green\"', '13:\"Green\"}', 'Direction:{\"0\":1.0', '1:1.0', '2:1.0', '3:1.0', '4:1.0', '5:1.0', '6:1.0', '7:1.0', '8:1.0', '9:-1.0', '10:1.0', '11:1.0', '12:1.0', '13:1.0}', 'Average-Directional-Index:{\"0\":85.4769555729', '1:83.7418152024', '2:82.0312875981', '3:80.8811703773', '4:79.1271042343', '5:77.747634289', '6:75.5469909564', '7:74.8675243419', '8:74.0629705862', '9:74.3133187957', '10:74.7242549809', '11:75.7723366023', '12:76.8447149426', '13:77.6812892983}', 'Crossover:{\"0\":0.0', '1:0.0', '2:0.0', '3:0.0', '4:0.0', '5:0.0', '6:0.0', '7:0.0', '8:0.0', '9:-1.0', '10:0.0', '11:0.0', '12:0.0', '13:0.0}', 'Stop_Loss:{\"0\":23925.8671875', '1:26506.896484375', '2:28764.419921875', '3:30541.1391601562', '4:31767.4077148438', '5:32922.7583007812', '6:33718.6955566406', '7:34508.5925292969', '8:34928.7097167969', '9:40490.6232910156', '10:36158.8117675781', '11:36550.5367431641', '12:37219.6010742188', '13:37480.9625244141}', 'Take_Profit:{\"0\":51914.1328125', '1:49013.103515625', '2:46819.580078125', '3:45298.8608398438', '4:43752.5922851562', '5:42789.2416992188', '6:41801.3044433594', '7:41011.4074707031', '8:40527.2902832031', '9:35605.3767089844', '10:40321.1882324219', '11:40121.4632568359', '12:40156.3989257812', '13:39959.0374755859}', 'ema20:{\"0\":37696.0', '1:37696.0', '2:37696.0', '3:37696.0', '4:37728.0', '5:37728.0', '6:37728.0', '7:37728.0', '8:37728.0', '9:37728.0', '10:37760.0', '11:37824.0', '12:37888.0', '13:37984.0}', 'ema5:{\"0\":38048.0', '1:37952.0', '2:37856.0', '3:37824.0', '4:37888.0', '5:37824.0', '6:37856.0', '7:37792.0', '8:37760.0', '9:37728.0', '10:37888.0', '11:38016.0', '12:38144.0', '13:38368.0}', 'bb_lower:{\"0\":23925.8671875', '1:26506.896484375', '2:28764.419921875', '3:30541.1391601562', '4:31767.4077148438', '5:32922.7583007812', '6:33718.6955566406', '7:34508.5925292969', '8:34928.7097167969', '9:35605.3767089844', '10:36158.8117675781', '11:36550.5367431641', '12:37219.6010742188', '13:37480.9625244141}', 'bb_upper:{\"0\":51914.1328125', '1:49013.103515625', '2:46819.580078125', '3:45298.8608398438', '4:43752.5922851562', '5:42789.2416992188', '6:41801.3044433594', '7:41011.4074707031', '8:40527.2902832031', '9:40490.6232910156', '10:40321.1882324219', '11:40121.4632568359', '12:40156.3989257812', '13:39959.0374755859}', 'atr_lower:{\"0\":23925.8671875', '1:26506.896484375', '2:28764.419921875', '3:30541.1391601562', '4:31767.4077148438', '5:32922.7583007812', '6:33718.6955566406', '7:34508.5925292969', '8:34928.7097167969', '9:35605.3767089844', '10:36158.8117675781', '11:36550.5367431641', '12:37219.6010742188', '13:37480.9625244141}', 'atr_upper:{\"0\":51914.1328125', '1:49013.103515625', '2:46819.580078125', '3:45298.8608398438', '4:43752.5922851562', '5:42789.2416992188', '6:41801.3044433594', '7:41011.4074707031', '8:40527.2902832031', '9:40490.6232910156', '10:40321.1882324219', '11:40121.4632568359', '12:40156.3989257812', '13:39959.0374755859}}']\n"
          ]
        }
      ]
    },
    {
      "cell_type": "code",
      "source": [
        "import pandas as pd\n",
        "import numpy as np\n",
        "\n",
        "# Read CSV file into a pandas DataFrame\n",
        "csv_file_path = 'BTC-USD.csv'\n",
        "# df = pd.read_csv(csv_file_path)\n",
        "\n",
        "# # Convert pandas DataFrame to NumPy structured array\n",
        "# structured_array = df.to_records(index=False)\n",
        "\n",
        "# # Now structured_array is a NumPy structured array containing the data from the CSV file\n",
        "# print(structured_array)\n",
        "\n",
        "\n",
        "# Read CSV file without specifying index or columns\n",
        "df = pd.read_csv(csv_file_path)\n",
        "# df = df.transpose()\n",
        "\n",
        "# If you want to reset the index\n",
        "# df.reset_index(drop=True, inplace=True)\n",
        "\n",
        "# Display the DataFrame\n",
        "print(df)\n",
        "\n"
      ],
      "metadata": {
        "colab": {
          "base_uri": "https://localhost:8080/"
        },
        "id": "YNsxyE9K1mDj",
        "outputId": "e743f68d-ecf7-4098-e6c6-c2d895bca811"
      },
      "id": "YNsxyE9K1mDj",
      "execution_count": null,
      "outputs": [
        {
          "output_type": "stream",
          "name": "stdout",
          "text": [
            "Empty DataFrame\n",
            "Columns: [{\"index\":{\"0\":1701280800000, 1:1701295200000, 2:1701309600000, 3:1701324000000, 4:1701338400000, 5:1701352800000, 6:1701367200000, 7:1701381600000, 8:1701396000000, 9:1701410400000, 10:1701424800000, 11:1701439200000, 12:1701453600000, 13:1701468000000}, symbol:{\"0\":\"BTC-USD\", 1:\"BTC-USD\", 2:\"BTC-USD\", 3:\"BTC-USD\", 4:\"BTC-USD\", 5:\"BTC-USD\", 6:\"BTC-USD\", 7:\"BTC-USD\", 8:\"BTC-USD\", 9:\"BTC-USD\", 10:\"BTC-USD\", 11:\"BTC-USD\", 12:\"BTC-USD\", 13:\"BTC-USD\"}, heikin-ashi-ohlc:{\"0\":[38129.6015625, 38346.13671875, 38129.6015625, 38258.6953125], 1:[38194.1484375, 38338.4765625, 38194.1484375, 38285.1640625], 2:[38239.65625, 38698.18359375, 38239.65625, 38511.9609375], 3:[38375.80859375, 38820.18359375, 38375.80859375, 38658.5390625], 4:[38517.171875, 38658.2578125, 38517.171875, 38579.4296875], 5:[38548.30078125, 38621.00390625, 38324.87890625, 38478.53125], 6:[38513.4140625, 38513.4140625, 38321.828125, 38370.40625], 7:[38441.91015625, 38441.91015625, 38249.33984375, 38336.41015625], 8:[38389.16015625, 38442.6484375, 38296.52734375, 38374.01953125], 9:[38381.58984375, 38954.109375, 38381.58984375, 38658.4296875], 10:[38520.0078125, 38875.33203125, 38520.0078125, 38810.70703125], 11:[38665.359375, 38861.69140625, 38665.359375, 38785.4609375], 12:[38725.41015625, 38784.25390625, 38651.984375, 38735.80078125], 13:[38730.60546875, 38785.35546875, 38730.60546875, 38767.07421875]}, Close:{\"0\":37778.88671875, 1:37668.1953125, 2:37789.51953125, 3:37987.80078125, 4:37661.234375, 5:37885.58984375, 6:37695.70703125, 7:37739.80859375, 8:37689.63671875, 9:38203.3046875, 10:38318.05859375, 11:38372.04296875, 12:38841.15625, 13:38753.26953125}, Fractal-Status:{\"0\":\"Neutral\", 1:\"Neutral\", ...]\n",
            "Index: []\n",
            "\n",
            "[0 rows x 280 columns]\n"
          ]
        }
      ]
    },
    {
      "cell_type": "code",
      "execution_count": null,
      "id": "68fb0de0",
      "metadata": {
        "id": "68fb0de0"
      },
      "outputs": [],
      "source": [
        "import plotly.graph_objects as go\n",
        "import plotly.express as px\n",
        "from plotly.subplots import make_subplots\n",
        "\"\"\"\n",
        "## Example\n",
        "bar = yfinance or inclusive bar[\"High\"]  bar[\"Low\"] bar[\"Close\"]\n",
        "plot_candles_atr(bar , index=None   )\n",
        "\n",
        "\"\"\"\n",
        "\n",
        "\n",
        "\n",
        "def plot_candles_atr(bar , index=None):\n",
        "  fig = make_subplots(rows=2, cols=1)\n",
        "  fig= go.Figure(data= [go.Candlestick(x=bar.index.values if not index else bar.index.values[index:], open=bar[\"Open\"] if not index else bar[\"Open\"][index:]\n",
        "      ,high=bar[\"High\"] if not index else bar[\"High\"][index:] , low=bar[\"Low\"] if not index else bar[\"Low\"][index:]  ,close=bar[\"Close\"] if not index else bar[\"Close\"][index:])])\n",
        "\n",
        "\n",
        "  fig.add_scatter( name=\"upper_band\" ,x=bar.index.values  , y=bar['upper_band'], mode='lines' , line=dict(color='yellow', width=1.5))\n",
        "\n",
        "  fig.add_scatter( name=\"lower_band\" ,x=bar.index.values  , y=bar['lower_band'], mode='lines' , line=dict(color='yellow', width=1.5))\n",
        "\n",
        "\n",
        "  # fig.add_scatter( name=\"Average_True_Range\" , x=bars.index.values  , y=bars['Average_True_Range'], mode='lines' , line=dict(color='yellow', width=1.5) )\n",
        "  fig.update_layout(yaxis_tickformat = \".5f\")\n",
        "  # yaxis=\"tickformat': 5.f\" )\n",
        "                    # {'tickformat': '5.f'})\n",
        "\n",
        "\n",
        "  fig.update_layout(plot_bgcolor='rgb(8, 14, 44)')\n",
        "  fig.update_xaxes(showline=True, linewidth=2, linecolor='white' , gridcolor='rgb(8, 14, 44)')\n",
        "  fig.update_yaxes(showline=True, linewidth=2, linecolor='white' , gridcolor='grey')\n",
        "  # fig.update_layout(title=f'{title}')\n",
        "  fig.show()"
      ]
    }
  ],
  "metadata": {
    "kernelspec": {
      "display_name": "Python 3 (ipykernel)",
      "language": "python",
      "name": "python3"
    },
    "language_info": {
      "codemirror_mode": {
        "name": "ipython",
        "version": 3
      },
      "file_extension": ".py",
      "mimetype": "text/x-python",
      "name": "python",
      "nbconvert_exporter": "python",
      "pygments_lexer": "ipython3",
      "version": "3.9.12"
    },
    "colab": {
      "provenance": []
    }
  },
  "nbformat": 4,
  "nbformat_minor": 5
}